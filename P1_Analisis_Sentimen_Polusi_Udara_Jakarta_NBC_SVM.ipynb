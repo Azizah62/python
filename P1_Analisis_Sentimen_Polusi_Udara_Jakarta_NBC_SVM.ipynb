{
  "cells": [
    {
      "cell_type": "markdown",
      "source": [
        "# Crawl Data Twitter > 1500 Tweets\n",
        "The crawling process was done using Tweet-Harvest. Written by Helmi Satria on October 18th."
      ],
      "metadata": {
        "id": "xEWpayxURuUn"
      }
    },
    {
      "cell_type": "markdown",
      "source": [],
      "metadata": {
        "id": "zTFuMpzG4083"
      }
    },
    {
      "cell_type": "code",
      "source": [
        "#@title Twitter Auth Token\n",
        "\n",
        "twitter_auth_token = '88302bc4fb89ade5ab8552082b1e5b08b84aa874'"
      ],
      "metadata": {
        "id": "6S00x_f6-GeD"
      },
      "execution_count": null,
      "outputs": []
    },
    {
      "cell_type": "code",
      "execution_count": null,
      "metadata": {
        "collapsed": true,
        "id": "4UIL1x21P9rQ",
        "colab": {
          "base_uri": "https://localhost:8080/"
        },
        "outputId": "bf5384ec-0d4e-4ee3-a8ac-4a82b64c8c4d"
      },
      "outputs": [
        {
          "output_type": "stream",
          "name": "stdout",
          "text": [
            "Requirement already satisfied: pandas in /usr/local/lib/python3.10/dist-packages (1.5.3)\n",
            "Requirement already satisfied: python-dateutil>=2.8.1 in /usr/local/lib/python3.10/dist-packages (from pandas) (2.8.2)\n",
            "Requirement already satisfied: pytz>=2020.1 in /usr/local/lib/python3.10/dist-packages (from pandas) (2023.4)\n",
            "Requirement already satisfied: numpy>=1.21.0 in /usr/local/lib/python3.10/dist-packages (from pandas) (1.25.2)\n",
            "Requirement already satisfied: six>=1.5 in /usr/local/lib/python3.10/dist-packages (from python-dateutil>=2.8.1->pandas) (1.16.0)\n",
            "Get:1 http://security.ubuntu.com/ubuntu jammy-security InRelease [110 kB]\n",
            "Hit:2 http://archive.ubuntu.com/ubuntu jammy InRelease\n",
            "Get:3 http://archive.ubuntu.com/ubuntu jammy-updates InRelease [119 kB]\n",
            "Get:4 https://developer.download.nvidia.com/compute/cuda/repos/ubuntu2204/x86_64  InRelease [1,581 B]\n",
            "Get:5 https://cloud.r-project.org/bin/linux/ubuntu jammy-cran40/ InRelease [3,626 B]\n",
            "Get:6 http://archive.ubuntu.com/ubuntu jammy-backports InRelease [109 kB]\n",
            "Get:7 https://developer.download.nvidia.com/compute/cuda/repos/ubuntu2204/x86_64  Packages [737 kB]\n",
            "Hit:8 https://ppa.launchpadcontent.net/c2d4u.team/c2d4u4.0+/ubuntu jammy InRelease\n",
            "Hit:9 https://ppa.launchpadcontent.net/deadsnakes/ppa/ubuntu jammy InRelease\n",
            "Get:10 http://security.ubuntu.com/ubuntu jammy-security/restricted amd64 Packages [1,961 kB]\n",
            "Hit:11 https://ppa.launchpadcontent.net/graphics-drivers/ppa/ubuntu jammy InRelease\n",
            "Hit:12 https://ppa.launchpadcontent.net/ubuntugis/ppa/ubuntu jammy InRelease\n",
            "Get:13 http://archive.ubuntu.com/ubuntu jammy-updates/universe amd64 Packages [1,354 kB]\n",
            "Get:14 http://security.ubuntu.com/ubuntu jammy-security/main amd64 Packages [1,569 kB]\n",
            "Get:15 http://archive.ubuntu.com/ubuntu jammy-updates/restricted amd64 Packages [1,998 kB]\n",
            "Get:16 http://archive.ubuntu.com/ubuntu jammy-updates/main amd64 Packages [1,848 kB]\n",
            "Fetched 9,809 kB in 2s (5,665 kB/s)\n",
            "Reading package lists... Done\n",
            "Reading package lists... Done\n",
            "Building dependency tree... Done\n",
            "Reading state information... Done\n",
            "ca-certificates is already the newest version (20230311ubuntu0.22.04.1).\n",
            "curl is already the newest version (7.81.0-1ubuntu1.15).\n",
            "gnupg is already the newest version (2.2.27-3ubuntu2.1).\n",
            "gnupg set to manually installed.\n",
            "0 upgraded, 0 newly installed, 0 to remove and 38 not upgraded.\n",
            "deb [signed-by=/etc/apt/keyrings/nodesource.gpg] https://deb.nodesource.com/node_20.x nodistro main\n",
            "Hit:1 http://security.ubuntu.com/ubuntu jammy-security InRelease\n",
            "Hit:2 http://archive.ubuntu.com/ubuntu jammy InRelease\n",
            "Hit:3 http://archive.ubuntu.com/ubuntu jammy-updates InRelease\n",
            "Hit:4 https://cloud.r-project.org/bin/linux/ubuntu jammy-cran40/ InRelease\n",
            "Hit:5 http://archive.ubuntu.com/ubuntu jammy-backports InRelease\n",
            "Hit:6 https://developer.download.nvidia.com/compute/cuda/repos/ubuntu2204/x86_64  InRelease\n",
            "Get:7 https://deb.nodesource.com/node_20.x nodistro InRelease [12.1 kB]\n",
            "Hit:8 https://ppa.launchpadcontent.net/c2d4u.team/c2d4u4.0+/ubuntu jammy InRelease\n",
            "Hit:9 https://ppa.launchpadcontent.net/deadsnakes/ppa/ubuntu jammy InRelease\n",
            "Hit:10 https://ppa.launchpadcontent.net/graphics-drivers/ppa/ubuntu jammy InRelease\n",
            "Hit:11 https://ppa.launchpadcontent.net/ubuntugis/ppa/ubuntu jammy InRelease\n",
            "Get:12 https://deb.nodesource.com/node_20.x nodistro/main amd64 Packages [5,184 B]\n",
            "Fetched 17.3 kB in 1s (13.3 kB/s)\n",
            "Reading package lists... Done\n",
            "Reading package lists... Done\n",
            "Building dependency tree... Done\n",
            "Reading state information... Done\n",
            "The following NEW packages will be installed:\n",
            "  nodejs\n",
            "0 upgraded, 1 newly installed, 0 to remove and 38 not upgraded.\n",
            "Need to get 31.4 MB of archives.\n",
            "After this operation, 195 MB of additional disk space will be used.\n",
            "Get:1 https://deb.nodesource.com/node_20.x nodistro/main amd64 nodejs amd64 20.11.1-1nodesource1 [31.4 MB]\n",
            "Fetched 31.4 MB in 1s (54.9 MB/s)\n",
            "debconf: unable to initialize frontend: Dialog\n",
            "debconf: (No usable dialog-like program is installed, so the dialog based frontend cannot be used. at /usr/share/perl5/Debconf/FrontEnd/Dialog.pm line 78, <> line 1.)\n",
            "debconf: falling back to frontend: Readline\n",
            "debconf: unable to initialize frontend: Readline\n",
            "debconf: (This frontend requires a controlling tty.)\n",
            "debconf: falling back to frontend: Teletype\n",
            "dpkg-preconfigure: unable to re-open stdin: \n",
            "Selecting previously unselected package nodejs.\n",
            "(Reading database ... 121752 files and directories currently installed.)\n",
            "Preparing to unpack .../nodejs_20.11.1-1nodesource1_amd64.deb ...\n",
            "Unpacking nodejs (20.11.1-1nodesource1) ...\n",
            "Setting up nodejs (20.11.1-1nodesource1) ...\n",
            "Processing triggers for man-db (2.10.2-1) ...\n",
            "v20.11.1\n"
          ]
        }
      ],
      "source": [
        "# Import required Python package\n",
        "!pip install pandas\n",
        "\n",
        "# Install Node.js (because tweet-harvest built using Node.js)\n",
        "!sudo apt-get update\n",
        "!sudo apt-get install -y ca-certificates curl gnupg\n",
        "!sudo mkdir -p /etc/apt/keyrings\n",
        "!curl -fsSL https://deb.nodesource.com/gpgkey/nodesource-repo.gpg.key | sudo gpg --dearmor -o /etc/apt/keyrings/nodesource.gpg\n",
        "\n",
        "!NODE_MAJOR=20 && echo \"deb [signed-by=/etc/apt/keyrings/nodesource.gpg] https://deb.nodesource.com/node_$NODE_MAJOR.x nodistro main\" | sudo tee /etc/apt/sources.list.d/nodesource.list\n",
        "\n",
        "!sudo apt-get update\n",
        "!sudo apt-get install nodejs -y\n",
        "\n",
        "!node -v"
      ]
    },
    {
      "cell_type": "code",
      "source": [
        "# Crawl Data\n",
        "\n",
        "filename = 'tweet-polusiudara.csv'\n",
        "search_keyword = 'polusi udara jakarta until:2023-08-31 since:2023-08-01'\n",
        "limit = 500\n",
        "\n",
        "!npx --yes tweet-harvest@2.2.8 -o \"{filename}\" -s \"{search_keyword}\" -l {limit} --token {twitter_auth_token}"
      ],
      "metadata": {
        "id": "LYDR51dJlVlX",
        "colab": {
          "base_uri": "https://localhost:8080/"
        },
        "outputId": "fc89249a-3cf9-42d5-b5da-fc4858afa23b"
      },
      "execution_count": null,
      "outputs": [
        {
          "output_type": "stream",
          "name": "stdout",
          "text": [
            "\u001b[K\u001b[?25h\u001b[1m\u001b[22m\n",
            "\u001b[1mWelcome to the Twitter Crawler 🕷️\u001b[22m\n",
            "\u001b[1m\u001b[22m\n",
            "This script uses Chromium Browser to crawl data from Twitter with *your* Twitter auth token.\n",
            "Please enter your Twitter auth token when prompted.\n",
            "\n",
            "Note: Keep your access token secret! Don't share it with anyone else.\n",
            "Note: This script only runs on your local device.\n",
            "\n",
            "\u001b[K\u001b[?25h\n",
            "added 3 packages in 1s\n",
            "Installing dependencies...\n",
            "Hit:1 http://archive.ubuntu.com/ubuntu jammy InRelease\n",
            "Hit:2 http://archive.ubuntu.com/ubuntu jammy-updates InRelease\n",
            "Hit:3 http://archive.ubuntu.com/ubuntu jammy-backports InRelease\n",
            "Hit:4 https://developer.download.nvidia.com/compute/cuda/repos/ubuntu2204/x86_64  InRelease\n",
            "Hit:5 https://deb.nodesource.com/node_20.x nodistro InRelease\n",
            "Hit:6 https://cloud.r-project.org/bin/linux/ubuntu jammy-cran40/ InRelease\n",
            "Hit:7 http://security.ubuntu.com/ubuntu jammy-security InRelease\n",
            "Hit:8 https://ppa.launchpadcontent.net/c2d4u.team/c2d4u4.0+/ubuntu jammy InRelease\n",
            "Hit:9 https://ppa.launchpadcontent.net/deadsnakes/ppa/ubuntu jammy InRelease\n",
            "Hit:10 https://ppa.launchpadcontent.net/graphics-drivers/ppa/ubuntu jammy InRelease\n",
            "Hit:11 https://ppa.launchpadcontent.net/ubuntugis/ppa/ubuntu jammy InRelease\n",
            "Reading package lists... Done\n",
            "Reading package lists... Done\n",
            "Building dependency tree... Done\n",
            "Reading state information... Done\n",
            "fonts-liberation is already the newest version (1:1.07.4-11).\n",
            "libasound2 is already the newest version (1.2.6.1-1ubuntu1).\n",
            "libasound2 set to manually installed.\n",
            "libatk-bridge2.0-0 is already the newest version (2.38.0-3).\n",
            "libatk-bridge2.0-0 set to manually installed.\n",
            "libatk1.0-0 is already the newest version (2.36.0-3build1).\n",
            "libatk1.0-0 set to manually installed.\n",
            "libatspi2.0-0 is already the newest version (2.44.0-3).\n",
            "libatspi2.0-0 set to manually installed.\n",
            "libcairo2 is already the newest version (1.16.0-5ubuntu2).\n",
            "libcairo2 set to manually installed.\n",
            "libfontconfig1 is already the newest version (2.13.1-4.2ubuntu5).\n",
            "libfontconfig1 set to manually installed.\n",
            "libnspr4 is already the newest version (2:4.32-3build1).\n",
            "libnspr4 set to manually installed.\n",
            "libxcb1 is already the newest version (1.14-3ubuntu3).\n",
            "libxcb1 set to manually installed.\n",
            "libxcomposite1 is already the newest version (1:0.4.5-1build2).\n",
            "libxcomposite1 set to manually installed.\n",
            "libxdamage1 is already the newest version (1:1.1.5-2build2).\n",
            "libxdamage1 set to manually installed.\n",
            "libxext6 is already the newest version (2:1.3.4-1build1).\n",
            "libxfixes3 is already the newest version (1:6.0.0-1).\n",
            "libxfixes3 set to manually installed.\n",
            "libxkbcommon0 is already the newest version (1.4.0-1).\n",
            "libxkbcommon0 set to manually installed.\n",
            "libxrandr2 is already the newest version (2:1.5.2-1build1).\n",
            "libxrandr2 set to manually installed.\n",
            "libcups2 is already the newest version (2.4.1op1-1ubuntu4.8).\n",
            "libcups2 set to manually installed.\n",
            "libdbus-1-3 is already the newest version (1.12.20-2ubuntu4.1).\n",
            "libdbus-1-3 set to manually installed.\n",
            "libdrm2 is already the newest version (2.4.113-2~ubuntu0.22.04.1).\n",
            "libdrm2 set to manually installed.\n",
            "libfreetype6 is already the newest version (2.11.1+dfsg-1ubuntu0.2).\n",
            "libfreetype6 set to manually installed.\n",
            "libgbm1 is already the newest version (23.2.1-1ubuntu3.1~22.04.2).\n",
            "libgbm1 set to manually installed.\n",
            "libglib2.0-0 is already the newest version (2.72.4-0ubuntu2.2).\n",
            "libglib2.0-0 set to manually installed.\n",
            "libnss3 is already the newest version (2:3.68.2-0ubuntu1.2).\n",
            "libnss3 set to manually installed.\n",
            "libpango-1.0-0 is already the newest version (1.50.6+ds-2ubuntu1).\n",
            "libpango-1.0-0 set to manually installed.\n",
            "libwayland-client0 is already the newest version (1.20.0-1ubuntu0.1).\n",
            "libwayland-client0 set to manually installed.\n",
            "libx11-6 is already the newest version (2:1.7.5-1ubuntu0.3).\n",
            "libx11-6 set to manually installed.\n",
            "The following additional packages will be installed:\n",
            "  libfontenc1 libxfont2 libxkbfile1 x11-xkb-utils xfonts-encodings xfonts-utils xserver-common\n",
            "Recommended packages:\n",
            "  fonts-ipafont-mincho fonts-tlwg-loma xfonts-base\n",
            "The following NEW packages will be installed:\n",
            "  fonts-freefont-ttf fonts-ipafont-gothic fonts-noto-color-emoji fonts-tlwg-loma-otf fonts-unifont\n",
            "  fonts-wqy-zenhei libfontenc1 libxfont2 libxkbfile1 x11-xkb-utils xfonts-cyrillic xfonts-encodings\n",
            "  xfonts-scalable xfonts-utils xserver-common xvfb\n",
            "0 upgraded, 16 newly installed, 0 to remove and 38 not upgraded.\n",
            "Need to get 29.6 MB of archives.\n",
            "After this operation, 71.3 MB of additional disk space will be used.\n",
            "Get:1 http://archive.ubuntu.com/ubuntu jammy/universe amd64 fonts-ipafont-gothic all 00303-21ubuntu1 [3,513 kB]\n",
            "Get:2 http://archive.ubuntu.com/ubuntu jammy/main amd64 fonts-freefont-ttf all 20120503-10build1 [2,388 kB]\n",
            "Get:3 http://archive.ubuntu.com/ubuntu jammy-updates/main amd64 fonts-noto-color-emoji all 2.042-0ubuntu0.22.04.1 [9,944 kB]\n",
            "Get:4 http://archive.ubuntu.com/ubuntu jammy/universe amd64 fonts-tlwg-loma-otf all 1:0.7.3-1 [107 kB]\n",
            "Get:5 http://archive.ubuntu.com/ubuntu jammy/universe amd64 fonts-unifont all 1:14.0.01-1 [3,551 kB]\n",
            "Get:6 http://archive.ubuntu.com/ubuntu jammy/universe amd64 fonts-wqy-zenhei all 0.9.45-8 [7,472 kB]\n",
            "Get:7 http://archive.ubuntu.com/ubuntu jammy/main amd64 libfontenc1 amd64 1:1.1.4-1build3 [14.7 kB]\n",
            "Get:8 http://archive.ubuntu.com/ubuntu jammy/main amd64 libxfont2 amd64 1:2.0.5-1build1 [94.5 kB]\n",
            "Get:9 http://archive.ubuntu.com/ubuntu jammy/main amd64 libxkbfile1 amd64 1:1.1.0-1build3 [71.8 kB]\n",
            "Get:10 http://archive.ubuntu.com/ubuntu jammy/main amd64 x11-xkb-utils amd64 7.7+5build4 [172 kB]\n",
            "Get:11 http://archive.ubuntu.com/ubuntu jammy/main amd64 xfonts-encodings all 1:1.0.5-0ubuntu2 [578 kB]\n",
            "Get:12 http://archive.ubuntu.com/ubuntu jammy/main amd64 xfonts-utils amd64 1:7.7+6build2 [94.6 kB]\n",
            "Get:13 http://archive.ubuntu.com/ubuntu jammy/universe amd64 xfonts-cyrillic all 1:1.0.5 [386 kB]\n",
            "Get:14 http://archive.ubuntu.com/ubuntu jammy/main amd64 xfonts-scalable all 1:1.0.3-1.2ubuntu1 [306 kB]\n",
            "Get:15 http://archive.ubuntu.com/ubuntu jammy-updates/main amd64 xserver-common all 2:21.1.4-2ubuntu1.7~22.04.8 [28.6 kB]\n",
            "Get:16 http://archive.ubuntu.com/ubuntu jammy-updates/universe amd64 xvfb amd64 2:21.1.4-2ubuntu1.7~22.04.8 [863 kB]\n",
            "Fetched 29.6 MB in 3s (10.4 MB/s)\n",
            "Selecting previously unselected package fonts-ipafont-gothic.\n",
            "(Reading database ... 127301 files and directories currently installed.)\n",
            "Preparing to unpack .../00-fonts-ipafont-gothic_00303-21ubuntu1_all.deb ...\n",
            "Unpacking fonts-ipafont-gothic (00303-21ubuntu1) ...\n",
            "Selecting previously unselected package fonts-freefont-ttf.\n",
            "Preparing to unpack .../01-fonts-freefont-ttf_20120503-10build1_all.deb ...\n",
            "Unpacking fonts-freefont-ttf (20120503-10build1) ...\n",
            "Selecting previously unselected package fonts-noto-color-emoji.\n",
            "Preparing to unpack .../02-fonts-noto-color-emoji_2.042-0ubuntu0.22.04.1_all.deb ...\n",
            "Unpacking fonts-noto-color-emoji (2.042-0ubuntu0.22.04.1) ...\n",
            "Selecting previously unselected package fonts-tlwg-loma-otf.\n",
            "Preparing to unpack .../03-fonts-tlwg-loma-otf_1%3a0.7.3-1_all.deb ...\n",
            "Unpacking fonts-tlwg-loma-otf (1:0.7.3-1) ...\n",
            "Selecting previously unselected package fonts-unifont.\n",
            "Preparing to unpack .../04-fonts-unifont_1%3a14.0.01-1_all.deb ...\n",
            "Unpacking fonts-unifont (1:14.0.01-1) ...\n",
            "Selecting previously unselected package fonts-wqy-zenhei.\n",
            "Preparing to unpack .../05-fonts-wqy-zenhei_0.9.45-8_all.deb ...\n",
            "Unpacking fonts-wqy-zenhei (0.9.45-8) ...\n",
            "Selecting previously unselected package libfontenc1:amd64.\n",
            "Preparing to unpack .../06-libfontenc1_1%3a1.1.4-1build3_amd64.deb ...\n",
            "Unpacking libfontenc1:amd64 (1:1.1.4-1build3) ...\n",
            "Selecting previously unselected package libxfont2:amd64.\n",
            "Preparing to unpack .../07-libxfont2_1%3a2.0.5-1build1_amd64.deb ...\n",
            "Unpacking libxfont2:amd64 (1:2.0.5-1build1) ...\n",
            "Selecting previously unselected package libxkbfile1:amd64.\n",
            "Preparing to unpack .../08-libxkbfile1_1%3a1.1.0-1build3_amd64.deb ...\n",
            "Unpacking libxkbfile1:amd64 (1:1.1.0-1build3) ...\n",
            "Selecting previously unselected package x11-xkb-utils.\n",
            "Preparing to unpack .../09-x11-xkb-utils_7.7+5build4_amd64.deb ...\n",
            "Unpacking x11-xkb-utils (7.7+5build4) ...\n",
            "Selecting previously unselected package xfonts-encodings.\n",
            "Preparing to unpack .../10-xfonts-encodings_1%3a1.0.5-0ubuntu2_all.deb ...\n",
            "Unpacking xfonts-encodings (1:1.0.5-0ubuntu2) ...\n",
            "Selecting previously unselected package xfonts-utils.\n",
            "Preparing to unpack .../11-xfonts-utils_1%3a7.7+6build2_amd64.deb ...\n",
            "Unpacking xfonts-utils (1:7.7+6build2) ...\n",
            "Selecting previously unselected package xfonts-cyrillic.\n",
            "Preparing to unpack .../12-xfonts-cyrillic_1%3a1.0.5_all.deb ...\n",
            "Unpacking xfonts-cyrillic (1:1.0.5) ...\n",
            "Selecting previously unselected package xfonts-scalable.\n",
            "Preparing to unpack .../13-xfonts-scalable_1%3a1.0.3-1.2ubuntu1_all.deb ...\n",
            "Unpacking xfonts-scalable (1:1.0.3-1.2ubuntu1) ...\n",
            "Selecting previously unselected package xserver-common.\n",
            "Preparing to unpack .../14-xserver-common_2%3a21.1.4-2ubuntu1.7~22.04.8_all.deb ...\n",
            "Unpacking xserver-common (2:21.1.4-2ubuntu1.7~22.04.8) ...\n",
            "Selecting previously unselected package xvfb.\n",
            "Preparing to unpack .../15-xvfb_2%3a21.1.4-2ubuntu1.7~22.04.8_amd64.deb ...\n",
            "Unpacking xvfb (2:21.1.4-2ubuntu1.7~22.04.8) ...\n",
            "Setting up fonts-noto-color-emoji (2.042-0ubuntu0.22.04.1) ...\n",
            "Setting up fonts-wqy-zenhei (0.9.45-8) ...\n",
            "Setting up fonts-freefont-ttf (20120503-10build1) ...\n",
            "Setting up libfontenc1:amd64 (1:1.1.4-1build3) ...\n",
            "Setting up fonts-tlwg-loma-otf (1:0.7.3-1) ...\n",
            "Setting up xfonts-encodings (1:1.0.5-0ubuntu2) ...\n",
            "Setting up fonts-ipafont-gothic (00303-21ubuntu1) ...\n",
            "update-alternatives: using /usr/share/fonts/opentype/ipafont-gothic/ipag.ttf to provide /usr/share/fonts/truetype/fonts-japanese-gothic.ttf (fonts-japanese-gothic.ttf) in auto mode\n",
            "Setting up libxkbfile1:amd64 (1:1.1.0-1build3) ...\n",
            "Setting up libxfont2:amd64 (1:2.0.5-1build1) ...\n",
            "Setting up fonts-unifont (1:14.0.01-1) ...\n",
            "Setting up x11-xkb-utils (7.7+5build4) ...\n",
            "Setting up xfonts-utils (1:7.7+6build2) ...\n",
            "Setting up xfonts-cyrillic (1:1.0.5) ...\n",
            "Setting up xserver-common (2:21.1.4-2ubuntu1.7~22.04.8) ...\n",
            "Setting up xfonts-scalable (1:1.0.3-1.2ubuntu1) ...\n",
            "Setting up xvfb (2:21.1.4-2ubuntu1.7~22.04.8) ...\n",
            "Processing triggers for man-db (2.10.2-1) ...\n",
            "Processing triggers for fontconfig (2.13.1-4.2ubuntu5) ...\n",
            "Processing triggers for libc-bin (2.35-0ubuntu3.4) ...\n",
            "/sbin/ldconfig.real: /usr/local/lib/libtbbmalloc.so.2 is not a symbolic link\n",
            "\n",
            "/sbin/ldconfig.real: /usr/local/lib/libtbb.so.12 is not a symbolic link\n",
            "\n",
            "/sbin/ldconfig.real: /usr/local/lib/libtbbbind_2_0.so.3 is not a symbolic link\n",
            "\n",
            "/sbin/ldconfig.real: /usr/local/lib/libtbbbind.so.3 is not a symbolic link\n",
            "\n",
            "/sbin/ldconfig.real: /usr/local/lib/libtbbbind_2_5.so.3 is not a symbolic link\n",
            "\n",
            "/sbin/ldconfig.real: /usr/local/lib/libtbbmalloc_proxy.so.2 is not a symbolic link\n",
            "\n",
            "Downloading Chromium 123.0.6312.4 (playwright build v1105)\u001b[2m from https://playwright.azureedge.net/builds/chromium/1105/chromium-linux.zip\u001b[22m\n",
            "\u001b[1G154.7 MiB [] 0% 0.0s\u001b[0K\u001b[1G154.7 MiB [] 0% 26.5s\u001b[0K\u001b[1G154.7 MiB [] 0% 21.8s\u001b[0K\u001b[1G154.7 MiB [] 0% 10.1s\u001b[0K\u001b[1G154.7 MiB [] 0% 6.7s\u001b[0K\u001b[1G154.7 MiB [] 1% 4.8s\u001b[0K\u001b[1G154.7 MiB [] 2% 3.9s\u001b[0K\u001b[1G154.7 MiB [] 3% 3.7s\u001b[0K\u001b[1G154.7 MiB [] 4% 3.4s\u001b[0K\u001b[1G154.7 MiB [] 5% 3.3s\u001b[0K\u001b[1G154.7 MiB [] 5% 3.1s\u001b[0K\u001b[1G154.7 MiB [] 6% 3.0s\u001b[0K\u001b[1G154.7 MiB [] 7% 2.9s\u001b[0K\u001b[1G154.7 MiB [] 8% 2.8s\u001b[0K\u001b[1G154.7 MiB [] 8% 2.7s\u001b[0K\u001b[1G154.7 MiB [] 9% 2.6s\u001b[0K\u001b[1G154.7 MiB [] 10% 2.6s\u001b[0K\u001b[1G154.7 MiB [] 10% 2.5s\u001b[0K\u001b[1G154.7 MiB [] 11% 2.5s\u001b[0K\u001b[1G154.7 MiB [] 12% 2.5s\u001b[0K\u001b[1G154.7 MiB [] 13% 2.4s\u001b[0K\u001b[1G154.7 MiB [] 14% 2.3s\u001b[0K\u001b[1G154.7 MiB [] 15% 2.3s\u001b[0K\u001b[1G154.7 MiB [] 16% 2.2s\u001b[0K\u001b[1G154.7 MiB [] 17% 2.2s\u001b[0K\u001b[1G154.7 MiB [] 18% 2.1s\u001b[0K\u001b[1G154.7 MiB [] 19% 2.0s\u001b[0K\u001b[1G154.7 MiB [] 20% 1.9s\u001b[0K\u001b[1G154.7 MiB [] 21% 1.9s\u001b[0K\u001b[1G154.7 MiB [] 23% 1.8s\u001b[0K\u001b[1G154.7 MiB [] 24% 1.7s\u001b[0K\u001b[1G154.7 MiB [] 25% 1.7s\u001b[0K\u001b[1G154.7 MiB [] 26% 1.7s\u001b[0K\u001b[1G154.7 MiB [] 27% 1.6s\u001b[0K\u001b[1G154.7 MiB [] 28% 1.6s\u001b[0K\u001b[1G154.7 MiB [] 30% 1.5s\u001b[0K\u001b[1G154.7 MiB [] 31% 1.5s\u001b[0K\u001b[1G154.7 MiB [] 32% 1.4s\u001b[0K\u001b[1G154.7 MiB [] 33% 1.4s\u001b[0K\u001b[1G154.7 MiB [] 34% 1.4s\u001b[0K\u001b[1G154.7 MiB [] 35% 1.4s\u001b[0K\u001b[1G154.7 MiB [] 36% 1.3s\u001b[0K\u001b[1G154.7 MiB [] 37% 1.3s\u001b[0K\u001b[1G154.7 MiB [] 38% 1.3s\u001b[0K\u001b[1G154.7 MiB [] 39% 1.2s\u001b[0K\u001b[1G154.7 MiB [] 41% 1.2s\u001b[0K\u001b[1G154.7 MiB [] 42% 1.2s\u001b[0K\u001b[1G154.7 MiB [] 43% 1.1s\u001b[0K\u001b[1G154.7 MiB [] 44% 1.1s\u001b[0K\u001b[1G154.7 MiB [] 45% 1.1s\u001b[0K\u001b[1G154.7 MiB [] 46% 1.0s\u001b[0K\u001b[1G154.7 MiB [] 47% 1.0s\u001b[0K\u001b[1G154.7 MiB [] 48% 1.0s\u001b[0K\u001b[1G154.7 MiB [] 49% 1.0s\u001b[0K\u001b[1G154.7 MiB [] 50% 0.9s\u001b[0K\u001b[1G154.7 MiB [] 51% 0.9s\u001b[0K\u001b[1G154.7 MiB [] 52% 0.9s\u001b[0K\u001b[1G154.7 MiB [] 54% 0.9s\u001b[0K\u001b[1G154.7 MiB [] 55% 0.8s\u001b[0K\u001b[1G154.7 MiB [] 56% 0.8s\u001b[0K\u001b[1G154.7 MiB [] 57% 0.8s\u001b[0K\u001b[1G154.7 MiB [] 58% 0.8s\u001b[0K\u001b[1G154.7 MiB [] 59% 0.8s\u001b[0K\u001b[1G154.7 MiB [] 60% 0.7s\u001b[0K\u001b[1G154.7 MiB [] 61% 0.7s\u001b[0K\u001b[1G154.7 MiB [] 62% 0.7s\u001b[0K\u001b[1G154.7 MiB [] 63% 0.7s\u001b[0K\u001b[1G154.7 MiB [] 64% 0.6s\u001b[0K\u001b[1G154.7 MiB [] 65% 0.6s\u001b[0K\u001b[1G154.7 MiB [] 67% 0.6s\u001b[0K\u001b[1G154.7 MiB [] 68% 0.6s\u001b[0K\u001b[1G154.7 MiB [] 69% 0.6s\u001b[0K\u001b[1G154.7 MiB [] 70% 0.5s\u001b[0K\u001b[1G154.7 MiB [] 71% 0.5s\u001b[0K\u001b[1G154.7 MiB [] 72% 0.5s\u001b[0K\u001b[1G154.7 MiB [] 73% 0.5s\u001b[0K\u001b[1G154.7 MiB [] 74% 0.5s\u001b[0K\u001b[1G154.7 MiB [] 75% 0.5s\u001b[0K\u001b[1G154.7 MiB [] 76% 0.4s\u001b[0K\u001b[1G154.7 MiB [] 77% 0.4s\u001b[0K\u001b[1G154.7 MiB [] 78% 0.4s\u001b[0K\u001b[1G154.7 MiB [] 79% 0.4s\u001b[0K\u001b[1G154.7 MiB [] 80% 0.4s\u001b[0K\u001b[1G154.7 MiB [] 81% 0.3s\u001b[0K\u001b[1G154.7 MiB [] 82% 0.3s\u001b[0K\u001b[1G154.7 MiB [] 83% 0.3s\u001b[0K\u001b[1G154.7 MiB [] 84% 0.3s\u001b[0K\u001b[1G154.7 MiB [] 85% 0.3s\u001b[0K\u001b[1G154.7 MiB [] 86% 0.3s\u001b[0K\u001b[1G154.7 MiB [] 87% 0.2s\u001b[0K\u001b[1G154.7 MiB [] 88% 0.2s\u001b[0K\u001b[1G154.7 MiB [] 89% 0.2s\u001b[0K\u001b[1G154.7 MiB [] 90% 0.2s\u001b[0K\u001b[1G154.7 MiB [] 91% 0.2s\u001b[0K\u001b[1G154.7 MiB [] 92% 0.1s\u001b[0K\u001b[1G154.7 MiB [] 93% 0.1s\u001b[0K\u001b[1G154.7 MiB [] 94% 0.1s\u001b[0K\u001b[1G154.7 MiB [] 95% 0.1s\u001b[0K\u001b[1G154.7 MiB [] 96% 0.1s\u001b[0K\u001b[1G154.7 MiB [] 97% 0.1s\u001b[0K\u001b[1G154.7 MiB [] 98% 0.0s\u001b[0K\u001b[1G154.7 MiB [] 99% 0.0s\u001b[0K\u001b[1G154.7 MiB [] 100% 0.0s\u001b[0K\n",
            "Chromium 123.0.6312.4 (playwright build v1105) downloaded to /root/.cache/ms-playwright/chromium-1105\n",
            "Downloading FFMPEG playwright build v1009\u001b[2m from https://playwright.azureedge.net/builds/ffmpeg/1009/ffmpeg-linux.zip\u001b[22m\n",
            "\u001b[1G2.6 MiB [] 0% 0.0s\u001b[0K\u001b[1G2.6 MiB [] 3% 0.5s\u001b[0K\u001b[1G2.6 MiB [] 9% 0.3s\u001b[0K\u001b[1G2.6 MiB [] 28% 0.1s\u001b[0K\u001b[1G2.6 MiB [] 56% 0.1s\u001b[0K\u001b[1G2.6 MiB [] 100% 0.0s\u001b[0K\n",
            "FFMPEG playwright build v1009 downloaded to /root/.cache/ms-playwright/ffmpeg-1009\n",
            "\u001b[34m\u001b[39m\n",
            "\u001b[34mOpening twitter search page...\u001b[39m\n",
            "\u001b[34m\u001b[39m\n",
            "\u001b[33m\u001b[39m\n",
            "\u001b[33mFilling in keywords: polusi udara jakarta until:2023-08-31 since:2023-08-01\u001b[39m\n",
            "\u001b[33m\u001b[39m\n",
            "\u001b[34m\u001b[39m\n",
            "\u001b[34mGot some tweets, saving to file...\u001b[39m\n",
            "\u001b[34mYour tweets saved to: /content/tweets-data/tweet-polusiudara.csv\u001b[39m\n",
            "\u001b[33mTotal tweets saved: 17\u001b[39m\n",
            "\u001b[90mScrolling more...\u001b[39m\n",
            "\u001b[34m\u001b[39m\n",
            "\u001b[34mGot some tweets, saving to file...\u001b[39m\n",
            "\u001b[34mYour tweets saved to: /content/tweets-data/tweet-polusiudara.csv\u001b[39m\n",
            "\u001b[33mTotal tweets saved: 34\u001b[39m\n",
            "\u001b[34m\u001b[39m\n",
            "\u001b[34mGot some tweets, saving to file...\u001b[39m\n",
            "\u001b[34mYour tweets saved to: /content/tweets-data/tweet-polusiudara.csv\u001b[39m\n",
            "\u001b[33mTotal tweets saved: 53\u001b[39m\n",
            "\u001b[34m\u001b[39m\n",
            "\u001b[34mGot some tweets, saving to file...\u001b[39m\n",
            "\u001b[34mYour tweets saved to: /content/tweets-data/tweet-polusiudara.csv\u001b[39m\n",
            "\u001b[33mTotal tweets saved: 69\u001b[39m\n",
            "\u001b[34m\u001b[39m\n",
            "\u001b[34mGot some tweets, saving to file...\u001b[39m\n",
            "\u001b[34mYour tweets saved to: /content/tweets-data/tweet-polusiudara.csv\u001b[39m\n",
            "\u001b[33mTotal tweets saved: 87\u001b[39m\n",
            "\u001b[34m\u001b[39m\n",
            "\u001b[34mGot some tweets, saving to file...\u001b[39m\n",
            "\u001b[34mYour tweets saved to: /content/tweets-data/tweet-polusiudara.csv\u001b[39m\n",
            "\u001b[33mTotal tweets saved: 104\u001b[39m\n",
            "\u001b[90m\u001b[39m\n",
            "\u001b[90m--Taking a break, waiting for 10 seconds...\u001b[39m\n",
            "\u001b[34m\u001b[39m\n",
            "\u001b[34mGot some tweets, saving to file...\u001b[39m\n",
            "\u001b[34mYour tweets saved to: /content/tweets-data/tweet-polusiudara.csv\u001b[39m\n",
            "\u001b[33mTotal tweets saved: 120\u001b[39m\n",
            "\u001b[34m\u001b[39m\n",
            "\u001b[34mGot some tweets, saving to file...\u001b[39m\n",
            "\u001b[34mYour tweets saved to: /content/tweets-data/tweet-polusiudara.csv\u001b[39m\n",
            "\u001b[33mTotal tweets saved: 139\u001b[39m\n",
            "\u001b[34m\u001b[39m\n",
            "\u001b[34mGot some tweets, saving to file...\u001b[39m\n",
            "\u001b[34mYour tweets saved to: /content/tweets-data/tweet-polusiudara.csv\u001b[39m\n",
            "\u001b[33mTotal tweets saved: 158\u001b[39m\n",
            "\u001b[90mScrolling more...\u001b[39m\n",
            "\u001b[34m\u001b[39m\n",
            "\u001b[34mGot some tweets, saving to file...\u001b[39m\n",
            "\u001b[34mYour tweets saved to: /content/tweets-data/tweet-polusiudara.csv\u001b[39m\n",
            "\u001b[33mTotal tweets saved: 177\u001b[39m\n",
            "\u001b[34m\u001b[39m\n",
            "\u001b[34mGot some tweets, saving to file...\u001b[39m\n",
            "\u001b[34mYour tweets saved to: /content/tweets-data/tweet-polusiudara.csv\u001b[39m\n",
            "\u001b[33mTotal tweets saved: 197\u001b[39m\n",
            "\u001b[34m\u001b[39m\n",
            "\u001b[34mGot some tweets, saving to file...\u001b[39m\n",
            "\u001b[34mYour tweets saved to: /content/tweets-data/tweet-polusiudara.csv\u001b[39m\n",
            "\u001b[33mTotal tweets saved: 216\u001b[39m\n",
            "\u001b[90m\u001b[39m\n",
            "\u001b[90m--Taking a break, waiting for 10 seconds...\u001b[39m\n",
            "\u001b[90mScrolling more...\u001b[39m\n",
            "\u001b[34m\u001b[39m\n",
            "\u001b[34mGot some tweets, saving to file...\u001b[39m\n",
            "\u001b[34mYour tweets saved to: /content/tweets-data/tweet-polusiudara.csv\u001b[39m\n",
            "\u001b[33mTotal tweets saved: 235\u001b[39m\n",
            "\u001b[34m\u001b[39m\n",
            "\u001b[34mGot some tweets, saving to file...\u001b[39m\n",
            "\u001b[34mYour tweets saved to: /content/tweets-data/tweet-polusiudara.csv\u001b[39m\n",
            "\u001b[33mTotal tweets saved: 255\u001b[39m\n",
            "\u001b[34m\u001b[39m\n",
            "\u001b[34mGot some tweets, saving to file...\u001b[39m\n",
            "\u001b[34mYour tweets saved to: /content/tweets-data/tweet-polusiudara.csv\u001b[39m\n",
            "\u001b[33mTotal tweets saved: 272\u001b[39m\n",
            "\u001b[34m\u001b[39m\n",
            "\u001b[34mGot some tweets, saving to file...\u001b[39m\n",
            "\u001b[34mYour tweets saved to: /content/tweets-data/tweet-polusiudara.csv\u001b[39m\n",
            "\u001b[33mTotal tweets saved: 292\u001b[39m\n",
            "\u001b[34m\u001b[39m\n",
            "\u001b[34mGot some tweets, saving to file...\u001b[39m\n",
            "\u001b[34mYour tweets saved to: /content/tweets-data/tweet-polusiudara.csv\u001b[39m\n",
            "\u001b[33mTotal tweets saved: 304\u001b[39m\n",
            "\u001b[90mScrolling more...\u001b[39m\n",
            "\u001b[34m\u001b[39m\n",
            "\u001b[34mGot some tweets, saving to file...\u001b[39m\n",
            "\u001b[34mYour tweets saved to: /content/tweets-data/tweet-polusiudara.csv\u001b[39m\n",
            "\u001b[33mTotal tweets saved: 319\u001b[39m\n",
            "\u001b[90m\u001b[39m\n",
            "\u001b[90m--Taking a break, waiting for 10 seconds...\u001b[39m\n",
            "\u001b[34m\u001b[39m\n",
            "\u001b[34mGot some tweets, saving to file...\u001b[39m\n",
            "\u001b[34mYour tweets saved to: /content/tweets-data/tweet-polusiudara.csv\u001b[39m\n",
            "\u001b[33mTotal tweets saved: 338\u001b[39m\n",
            "\u001b[90mScrolling more...\u001b[39m\n",
            "\u001b[34m\u001b[39m\n",
            "\u001b[34mGot some tweets, saving to file...\u001b[39m\n",
            "\u001b[34mYour tweets saved to: /content/tweets-data/tweet-polusiudara.csv\u001b[39m\n",
            "\u001b[33mTotal tweets saved: 357\u001b[39m\n",
            "\u001b[34m\u001b[39m\n",
            "\u001b[34mGot some tweets, saving to file...\u001b[39m\n",
            "\u001b[34mYour tweets saved to: /content/tweets-data/tweet-polusiudara.csv\u001b[39m\n",
            "\u001b[33mTotal tweets saved: 376\u001b[39m\n",
            "\u001b[90mScrolling more...\u001b[39m\n",
            "\u001b[34m\u001b[39m\n",
            "\u001b[34mGot some tweets, saving to file...\u001b[39m\n",
            "\u001b[34mYour tweets saved to: /content/tweets-data/tweet-polusiudara.csv\u001b[39m\n",
            "\u001b[33mTotal tweets saved: 396\u001b[39m\n",
            "\u001b[34m\u001b[39m\n",
            "\u001b[34mGot some tweets, saving to file...\u001b[39m\n",
            "\u001b[34mYour tweets saved to: /content/tweets-data/tweet-polusiudara.csv\u001b[39m\n",
            "\u001b[33mTotal tweets saved: 415\u001b[39m\n",
            "\u001b[34m\u001b[39m\n",
            "\u001b[34mGot some tweets, saving to file...\u001b[39m\n",
            "\u001b[34mYour tweets saved to: /content/tweets-data/tweet-polusiudara.csv\u001b[39m\n",
            "\u001b[33mTotal tweets saved: 435\u001b[39m\n",
            "\u001b[90m\u001b[39m\n",
            "\u001b[90m--Taking a break, waiting for 10 seconds...\u001b[39m\n",
            "\u001b[34m\u001b[39m\n",
            "\u001b[34mGot some tweets, saving to file...\u001b[39m\n",
            "\u001b[34mYour tweets saved to: /content/tweets-data/tweet-polusiudara.csv\u001b[39m\n",
            "\u001b[33mTotal tweets saved: 455\u001b[39m\n",
            "\u001b[34m\u001b[39m\n",
            "\u001b[34mGot some tweets, saving to file...\u001b[39m\n",
            "\u001b[34mYour tweets saved to: /content/tweets-data/tweet-polusiudara.csv\u001b[39m\n",
            "\u001b[33mTotal tweets saved: 475\u001b[39m\n",
            "\u001b[34m\u001b[39m\n",
            "\u001b[34mGot some tweets, saving to file...\u001b[39m\n",
            "\u001b[34mYour tweets saved to: /content/tweets-data/tweet-polusiudara.csv\u001b[39m\n",
            "\u001b[33mTotal tweets saved: 494\u001b[39m\n",
            "\u001b[34m\u001b[39m\n",
            "\u001b[34mGot some tweets, saving to file...\u001b[39m\n",
            "\u001b[34mYour tweets saved to: /content/tweets-data/tweet-polusiudara.csv\u001b[39m\n",
            "\u001b[33mTotal tweets saved: 510\u001b[39m\n",
            "Already got 510 tweets, done scrolling...\n",
            "\u001b[37;40mnpm\u001b[0m \u001b[0m\u001b[36;40mnotice\u001b[0m\u001b[35m\u001b[0m \n",
            "\u001b[0m\u001b[37;40mnpm\u001b[0m \u001b[0m\u001b[36;40mnotice\u001b[0m\u001b[35m\u001b[0m New \u001b[33mminor\u001b[39m version of npm available! \u001b[31m10.2.4\u001b[39m -> \u001b[32m10.5.0\u001b[39m\n",
            "\u001b[0m\u001b[37;40mnpm\u001b[0m \u001b[0m\u001b[36;40mnotice\u001b[0m\u001b[35m\u001b[0m Changelog: \u001b[36mhttps://github.com/npm/cli/releases/tag/v10.5.0\u001b[39m\n",
            "\u001b[0m\u001b[37;40mnpm\u001b[0m \u001b[0m\u001b[36;40mnotice\u001b[0m\u001b[35m\u001b[0m Run \u001b[32mnpm install -g npm@10.5.0\u001b[39m to update!\n",
            "\u001b[0m\u001b[37;40mnpm\u001b[0m \u001b[0m\u001b[36;40mnotice\u001b[0m\u001b[35m\u001b[0m \n",
            "\u001b[0m"
          ]
        }
      ]
    },
    {
      "cell_type": "markdown",
      "source": [
        "## **TEXT PREPROCESSING**"
      ],
      "metadata": {
        "id": "dSB4VM-SDbcP"
      }
    },
    {
      "cell_type": "code",
      "source": [
        "import numpy as np                                          #import numpy untuk mengelola komputasi matrix\n",
        "import pandas as pd                                         # untuk meng import data dari sumber dari luar\n",
        "import matplotlib.pyplot as plt                             #visualisasikan data ke grafik\n",
        "import seaborn as sns                                       #visualisasikan data menjadi lebih menarik dan informatif\n",
        "sns.set()\n",
        "from warnings import filterwarnings                                 #mengimpor fungsi filterwarnings dari modul warnings,digunakan untuk mengatur perilaku peringatan dalam kode.\n",
        "filterwarnings('ignore')                                            #mengatur perilaku peringatan untuk diabaikan tujuannya untuk membantu menghindari tampilnya peringatan yang tidak perlu selama eksekusi kode\n",
        "from sklearn.model_selection import train_test_split                #Fungsi ini digunakan untuk membagi dataset menjadi subset pelatihan dan subset pengujian, yang berguna dalam pengembangan model prediktif"
      ],
      "metadata": {
        "id": "sSxBHXtzFdj7"
      },
      "execution_count": null,
      "outputs": []
    },
    {
      "cell_type": "code",
      "source": [
        "df = pd.read_csv('tweet-polusiudara-labelling.csv')                 #membaca/load dataset tweet\n",
        "df                                                                  #menampilkan dataset"
      ],
      "metadata": {
        "id": "324ZX_SdFpKH",
        "colab": {
          "base_uri": "https://localhost:8080/",
          "height": 597
        },
        "outputId": "db2db9c6-64bb-47b0-8d19-0c3e23390271"
      },
      "execution_count": null,
      "outputs": [
        {
          "output_type": "execute_result",
          "data": {
            "text/plain": [
              "            username                                          full_text  \\\n",
              "0      irfanwahidi60  Akhirnya terang benderang, gembar gembor polus...   \n",
              "1             piotrj  🚩ITU 🚩BUKAN 🚩KABUT  Selama seminggu ada WFH, s...   \n",
              "2       cgtrisanjaya  @geloraco Betul. Sebaiknya pemerintah segera m...   \n",
              "3       limitfungsii  gila parah, jakarta krisis polusi udara, gue d...   \n",
              "4         Nofendra19  Polusi udara di Jakarta, lalu yang disalahkan ...   \n",
              "..               ...                                                ...   \n",
              "505   Polusi_udara01  #Asean #Fifa #trending #southeastAsia #BakarSa...   \n",
              "506        5ulam_4ja  Nah jokowi mengumpulkan menteri untuk membahas...   \n",
              "507  radarbangsa_com  Polusi Udara di Jabodetabek Menparekraf Sebut ...   \n",
              "508    KAI_THE_BRAND  yang masih nyemprot parfum biar ga bau badan m...   \n",
              "509     detikfinance  Upaya pemerintah mengatasi polusi udara di DKI...   \n",
              "\n",
              "    Sentimen  Label  \n",
              "0    Negatif     -1  \n",
              "1    Negatif     -1  \n",
              "2    Negatif     -1  \n",
              "3    Negatif     -1  \n",
              "4    Negatif     -1  \n",
              "..       ...    ...  \n",
              "505  Negatif     -1  \n",
              "506  Positif      1  \n",
              "507  Negatif     -1  \n",
              "508  Negatif     -1  \n",
              "509  Positif      1  \n",
              "\n",
              "[510 rows x 4 columns]"
            ],
            "text/html": [
              "\n",
              "  <div id=\"df-5a48252c-f206-406d-a513-d15e97dbd438\" class=\"colab-df-container\">\n",
              "    <div>\n",
              "<style scoped>\n",
              "    .dataframe tbody tr th:only-of-type {\n",
              "        vertical-align: middle;\n",
              "    }\n",
              "\n",
              "    .dataframe tbody tr th {\n",
              "        vertical-align: top;\n",
              "    }\n",
              "\n",
              "    .dataframe thead th {\n",
              "        text-align: right;\n",
              "    }\n",
              "</style>\n",
              "<table border=\"1\" class=\"dataframe\">\n",
              "  <thead>\n",
              "    <tr style=\"text-align: right;\">\n",
              "      <th></th>\n",
              "      <th>username</th>\n",
              "      <th>full_text</th>\n",
              "      <th>Sentimen</th>\n",
              "      <th>Label</th>\n",
              "    </tr>\n",
              "  </thead>\n",
              "  <tbody>\n",
              "    <tr>\n",
              "      <th>0</th>\n",
              "      <td>irfanwahidi60</td>\n",
              "      <td>Akhirnya terang benderang, gembar gembor polus...</td>\n",
              "      <td>Negatif</td>\n",
              "      <td>-1</td>\n",
              "    </tr>\n",
              "    <tr>\n",
              "      <th>1</th>\n",
              "      <td>piotrj</td>\n",
              "      <td>🚩ITU 🚩BUKAN 🚩KABUT  Selama seminggu ada WFH, s...</td>\n",
              "      <td>Negatif</td>\n",
              "      <td>-1</td>\n",
              "    </tr>\n",
              "    <tr>\n",
              "      <th>2</th>\n",
              "      <td>cgtrisanjaya</td>\n",
              "      <td>@geloraco Betul. Sebaiknya pemerintah segera m...</td>\n",
              "      <td>Negatif</td>\n",
              "      <td>-1</td>\n",
              "    </tr>\n",
              "    <tr>\n",
              "      <th>3</th>\n",
              "      <td>limitfungsii</td>\n",
              "      <td>gila parah, jakarta krisis polusi udara, gue d...</td>\n",
              "      <td>Negatif</td>\n",
              "      <td>-1</td>\n",
              "    </tr>\n",
              "    <tr>\n",
              "      <th>4</th>\n",
              "      <td>Nofendra19</td>\n",
              "      <td>Polusi udara di Jakarta, lalu yang disalahkan ...</td>\n",
              "      <td>Negatif</td>\n",
              "      <td>-1</td>\n",
              "    </tr>\n",
              "    <tr>\n",
              "      <th>...</th>\n",
              "      <td>...</td>\n",
              "      <td>...</td>\n",
              "      <td>...</td>\n",
              "      <td>...</td>\n",
              "    </tr>\n",
              "    <tr>\n",
              "      <th>505</th>\n",
              "      <td>Polusi_udara01</td>\n",
              "      <td>#Asean #Fifa #trending #southeastAsia #BakarSa...</td>\n",
              "      <td>Negatif</td>\n",
              "      <td>-1</td>\n",
              "    </tr>\n",
              "    <tr>\n",
              "      <th>506</th>\n",
              "      <td>5ulam_4ja</td>\n",
              "      <td>Nah jokowi mengumpulkan menteri untuk membahas...</td>\n",
              "      <td>Positif</td>\n",
              "      <td>1</td>\n",
              "    </tr>\n",
              "    <tr>\n",
              "      <th>507</th>\n",
              "      <td>radarbangsa_com</td>\n",
              "      <td>Polusi Udara di Jabodetabek Menparekraf Sebut ...</td>\n",
              "      <td>Negatif</td>\n",
              "      <td>-1</td>\n",
              "    </tr>\n",
              "    <tr>\n",
              "      <th>508</th>\n",
              "      <td>KAI_THE_BRAND</td>\n",
              "      <td>yang masih nyemprot parfum biar ga bau badan m...</td>\n",
              "      <td>Negatif</td>\n",
              "      <td>-1</td>\n",
              "    </tr>\n",
              "    <tr>\n",
              "      <th>509</th>\n",
              "      <td>detikfinance</td>\n",
              "      <td>Upaya pemerintah mengatasi polusi udara di DKI...</td>\n",
              "      <td>Positif</td>\n",
              "      <td>1</td>\n",
              "    </tr>\n",
              "  </tbody>\n",
              "</table>\n",
              "<p>510 rows × 4 columns</p>\n",
              "</div>\n",
              "    <div class=\"colab-df-buttons\">\n",
              "\n",
              "  <div class=\"colab-df-container\">\n",
              "    <button class=\"colab-df-convert\" onclick=\"convertToInteractive('df-5a48252c-f206-406d-a513-d15e97dbd438')\"\n",
              "            title=\"Convert this dataframe to an interactive table.\"\n",
              "            style=\"display:none;\">\n",
              "\n",
              "  <svg xmlns=\"http://www.w3.org/2000/svg\" height=\"24px\" viewBox=\"0 -960 960 960\">\n",
              "    <path d=\"M120-120v-720h720v720H120Zm60-500h600v-160H180v160Zm220 220h160v-160H400v160Zm0 220h160v-160H400v160ZM180-400h160v-160H180v160Zm440 0h160v-160H620v160ZM180-180h160v-160H180v160Zm440 0h160v-160H620v160Z\"/>\n",
              "  </svg>\n",
              "    </button>\n",
              "\n",
              "  <style>\n",
              "    .colab-df-container {\n",
              "      display:flex;\n",
              "      gap: 12px;\n",
              "    }\n",
              "\n",
              "    .colab-df-convert {\n",
              "      background-color: #E8F0FE;\n",
              "      border: none;\n",
              "      border-radius: 50%;\n",
              "      cursor: pointer;\n",
              "      display: none;\n",
              "      fill: #1967D2;\n",
              "      height: 32px;\n",
              "      padding: 0 0 0 0;\n",
              "      width: 32px;\n",
              "    }\n",
              "\n",
              "    .colab-df-convert:hover {\n",
              "      background-color: #E2EBFA;\n",
              "      box-shadow: 0px 1px 2px rgba(60, 64, 67, 0.3), 0px 1px 3px 1px rgba(60, 64, 67, 0.15);\n",
              "      fill: #174EA6;\n",
              "    }\n",
              "\n",
              "    .colab-df-buttons div {\n",
              "      margin-bottom: 4px;\n",
              "    }\n",
              "\n",
              "    [theme=dark] .colab-df-convert {\n",
              "      background-color: #3B4455;\n",
              "      fill: #D2E3FC;\n",
              "    }\n",
              "\n",
              "    [theme=dark] .colab-df-convert:hover {\n",
              "      background-color: #434B5C;\n",
              "      box-shadow: 0px 1px 3px 1px rgba(0, 0, 0, 0.15);\n",
              "      filter: drop-shadow(0px 1px 2px rgba(0, 0, 0, 0.3));\n",
              "      fill: #FFFFFF;\n",
              "    }\n",
              "  </style>\n",
              "\n",
              "    <script>\n",
              "      const buttonEl =\n",
              "        document.querySelector('#df-5a48252c-f206-406d-a513-d15e97dbd438 button.colab-df-convert');\n",
              "      buttonEl.style.display =\n",
              "        google.colab.kernel.accessAllowed ? 'block' : 'none';\n",
              "\n",
              "      async function convertToInteractive(key) {\n",
              "        const element = document.querySelector('#df-5a48252c-f206-406d-a513-d15e97dbd438');\n",
              "        const dataTable =\n",
              "          await google.colab.kernel.invokeFunction('convertToInteractive',\n",
              "                                                    [key], {});\n",
              "        if (!dataTable) return;\n",
              "\n",
              "        const docLinkHtml = 'Like what you see? Visit the ' +\n",
              "          '<a target=\"_blank\" href=https://colab.research.google.com/notebooks/data_table.ipynb>data table notebook</a>'\n",
              "          + ' to learn more about interactive tables.';\n",
              "        element.innerHTML = '';\n",
              "        dataTable['output_type'] = 'display_data';\n",
              "        await google.colab.output.renderOutput(dataTable, element);\n",
              "        const docLink = document.createElement('div');\n",
              "        docLink.innerHTML = docLinkHtml;\n",
              "        element.appendChild(docLink);\n",
              "      }\n",
              "    </script>\n",
              "  </div>\n",
              "\n",
              "\n",
              "<div id=\"df-9e06642e-b8f0-4283-8773-ed0330b106f9\">\n",
              "  <button class=\"colab-df-quickchart\" onclick=\"quickchart('df-9e06642e-b8f0-4283-8773-ed0330b106f9')\"\n",
              "            title=\"Suggest charts\"\n",
              "            style=\"display:none;\">\n",
              "\n",
              "<svg xmlns=\"http://www.w3.org/2000/svg\" height=\"24px\"viewBox=\"0 0 24 24\"\n",
              "     width=\"24px\">\n",
              "    <g>\n",
              "        <path d=\"M19 3H5c-1.1 0-2 .9-2 2v14c0 1.1.9 2 2 2h14c1.1 0 2-.9 2-2V5c0-1.1-.9-2-2-2zM9 17H7v-7h2v7zm4 0h-2V7h2v10zm4 0h-2v-4h2v4z\"/>\n",
              "    </g>\n",
              "</svg>\n",
              "  </button>\n",
              "\n",
              "<style>\n",
              "  .colab-df-quickchart {\n",
              "      --bg-color: #E8F0FE;\n",
              "      --fill-color: #1967D2;\n",
              "      --hover-bg-color: #E2EBFA;\n",
              "      --hover-fill-color: #174EA6;\n",
              "      --disabled-fill-color: #AAA;\n",
              "      --disabled-bg-color: #DDD;\n",
              "  }\n",
              "\n",
              "  [theme=dark] .colab-df-quickchart {\n",
              "      --bg-color: #3B4455;\n",
              "      --fill-color: #D2E3FC;\n",
              "      --hover-bg-color: #434B5C;\n",
              "      --hover-fill-color: #FFFFFF;\n",
              "      --disabled-bg-color: #3B4455;\n",
              "      --disabled-fill-color: #666;\n",
              "  }\n",
              "\n",
              "  .colab-df-quickchart {\n",
              "    background-color: var(--bg-color);\n",
              "    border: none;\n",
              "    border-radius: 50%;\n",
              "    cursor: pointer;\n",
              "    display: none;\n",
              "    fill: var(--fill-color);\n",
              "    height: 32px;\n",
              "    padding: 0;\n",
              "    width: 32px;\n",
              "  }\n",
              "\n",
              "  .colab-df-quickchart:hover {\n",
              "    background-color: var(--hover-bg-color);\n",
              "    box-shadow: 0 1px 2px rgba(60, 64, 67, 0.3), 0 1px 3px 1px rgba(60, 64, 67, 0.15);\n",
              "    fill: var(--button-hover-fill-color);\n",
              "  }\n",
              "\n",
              "  .colab-df-quickchart-complete:disabled,\n",
              "  .colab-df-quickchart-complete:disabled:hover {\n",
              "    background-color: var(--disabled-bg-color);\n",
              "    fill: var(--disabled-fill-color);\n",
              "    box-shadow: none;\n",
              "  }\n",
              "\n",
              "  .colab-df-spinner {\n",
              "    border: 2px solid var(--fill-color);\n",
              "    border-color: transparent;\n",
              "    border-bottom-color: var(--fill-color);\n",
              "    animation:\n",
              "      spin 1s steps(1) infinite;\n",
              "  }\n",
              "\n",
              "  @keyframes spin {\n",
              "    0% {\n",
              "      border-color: transparent;\n",
              "      border-bottom-color: var(--fill-color);\n",
              "      border-left-color: var(--fill-color);\n",
              "    }\n",
              "    20% {\n",
              "      border-color: transparent;\n",
              "      border-left-color: var(--fill-color);\n",
              "      border-top-color: var(--fill-color);\n",
              "    }\n",
              "    30% {\n",
              "      border-color: transparent;\n",
              "      border-left-color: var(--fill-color);\n",
              "      border-top-color: var(--fill-color);\n",
              "      border-right-color: var(--fill-color);\n",
              "    }\n",
              "    40% {\n",
              "      border-color: transparent;\n",
              "      border-right-color: var(--fill-color);\n",
              "      border-top-color: var(--fill-color);\n",
              "    }\n",
              "    60% {\n",
              "      border-color: transparent;\n",
              "      border-right-color: var(--fill-color);\n",
              "    }\n",
              "    80% {\n",
              "      border-color: transparent;\n",
              "      border-right-color: var(--fill-color);\n",
              "      border-bottom-color: var(--fill-color);\n",
              "    }\n",
              "    90% {\n",
              "      border-color: transparent;\n",
              "      border-bottom-color: var(--fill-color);\n",
              "    }\n",
              "  }\n",
              "</style>\n",
              "\n",
              "  <script>\n",
              "    async function quickchart(key) {\n",
              "      const quickchartButtonEl =\n",
              "        document.querySelector('#' + key + ' button');\n",
              "      quickchartButtonEl.disabled = true;  // To prevent multiple clicks.\n",
              "      quickchartButtonEl.classList.add('colab-df-spinner');\n",
              "      try {\n",
              "        const charts = await google.colab.kernel.invokeFunction(\n",
              "            'suggestCharts', [key], {});\n",
              "      } catch (error) {\n",
              "        console.error('Error during call to suggestCharts:', error);\n",
              "      }\n",
              "      quickchartButtonEl.classList.remove('colab-df-spinner');\n",
              "      quickchartButtonEl.classList.add('colab-df-quickchart-complete');\n",
              "    }\n",
              "    (() => {\n",
              "      let quickchartButtonEl =\n",
              "        document.querySelector('#df-9e06642e-b8f0-4283-8773-ed0330b106f9 button');\n",
              "      quickchartButtonEl.style.display =\n",
              "        google.colab.kernel.accessAllowed ? 'block' : 'none';\n",
              "    })();\n",
              "  </script>\n",
              "</div>\n",
              "    </div>\n",
              "  </div>\n"
            ],
            "application/vnd.google.colaboratory.intrinsic+json": {
              "type": "dataframe",
              "variable_name": "df",
              "summary": "{\n  \"name\": \"df\",\n  \"rows\": 510,\n  \"fields\": [\n    {\n      \"column\": \"username\",\n      \"properties\": {\n        \"dtype\": \"string\",\n        \"num_unique_values\": 333,\n        \"samples\": [\n          \"Jabar24Jam\",\n          \"ch_sasya\",\n          \"GenMediaNetwork\"\n        ],\n        \"semantic_type\": \"\",\n        \"description\": \"\"\n      }\n    },\n    {\n      \"column\": \"full_text\",\n      \"properties\": {\n        \"dtype\": \"string\",\n        \"num_unique_values\": 492,\n        \"samples\": [\n          \"Menteri Lingkungan Hidup dan Kehutanan Siti Nurbaya Bakar yang menyebutkan setidaknya ada 11 industri yang terkena sanksi administrasi, karena jadi sumber polusi udara Jakarta.  https://t.co/sgI09ObNF5\",\n          \"JAKARTA KOTA POLUSI Halo, Biru Hitam! Belakangan ini, masyarakat Jakarta dibuat resah dengan pembahasan mengenai buruknya kualitas udara Jakarta. Hampir semua lapisan masyarakat mendapat dampak dari buruknya kualitas udara di Jakarta. https://t.co/jY4GJZHUDp\",\n          \"@KompasTV Solusinya satu, tambah blower penyaring debu ampas bakaran batubara, PLTU banten. Dijamin ngk bakalan lama udara jakarta, akan jernih tampak langit biru n awan putih di angkasa. Mo tunjuk malaikat pun, ngk bersih angkasa n udara jakarta. Dari polusi kalau PLTU tidak doubel blower\"\n        ],\n        \"semantic_type\": \"\",\n        \"description\": \"\"\n      }\n    },\n    {\n      \"column\": \"Sentimen\",\n      \"properties\": {\n        \"dtype\": \"category\",\n        \"num_unique_values\": 2,\n        \"samples\": [\n          \"Positif\",\n          \"Negatif\"\n        ],\n        \"semantic_type\": \"\",\n        \"description\": \"\"\n      }\n    },\n    {\n      \"column\": \"Label\",\n      \"properties\": {\n        \"dtype\": \"number\",\n        \"std\": 0,\n        \"min\": -1,\n        \"max\": 1,\n        \"num_unique_values\": 2,\n        \"samples\": [\n          1,\n          -1\n        ],\n        \"semantic_type\": \"\",\n        \"description\": \"\"\n      }\n    }\n  ]\n}"
            }
          },
          "metadata": {},
          "execution_count": 19
        }
      ]
    },
    {
      "cell_type": "markdown",
      "source": [
        "***CASE FOLDING DAN CLEANING***"
      ],
      "metadata": {
        "id": "gVCPNYuuFVNt"
      }
    },
    {
      "cell_type": "code",
      "source": [
        "#sumber : https://pypi.org/project/emoji/             #Modul \"emoji\" adalah pustaka yang menyediakan berbagai fitur dan fungsi terkait dengan penggunaan emoji dalam pemrograman Python\n",
        "\n",
        "!pip install emoji                                            #menginstal modul emoji"
      ],
      "metadata": {
        "id": "QVArB9TkKcsh",
        "colab": {
          "base_uri": "https://localhost:8080/"
        },
        "outputId": "b9163a9a-220b-43fa-b101-0b710b17286c"
      },
      "execution_count": null,
      "outputs": [
        {
          "output_type": "stream",
          "name": "stdout",
          "text": [
            "Requirement already satisfied: emoji in /usr/local/lib/python3.10/dist-packages (2.12.1)\n",
            "Requirement already satisfied: typing-extensions>=4.7.0 in /usr/local/lib/python3.10/dist-packages (from emoji) (4.11.0)\n"
          ]
        }
      ]
    },
    {
      "cell_type": "code",
      "source": [
        "from nltk.tokenize import word_tokenize # mengimport fungsi word_tokenize dari modul nltk.tokenize (membagi teks menjadi token)\n",
        "from nltk.corpus import stopwords   #mengimport modul stopword (untuk menghilangkan stopwords dari teks)\n",
        "\n",
        "import re, emoji              #Mengimpor modul re untuk mengakses ekspresi reguler (regular expressions) dan modul emoji untuk memproses emoji dalam teks.\n",
        "\n",
        "from string import punctuation #Mengimpor variabel punctuation dari modul string (untuk membersihkan teks dari tanda baca)"
      ],
      "metadata": {
        "id": "lOsMNrhCKh4_"
      },
      "execution_count": null,
      "outputs": []
    },
    {
      "cell_type": "code",
      "source": [
        "# Mengubah huruf besar menjadi huruf kecil\n",
        "def casefolding(text):\n",
        "  text = text.lower()\n",
        "  return text\n",
        "\n",
        "df['CaseFolding'] = df['full_text'].apply(casefolding)\n",
        "df['CaseFolding']"
      ],
      "metadata": {
        "colab": {
          "base_uri": "https://localhost:8080/"
        },
        "id": "CVDQgMi_PYb4",
        "outputId": "e06bdfc3-e5b2-44f0-cf06-50bf3e9249e1"
      },
      "execution_count": null,
      "outputs": [
        {
          "output_type": "execute_result",
          "data": {
            "text/plain": [
              "0      akhirnya terang benderang, gembar gembor polus...\n",
              "1      🚩itu 🚩bukan 🚩kabut  selama seminggu ada wfh, s...\n",
              "2      @geloraco betul. sebaiknya pemerintah segera m...\n",
              "3      gila parah, jakarta krisis polusi udara, gue d...\n",
              "4      polusi udara di jakarta, lalu yang disalahkan ...\n",
              "                             ...                        \n",
              "505    #asean #fifa #trending #southeastasia #bakarsa...\n",
              "506    nah jokowi mengumpulkan menteri untuk membahas...\n",
              "507    polusi udara di jabodetabek menparekraf sebut ...\n",
              "508    yang masih nyemprot parfum biar ga bau badan m...\n",
              "509    upaya pemerintah mengatasi polusi udara di dki...\n",
              "Name: CaseFolding, Length: 510, dtype: object"
            ]
          },
          "metadata": {},
          "execution_count": 20
        }
      ]
    },
    {
      "cell_type": "code",
      "source": [
        "def cleansing(text):                                 #serangkaian langkah pembersihan atau preprocessing pada teks\n",
        "  text = re.sub(r'@[A-Za-z0-0_]+', '', text)                    # menghapus mention\n",
        "  text = re.sub(r'#\\w+', '', text)                                # menghapus hastag\n",
        "  text = re.sub(r'RT[\\s]+', '', text)                              #menghaous Retweet\n",
        "  text = re.sub(r'(https|https):\\/\\/\\S+', '', text)           #menghapus http /https\n",
        "  text = re.sub(r'[^A-Za-z0-9 ]', ' ', text)                      # menghapus karakter\n",
        "  text = re.sub(r'\\s+', ' ', text).strip()                          #menghapus spasi di awal dan di akhit\n",
        "  text = re.sub(r'(.)\\1+', r'\\1\\1', text)\n",
        "  text = re.sub(r'[\\?\\.\\!]+(?=[\\?.\\!])', '', text)\n",
        "  text = re.sub(r'\\b[a-zA-Z]\\b', '', text)\n",
        "  text = re.sub(r'\\d+', '', text)\n",
        "  return text                                                       # Mengembalikan teks yang telah diproses dan dibersihkan\n",
        "\n",
        "def remove_emojis(data):\n",
        "    emoj = re.compile(\"[\"\n",
        "        u\"\\U00002700-\\U000027BF\"  # Dingbats\n",
        "        u\"\\U0001F600-\\U0001F64F\"  # Emoticons\n",
        "        u\"\\U00002600-\\U000026FF\"  # Miscellaneous Symbols\n",
        "        u\"\\U0001F300-\\U0001F5FF\"  # Miscellaneous Symbols And Pictographs\n",
        "        u\"\\U0001F900-\\U0001F9FF\"  # Supplemental Symbols and Pictographs\n",
        "        u\"\\U0001FA70-\\U0001FAFF\"  # Symbols and Pictographs Extended-A\n",
        "        u\"\\U0001F680-\\U0001F6FF\"  # Transport and Map Symbols\n",
        "                      \"]+\", re.UNICODE)\n",
        "    return re.sub(emoj, '', data)\n",
        "\n",
        "df['Cleansing'] = df['CaseFolding'].apply(cleansing, remove_emojis)\n",
        "\n",
        "df['Cleansing']\n"
      ],
      "metadata": {
        "id": "Y231WZ0dKlCk",
        "colab": {
          "base_uri": "https://localhost:8080/"
        },
        "outputId": "7e1cd8b4-d6bf-45fb-f4e1-a9cd7a182a52"
      },
      "execution_count": null,
      "outputs": [
        {
          "output_type": "execute_result",
          "data": {
            "text/plain": [
              "0      akhirnya terang benderang gembar gembor polusi...\n",
              "1      itu bukan kabut selama seminggu ada wfh sempro...\n",
              "2      betul sebaiknya pemerintah segera memberikan k...\n",
              "3      gila parah jakarta krisis polusi udara gue dri...\n",
              "4      polusi udara di jakarta lalu yang disalahkan u...\n",
              "                             ...                        \n",
              "505       selasa udara klp gading kembali tercemar ol...\n",
              "506    nah jokowi mengumpulkan menteri untuk membahas...\n",
              "507    polusi udara di jabodetabek menparekraf sebut ...\n",
              "508    yang masih nyemprot parfum biar ga bau badan m...\n",
              "509    upaya pemerintah mengatasi polusi udara di dki...\n",
              "Name: Cleansing, Length: 510, dtype: object"
            ]
          },
          "metadata": {},
          "execution_count": 21
        }
      ]
    },
    {
      "cell_type": "markdown",
      "source": [
        "***REMOVE DUPLICATE***"
      ],
      "metadata": {
        "id": "D83i6M3K0DN3"
      }
    },
    {
      "cell_type": "code",
      "source": [
        "duplicates = df[df.duplicated(subset=['full_text'])]\n",
        "\n",
        "# Menampilkan baris duplikat\n",
        "print(\"\\nBaris duplikat:\\n\", duplicates)\n",
        "df = df.drop_duplicates(subset=['full_text'])\n",
        "df = df.reset_index(drop =True)\n",
        "df['full_text']"
      ],
      "metadata": {
        "id": "carXo4Ou0MEi",
        "colab": {
          "base_uri": "https://localhost:8080/"
        },
        "outputId": "86afb97e-5d46-486e-d91d-793ff5682ccc"
      },
      "execution_count": null,
      "outputs": [
        {
          "output_type": "stream",
          "name": "stdout",
          "text": [
            "\n",
            "Baris duplikat:\n",
            "             username                                          full_text  \\\n",
            "49        adinback20  Untuk Atasi Polusi Udara di Jakarta, Pemerinta...   \n",
            "86      posaktualcom  Untuk Atasi Polusi Udara di Jakarta, Pemerinta...   \n",
            "90       polhukamid_  Untuk Atasi Polusi Udara di Jakarta, Pemerinta...   \n",
            "92     OposisiCerdas  Untuk Atasi Polusi Udara di Jakarta, Pemerinta...   \n",
            "96          geloraco  Untuk Atasi Polusi Udara di Jakarta, Pemerinta...   \n",
            "116        Toto_1945  BPJS Habiskan Rp10 T untuk Penyakit Napas, Men...   \n",
            "117         manda34b  BPJS Habiskan Rp10 T untuk Penyakit Napas, Men...   \n",
            "119       tempodotco  Sudah WFH Tapi Polusi Udara Jakarta Masih Ting...   \n",
            "131         Metro_TV  Guru Besar Ilmu Lingkungan Hidup Universitas D...   \n",
            "148          sukarja  Mengatasi Polusi Udara di Jakarta, Peran PLTU ...   \n",
            "153        100kpjcom  Menanti Pertamax Dikasih Subsidi Demi Kurangi ...   \n",
            "271      PKSejahtera  Kurniasih: BPJS Kesehatan Wajib Lindungi dan T...   \n",
            "274     PKSSukamukti  Kurniasih: BPJS Kesehatan Wajib Lindungi dan T...   \n",
            "278  PKSCibarusahKta  Kurniasih: BPJS Kesehatan Wajib Lindungi dan T...   \n",
            "282   PKSTambunUtara  Kurniasih: BPJS Kesehatan Wajib Lindungi dan T...   \n",
            "283  AneMonica193734  Halo teman teman semua,ternyata bukan PLTU ya ...   \n",
            "290   PKSPantaiBakti  Kurniasih: BPJS Kesehatan Wajib Lindungi dan T...   \n",
            "297    FPKSKabBekasi  Kurniasih: BPJS Kesehatan Wajib Lindungi dan T...   \n",
            "\n",
            "    Sentimen  Label                                        CaseFolding  \\\n",
            "49   Positif      1  untuk atasi polusi udara di jakarta, pemerinta...   \n",
            "86   Positif      1  untuk atasi polusi udara di jakarta, pemerinta...   \n",
            "90   Positif      1  untuk atasi polusi udara di jakarta, pemerinta...   \n",
            "92   Positif      1  untuk atasi polusi udara di jakarta, pemerinta...   \n",
            "96   Positif      1  untuk atasi polusi udara di jakarta, pemerinta...   \n",
            "116  Positif      1  bpjs habiskan rp10 t untuk penyakit napas, men...   \n",
            "117  Positif      1  bpjs habiskan rp10 t untuk penyakit napas, men...   \n",
            "119  Negatif     -1  sudah wfh tapi polusi udara jakarta masih ting...   \n",
            "131  Negatif     -1  guru besar ilmu lingkungan hidup universitas d...   \n",
            "148  Positif      1  mengatasi polusi udara di jakarta, peran pltu ...   \n",
            "153  Positif      1  menanti pertamax dikasih subsidi demi kurangi ...   \n",
            "271  Positif      1  kurniasih: bpjs kesehatan wajib lindungi dan t...   \n",
            "274  Positif      1  kurniasih: bpjs kesehatan wajib lindungi dan t...   \n",
            "278  Positif      1  kurniasih: bpjs kesehatan wajib lindungi dan t...   \n",
            "282  Positif      1  kurniasih: bpjs kesehatan wajib lindungi dan t...   \n",
            "283  Positif      1  halo teman teman semua,ternyata bukan pltu ya ...   \n",
            "290  Positif      1  kurniasih: bpjs kesehatan wajib lindungi dan t...   \n",
            "297  Positif      1  kurniasih: bpjs kesehatan wajib lindungi dan t...   \n",
            "\n",
            "                                             Cleansing  \n",
            "49   untuk atasi polusi udara di jakarta pemerintah...  \n",
            "86   untuk atasi polusi udara di jakarta pemerintah...  \n",
            "90   untuk atasi polusi udara di jakarta pemerintah...  \n",
            "92   untuk atasi polusi udara di jakarta pemerintah...  \n",
            "96   untuk atasi polusi udara di jakarta pemerintah...  \n",
            "116  bpjs habiskan rp  untuk penyakit napas menkes ...  \n",
            "117  bpjs habiskan rp  untuk penyakit napas menkes ...  \n",
            "119  sudah wfh tapi polusi udara jakarta masih ting...  \n",
            "131  guru besar ilmu lingkungan hidup universitas d...  \n",
            "148  mengatasi polusi udara di jakarta peran pltu d...  \n",
            "153  menanti pertamax dikasih subsidi demi kurangi ...  \n",
            "271  kurniasih bpjs kesehatan wajib lindungi dan ta...  \n",
            "274  kurniasih bpjs kesehatan wajib lindungi dan ta...  \n",
            "278  kurniasih bpjs kesehatan wajib lindungi dan ta...  \n",
            "282  kurniasih bpjs kesehatan wajib lindungi dan ta...  \n",
            "283  halo teman teman semua ternyata bukan pltu ya ...  \n",
            "290  kurniasih bpjs kesehatan wajib lindungi dan ta...  \n",
            "297  kurniasih bpjs kesehatan wajib lindungi dan ta...  \n"
          ]
        },
        {
          "output_type": "execute_result",
          "data": {
            "text/plain": [
              "0      Akhirnya terang benderang, gembar gembor polus...\n",
              "1      🚩ITU 🚩BUKAN 🚩KABUT  Selama seminggu ada WFH, s...\n",
              "2      @geloraco Betul. Sebaiknya pemerintah segera m...\n",
              "3      gila parah, jakarta krisis polusi udara, gue d...\n",
              "4      Polusi udara di Jakarta, lalu yang disalahkan ...\n",
              "                             ...                        \n",
              "487    #Asean #Fifa #trending #southeastAsia #BakarSa...\n",
              "488    Nah jokowi mengumpulkan menteri untuk membahas...\n",
              "489    Polusi Udara di Jabodetabek Menparekraf Sebut ...\n",
              "490    yang masih nyemprot parfum biar ga bau badan m...\n",
              "491    Upaya pemerintah mengatasi polusi udara di DKI...\n",
              "Name: full_text, Length: 492, dtype: object"
            ]
          },
          "metadata": {},
          "execution_count": 22
        }
      ]
    },
    {
      "cell_type": "code",
      "source": [],
      "metadata": {
        "id": "H3GaaoGbQEGE"
      },
      "execution_count": null,
      "outputs": []
    },
    {
      "cell_type": "markdown",
      "source": [
        "***TOKENIZATION***"
      ],
      "metadata": {
        "id": "1EH1Qf_65nqs"
      }
    },
    {
      "cell_type": "code",
      "source": [
        "import nltk\n",
        "nltk.download('punkt')"
      ],
      "metadata": {
        "colab": {
          "base_uri": "https://localhost:8080/"
        },
        "id": "pnESoF1XCp44",
        "outputId": "45be6b80-e806-4f2d-d64a-a60074da9041"
      },
      "execution_count": null,
      "outputs": [
        {
          "output_type": "stream",
          "name": "stderr",
          "text": [
            "[nltk_data] Downloading package punkt to /root/nltk_data...\n",
            "[nltk_data]   Unzipping tokenizers/punkt.zip.\n"
          ]
        },
        {
          "output_type": "execute_result",
          "data": {
            "text/plain": [
              "True"
            ]
          },
          "metadata": {},
          "execution_count": 8
        }
      ]
    },
    {
      "cell_type": "code",
      "source": [
        "def word_tokenize_wrapper(text):\n",
        "  return word_tokenize(text)\n",
        "def word_tokenize_wrapper(text):\n",
        "  return word_tokenize(text)\n",
        "\n",
        "df['Tokenize'] = df['Cleansing'].apply(word_tokenize_wrapper)\n",
        "df['Tokenize']"
      ],
      "metadata": {
        "id": "7iYghuz4Sd0H",
        "colab": {
          "base_uri": "https://localhost:8080/"
        },
        "outputId": "6588197d-86f7-4eaf-eb72-80bc13531410"
      },
      "execution_count": null,
      "outputs": [
        {
          "output_type": "execute_result",
          "data": {
            "text/plain": [
              "0      [akhirnya, terang, benderang, gembar, gembor, ...\n",
              "1      [itu, bukan, kabut, selama, seminggu, ada, wfh...\n",
              "2      [betul, sebaiknya, pemerintah, segera, memberi...\n",
              "3      [gila, parah, jakarta, krisis, polusi, udara, ...\n",
              "4      [polusi, udara, di, jakarta, lalu, yang, disal...\n",
              "                             ...                        \n",
              "487    [selasa, udara, klp, gading, kembali, tercemar...\n",
              "488    [nah, jokowi, mengumpulkan, menteri, untuk, me...\n",
              "489    [polusi, udara, di, jabodetabek, menparekraf, ...\n",
              "490    [yang, masih, nyemprot, parfum, biar, ga, bau,...\n",
              "491    [upaya, pemerintah, mengatasi, polusi, udara, ...\n",
              "Name: Tokenize, Length: 492, dtype: object"
            ]
          },
          "metadata": {},
          "execution_count": 9
        }
      ]
    },
    {
      "cell_type": "code",
      "source": [
        "df.loc[10:15, ['Tokenize']]"
      ],
      "metadata": {
        "colab": {
          "base_uri": "https://localhost:8080/",
          "height": 238
        },
        "id": "fWD10NQe1CN_",
        "outputId": "9bdb8c86-08d9-4740-eb31-026d69305e83"
      },
      "execution_count": null,
      "outputs": [
        {
          "output_type": "execute_result",
          "data": {
            "text/plain": [
              "                                             Tokenize\n",
              "10  [warga, jakarta, harus, beralih, dari, mobil, ...\n",
              "11  [polusi, udara, pagi, hari, ini, pasti, buruk,...\n",
              "12  [am, jakarta, rank, dunia, ada, lokasi, yg, po...\n",
              "13  [gunungan, batu, bara, di, jakarta, utara, pen...\n",
              "14  [seperti, apakah, kisah, polusi, udara, apakah...\n",
              "15  [polusi, udara, yg, terjadi, di, jakarta, dise..."
            ],
            "text/html": [
              "\n",
              "  <div id=\"df-1561b967-ca91-481c-8a64-0c647658f828\" class=\"colab-df-container\">\n",
              "    <div>\n",
              "<style scoped>\n",
              "    .dataframe tbody tr th:only-of-type {\n",
              "        vertical-align: middle;\n",
              "    }\n",
              "\n",
              "    .dataframe tbody tr th {\n",
              "        vertical-align: top;\n",
              "    }\n",
              "\n",
              "    .dataframe thead th {\n",
              "        text-align: right;\n",
              "    }\n",
              "</style>\n",
              "<table border=\"1\" class=\"dataframe\">\n",
              "  <thead>\n",
              "    <tr style=\"text-align: right;\">\n",
              "      <th></th>\n",
              "      <th>Tokenize</th>\n",
              "    </tr>\n",
              "  </thead>\n",
              "  <tbody>\n",
              "    <tr>\n",
              "      <th>10</th>\n",
              "      <td>[warga, jakarta, harus, beralih, dari, mobil, ...</td>\n",
              "    </tr>\n",
              "    <tr>\n",
              "      <th>11</th>\n",
              "      <td>[polusi, udara, pagi, hari, ini, pasti, buruk,...</td>\n",
              "    </tr>\n",
              "    <tr>\n",
              "      <th>12</th>\n",
              "      <td>[am, jakarta, rank, dunia, ada, lokasi, yg, po...</td>\n",
              "    </tr>\n",
              "    <tr>\n",
              "      <th>13</th>\n",
              "      <td>[gunungan, batu, bara, di, jakarta, utara, pen...</td>\n",
              "    </tr>\n",
              "    <tr>\n",
              "      <th>14</th>\n",
              "      <td>[seperti, apakah, kisah, polusi, udara, apakah...</td>\n",
              "    </tr>\n",
              "    <tr>\n",
              "      <th>15</th>\n",
              "      <td>[polusi, udara, yg, terjadi, di, jakarta, dise...</td>\n",
              "    </tr>\n",
              "  </tbody>\n",
              "</table>\n",
              "</div>\n",
              "    <div class=\"colab-df-buttons\">\n",
              "\n",
              "  <div class=\"colab-df-container\">\n",
              "    <button class=\"colab-df-convert\" onclick=\"convertToInteractive('df-1561b967-ca91-481c-8a64-0c647658f828')\"\n",
              "            title=\"Convert this dataframe to an interactive table.\"\n",
              "            style=\"display:none;\">\n",
              "\n",
              "  <svg xmlns=\"http://www.w3.org/2000/svg\" height=\"24px\" viewBox=\"0 -960 960 960\">\n",
              "    <path d=\"M120-120v-720h720v720H120Zm60-500h600v-160H180v160Zm220 220h160v-160H400v160Zm0 220h160v-160H400v160ZM180-400h160v-160H180v160Zm440 0h160v-160H620v160ZM180-180h160v-160H180v160Zm440 0h160v-160H620v160Z\"/>\n",
              "  </svg>\n",
              "    </button>\n",
              "\n",
              "  <style>\n",
              "    .colab-df-container {\n",
              "      display:flex;\n",
              "      gap: 12px;\n",
              "    }\n",
              "\n",
              "    .colab-df-convert {\n",
              "      background-color: #E8F0FE;\n",
              "      border: none;\n",
              "      border-radius: 50%;\n",
              "      cursor: pointer;\n",
              "      display: none;\n",
              "      fill: #1967D2;\n",
              "      height: 32px;\n",
              "      padding: 0 0 0 0;\n",
              "      width: 32px;\n",
              "    }\n",
              "\n",
              "    .colab-df-convert:hover {\n",
              "      background-color: #E2EBFA;\n",
              "      box-shadow: 0px 1px 2px rgba(60, 64, 67, 0.3), 0px 1px 3px 1px rgba(60, 64, 67, 0.15);\n",
              "      fill: #174EA6;\n",
              "    }\n",
              "\n",
              "    .colab-df-buttons div {\n",
              "      margin-bottom: 4px;\n",
              "    }\n",
              "\n",
              "    [theme=dark] .colab-df-convert {\n",
              "      background-color: #3B4455;\n",
              "      fill: #D2E3FC;\n",
              "    }\n",
              "\n",
              "    [theme=dark] .colab-df-convert:hover {\n",
              "      background-color: #434B5C;\n",
              "      box-shadow: 0px 1px 3px 1px rgba(0, 0, 0, 0.15);\n",
              "      filter: drop-shadow(0px 1px 2px rgba(0, 0, 0, 0.3));\n",
              "      fill: #FFFFFF;\n",
              "    }\n",
              "  </style>\n",
              "\n",
              "    <script>\n",
              "      const buttonEl =\n",
              "        document.querySelector('#df-1561b967-ca91-481c-8a64-0c647658f828 button.colab-df-convert');\n",
              "      buttonEl.style.display =\n",
              "        google.colab.kernel.accessAllowed ? 'block' : 'none';\n",
              "\n",
              "      async function convertToInteractive(key) {\n",
              "        const element = document.querySelector('#df-1561b967-ca91-481c-8a64-0c647658f828');\n",
              "        const dataTable =\n",
              "          await google.colab.kernel.invokeFunction('convertToInteractive',\n",
              "                                                    [key], {});\n",
              "        if (!dataTable) return;\n",
              "\n",
              "        const docLinkHtml = 'Like what you see? Visit the ' +\n",
              "          '<a target=\"_blank\" href=https://colab.research.google.com/notebooks/data_table.ipynb>data table notebook</a>'\n",
              "          + ' to learn more about interactive tables.';\n",
              "        element.innerHTML = '';\n",
              "        dataTable['output_type'] = 'display_data';\n",
              "        await google.colab.output.renderOutput(dataTable, element);\n",
              "        const docLink = document.createElement('div');\n",
              "        docLink.innerHTML = docLinkHtml;\n",
              "        element.appendChild(docLink);\n",
              "      }\n",
              "    </script>\n",
              "  </div>\n",
              "\n",
              "\n",
              "<div id=\"df-8430cf20-9d39-425e-8f94-95dd438121bf\">\n",
              "  <button class=\"colab-df-quickchart\" onclick=\"quickchart('df-8430cf20-9d39-425e-8f94-95dd438121bf')\"\n",
              "            title=\"Suggest charts\"\n",
              "            style=\"display:none;\">\n",
              "\n",
              "<svg xmlns=\"http://www.w3.org/2000/svg\" height=\"24px\"viewBox=\"0 0 24 24\"\n",
              "     width=\"24px\">\n",
              "    <g>\n",
              "        <path d=\"M19 3H5c-1.1 0-2 .9-2 2v14c0 1.1.9 2 2 2h14c1.1 0 2-.9 2-2V5c0-1.1-.9-2-2-2zM9 17H7v-7h2v7zm4 0h-2V7h2v10zm4 0h-2v-4h2v4z\"/>\n",
              "    </g>\n",
              "</svg>\n",
              "  </button>\n",
              "\n",
              "<style>\n",
              "  .colab-df-quickchart {\n",
              "      --bg-color: #E8F0FE;\n",
              "      --fill-color: #1967D2;\n",
              "      --hover-bg-color: #E2EBFA;\n",
              "      --hover-fill-color: #174EA6;\n",
              "      --disabled-fill-color: #AAA;\n",
              "      --disabled-bg-color: #DDD;\n",
              "  }\n",
              "\n",
              "  [theme=dark] .colab-df-quickchart {\n",
              "      --bg-color: #3B4455;\n",
              "      --fill-color: #D2E3FC;\n",
              "      --hover-bg-color: #434B5C;\n",
              "      --hover-fill-color: #FFFFFF;\n",
              "      --disabled-bg-color: #3B4455;\n",
              "      --disabled-fill-color: #666;\n",
              "  }\n",
              "\n",
              "  .colab-df-quickchart {\n",
              "    background-color: var(--bg-color);\n",
              "    border: none;\n",
              "    border-radius: 50%;\n",
              "    cursor: pointer;\n",
              "    display: none;\n",
              "    fill: var(--fill-color);\n",
              "    height: 32px;\n",
              "    padding: 0;\n",
              "    width: 32px;\n",
              "  }\n",
              "\n",
              "  .colab-df-quickchart:hover {\n",
              "    background-color: var(--hover-bg-color);\n",
              "    box-shadow: 0 1px 2px rgba(60, 64, 67, 0.3), 0 1px 3px 1px rgba(60, 64, 67, 0.15);\n",
              "    fill: var(--button-hover-fill-color);\n",
              "  }\n",
              "\n",
              "  .colab-df-quickchart-complete:disabled,\n",
              "  .colab-df-quickchart-complete:disabled:hover {\n",
              "    background-color: var(--disabled-bg-color);\n",
              "    fill: var(--disabled-fill-color);\n",
              "    box-shadow: none;\n",
              "  }\n",
              "\n",
              "  .colab-df-spinner {\n",
              "    border: 2px solid var(--fill-color);\n",
              "    border-color: transparent;\n",
              "    border-bottom-color: var(--fill-color);\n",
              "    animation:\n",
              "      spin 1s steps(1) infinite;\n",
              "  }\n",
              "\n",
              "  @keyframes spin {\n",
              "    0% {\n",
              "      border-color: transparent;\n",
              "      border-bottom-color: var(--fill-color);\n",
              "      border-left-color: var(--fill-color);\n",
              "    }\n",
              "    20% {\n",
              "      border-color: transparent;\n",
              "      border-left-color: var(--fill-color);\n",
              "      border-top-color: var(--fill-color);\n",
              "    }\n",
              "    30% {\n",
              "      border-color: transparent;\n",
              "      border-left-color: var(--fill-color);\n",
              "      border-top-color: var(--fill-color);\n",
              "      border-right-color: var(--fill-color);\n",
              "    }\n",
              "    40% {\n",
              "      border-color: transparent;\n",
              "      border-right-color: var(--fill-color);\n",
              "      border-top-color: var(--fill-color);\n",
              "    }\n",
              "    60% {\n",
              "      border-color: transparent;\n",
              "      border-right-color: var(--fill-color);\n",
              "    }\n",
              "    80% {\n",
              "      border-color: transparent;\n",
              "      border-right-color: var(--fill-color);\n",
              "      border-bottom-color: var(--fill-color);\n",
              "    }\n",
              "    90% {\n",
              "      border-color: transparent;\n",
              "      border-bottom-color: var(--fill-color);\n",
              "    }\n",
              "  }\n",
              "</style>\n",
              "\n",
              "  <script>\n",
              "    async function quickchart(key) {\n",
              "      const quickchartButtonEl =\n",
              "        document.querySelector('#' + key + ' button');\n",
              "      quickchartButtonEl.disabled = true;  // To prevent multiple clicks.\n",
              "      quickchartButtonEl.classList.add('colab-df-spinner');\n",
              "      try {\n",
              "        const charts = await google.colab.kernel.invokeFunction(\n",
              "            'suggestCharts', [key], {});\n",
              "      } catch (error) {\n",
              "        console.error('Error during call to suggestCharts:', error);\n",
              "      }\n",
              "      quickchartButtonEl.classList.remove('colab-df-spinner');\n",
              "      quickchartButtonEl.classList.add('colab-df-quickchart-complete');\n",
              "    }\n",
              "    (() => {\n",
              "      let quickchartButtonEl =\n",
              "        document.querySelector('#df-8430cf20-9d39-425e-8f94-95dd438121bf button');\n",
              "      quickchartButtonEl.style.display =\n",
              "        google.colab.kernel.accessAllowed ? 'block' : 'none';\n",
              "    })();\n",
              "  </script>\n",
              "</div>\n",
              "    </div>\n",
              "  </div>\n"
            ],
            "application/vnd.google.colaboratory.intrinsic+json": {
              "type": "dataframe",
              "summary": "{\n  \"name\": \"df\",\n  \"rows\": 6,\n  \"fields\": [\n    {\n      \"column\": \"Tokenize\",\n      \"properties\": {\n        \"dtype\": \"object\",\n        \"semantic_type\": \"\",\n        \"description\": \"\"\n      }\n    }\n  ]\n}"
            }
          },
          "metadata": {},
          "execution_count": 10
        }
      ]
    },
    {
      "cell_type": "markdown",
      "source": [
        "***NORMALIZATION***"
      ],
      "metadata": {
        "id": "3Yq4Ft5PTncx"
      }
    },
    {
      "cell_type": "code",
      "source": [
        "import pandas as pd\n",
        "import csv\n",
        "import string"
      ],
      "metadata": {
        "id": "w3Y1WGhsTCSk"
      },
      "execution_count": null,
      "outputs": []
    },
    {
      "cell_type": "code",
      "source": [
        "normalized_word = pd.read_csv('colloquial-indonesian-lexicon.csv')\n",
        "\n",
        "normalized_word_dict= {}\n",
        "for index, row in normalized_word.iterrows():\n",
        "  if row[0] not in normalized_word_dict:\n",
        "    normalized_word_dict[row[0]]=row[1]\n",
        "\n",
        "def normalized_term(document):\n",
        "  return [normalized_word_dict[term] if term in normalized_word_dict else term for term in document]\n",
        "\n",
        "df['Normalisasi'] = df['Tokenize'].apply(normalized_term)\n",
        "df['Normalisasi']"
      ],
      "metadata": {
        "colab": {
          "base_uri": "https://localhost:8080/"
        },
        "id": "YuRLPIbP1ICO",
        "outputId": "ff58e32e-0201-4bdd-83b4-b9db3821ae1c"
      },
      "execution_count": null,
      "outputs": [
        {
          "output_type": "execute_result",
          "data": {
            "text/plain": [
              "0      [akhirnya, terang, benderang, gembar, gembor, ...\n",
              "1      [itu, bukan, kabut, selama, seminggu, ada, wfh...\n",
              "2      [betul, sebaiknya, pemerintah, segera, memberi...\n",
              "3      [gila, parah, jakarta, krisis, polusi, udara, ...\n",
              "4      [polusi, udara, di, jakarta, lalu, yang, disal...\n",
              "                             ...                        \n",
              "487    [selasa, udara, klp, gading, kembali, tercemar...\n",
              "488    [nah, jokowi, mengumpulkan, menteri, untuk, me...\n",
              "489    [polusi, udara, di, jabodetabek, menparekraf, ...\n",
              "490    [yang, masih, nyemprot, parfum, biar, enggak, ...\n",
              "491    [upaya, pemerintah, mengatasi, polusi, udara, ...\n",
              "Name: Normalisasi, Length: 492, dtype: object"
            ]
          },
          "metadata": {},
          "execution_count": 12
        }
      ]
    },
    {
      "cell_type": "code",
      "source": [
        "normalized_word1 = pd.read_csv('kbba.txt', sep='\\t')\n",
        "\n",
        "normalized_word_dict1= {}\n",
        "for index, row in normalized_word1.iterrows():\n",
        "  if row[0] not in normalized_word_dict1:\n",
        "    normalized_word_dict1[row[0]]=row[1]\n",
        "\n",
        "def normalized_term1(document):\n",
        "  return [normalized_word_dict1[term] if term in normalized_word_dict1 else term for term in document]\n",
        "\n",
        "df['Normalisasi'] = df['Normalisasi'].apply(normalized_term1)\n",
        "df['Normalisasi']"
      ],
      "metadata": {
        "colab": {
          "base_uri": "https://localhost:8080/"
        },
        "id": "iivmHhcP3vem",
        "outputId": "acb56e09-58ec-4b14-cbfb-430e4638ef68"
      },
      "execution_count": null,
      "outputs": [
        {
          "output_type": "execute_result",
          "data": {
            "text/plain": [
              "0      [akhirnya, terang, benderang, gembar, gembor, ...\n",
              "1      [itu, bukan, kabut, selama, seminggu, ada, wfh...\n",
              "2      [betul, sebaiknya, pemerintah, segera, memberi...\n",
              "3      [gila, parah, jakarta, krisis, polusi, udara, ...\n",
              "4      [polusi, udara, di, jakarta, lalu, yang, disal...\n",
              "                             ...                        \n",
              "487    [selasa, udara, klp, gading, kembali, tercemar...\n",
              "488    [nah, jokowi, mengumpulkan, menteri, untuk, me...\n",
              "489    [polusi, udara, di, jabodetabek, kementrian pa...\n",
              "490    [yang, masih, semprot, parfum, biar, tidak, ba...\n",
              "491    [upaya, pemerintah, mengatasi, polusi, udara, ...\n",
              "Name: Normalisasi, Length: 492, dtype: object"
            ]
          },
          "metadata": {},
          "execution_count": 13
        }
      ]
    },
    {
      "cell_type": "code",
      "source": [
        "normalized_word2 = pd.read_csv('slangword.txt', sep=':')\n",
        "\n",
        "normalized_word_dict2= {}\n",
        "for index, row in normalized_word2.iterrows():\n",
        "  if row[0] not in normalized_word_dict2:\n",
        "    normalized_word_dict2[row[0]]=row[1]\n",
        "\n",
        "def normalized_term2(document):\n",
        "  return [normalized_word_dict2[term] if term in normalized_word_dict2 else term for term in document]\n",
        "\n",
        "df['Normalisasi'] = df['Normalisasi'].apply(normalized_term2)\n",
        "df['Normalisasi']"
      ],
      "metadata": {
        "colab": {
          "base_uri": "https://localhost:8080/"
        },
        "id": "wZmmj3o34eA4",
        "outputId": "dbf6c09c-8589-4bda-9abf-9314d036ecf9"
      },
      "execution_count": null,
      "outputs": [
        {
          "output_type": "execute_result",
          "data": {
            "text/plain": [
              "0      [akhirnya, terang, benderang, gembar, gembor, ...\n",
              "1      [itu, bukan, kabut, selama, seminggu, ada, ker...\n",
              "2      [betul, sebaiknya, pemerintah, segera, memberi...\n",
              "3      [gila, parah, jakarta, krisis, polusi, udara, ...\n",
              "4      [polusi, udara, di, jakarta, lalu, yang, disal...\n",
              "                             ...                        \n",
              "487    [selasa, udara, kelapa, gading, kembali, terce...\n",
              "488    [nah, jokowi, mengumpulkan, menteri, untuk, me...\n",
              "489    [polusi, udara, di, jabodetabek, kementrian pa...\n",
              "490    [yang, masih, semprot, parfum, biar, tidak, ba...\n",
              "491    [upaya, pemerintah, mengatasi, polusi, udara, ...\n",
              "Name: Normalisasi, Length: 492, dtype: object"
            ]
          },
          "metadata": {},
          "execution_count": 14
        }
      ]
    },
    {
      "cell_type": "code",
      "source": [
        "df.loc[10:15, ['Normalisasi']]"
      ],
      "metadata": {
        "colab": {
          "base_uri": "https://localhost:8080/",
          "height": 238
        },
        "id": "ACC_10y7vylp",
        "outputId": "1edc3976-b8e7-44e4-f954-35287bd6b950"
      },
      "execution_count": null,
      "outputs": [
        {
          "output_type": "execute_result",
          "data": {
            "text/plain": [
              "                                          Normalisasi\n",
              "10  [warga, jakarta, harus, beralih, dari, mobil, ...\n",
              "11  [polusi, udara, pagi, hari, ini, pasti, buruk,...\n",
              "12  [sama, jakarta, rank, dunia, ada, lokasi, yang...\n",
              "13  [gunungan, batu, bara, di, jakarta, utara, pen...\n",
              "14  [seperti, apakah, kisah, polusi, udara, apakah...\n",
              "15  [polusi, udara, yang, terjadi, di, jakarta, di..."
            ],
            "text/html": [
              "\n",
              "  <div id=\"df-bf0cf64c-7980-4067-9b4c-ad98fe998c87\" class=\"colab-df-container\">\n",
              "    <div>\n",
              "<style scoped>\n",
              "    .dataframe tbody tr th:only-of-type {\n",
              "        vertical-align: middle;\n",
              "    }\n",
              "\n",
              "    .dataframe tbody tr th {\n",
              "        vertical-align: top;\n",
              "    }\n",
              "\n",
              "    .dataframe thead th {\n",
              "        text-align: right;\n",
              "    }\n",
              "</style>\n",
              "<table border=\"1\" class=\"dataframe\">\n",
              "  <thead>\n",
              "    <tr style=\"text-align: right;\">\n",
              "      <th></th>\n",
              "      <th>Normalisasi</th>\n",
              "    </tr>\n",
              "  </thead>\n",
              "  <tbody>\n",
              "    <tr>\n",
              "      <th>10</th>\n",
              "      <td>[warga, jakarta, harus, beralih, dari, mobil, ...</td>\n",
              "    </tr>\n",
              "    <tr>\n",
              "      <th>11</th>\n",
              "      <td>[polusi, udara, pagi, hari, ini, pasti, buruk,...</td>\n",
              "    </tr>\n",
              "    <tr>\n",
              "      <th>12</th>\n",
              "      <td>[sama, jakarta, rank, dunia, ada, lokasi, yang...</td>\n",
              "    </tr>\n",
              "    <tr>\n",
              "      <th>13</th>\n",
              "      <td>[gunungan, batu, bara, di, jakarta, utara, pen...</td>\n",
              "    </tr>\n",
              "    <tr>\n",
              "      <th>14</th>\n",
              "      <td>[seperti, apakah, kisah, polusi, udara, apakah...</td>\n",
              "    </tr>\n",
              "    <tr>\n",
              "      <th>15</th>\n",
              "      <td>[polusi, udara, yang, terjadi, di, jakarta, di...</td>\n",
              "    </tr>\n",
              "  </tbody>\n",
              "</table>\n",
              "</div>\n",
              "    <div class=\"colab-df-buttons\">\n",
              "\n",
              "  <div class=\"colab-df-container\">\n",
              "    <button class=\"colab-df-convert\" onclick=\"convertToInteractive('df-bf0cf64c-7980-4067-9b4c-ad98fe998c87')\"\n",
              "            title=\"Convert this dataframe to an interactive table.\"\n",
              "            style=\"display:none;\">\n",
              "\n",
              "  <svg xmlns=\"http://www.w3.org/2000/svg\" height=\"24px\" viewBox=\"0 -960 960 960\">\n",
              "    <path d=\"M120-120v-720h720v720H120Zm60-500h600v-160H180v160Zm220 220h160v-160H400v160Zm0 220h160v-160H400v160ZM180-400h160v-160H180v160Zm440 0h160v-160H620v160ZM180-180h160v-160H180v160Zm440 0h160v-160H620v160Z\"/>\n",
              "  </svg>\n",
              "    </button>\n",
              "\n",
              "  <style>\n",
              "    .colab-df-container {\n",
              "      display:flex;\n",
              "      gap: 12px;\n",
              "    }\n",
              "\n",
              "    .colab-df-convert {\n",
              "      background-color: #E8F0FE;\n",
              "      border: none;\n",
              "      border-radius: 50%;\n",
              "      cursor: pointer;\n",
              "      display: none;\n",
              "      fill: #1967D2;\n",
              "      height: 32px;\n",
              "      padding: 0 0 0 0;\n",
              "      width: 32px;\n",
              "    }\n",
              "\n",
              "    .colab-df-convert:hover {\n",
              "      background-color: #E2EBFA;\n",
              "      box-shadow: 0px 1px 2px rgba(60, 64, 67, 0.3), 0px 1px 3px 1px rgba(60, 64, 67, 0.15);\n",
              "      fill: #174EA6;\n",
              "    }\n",
              "\n",
              "    .colab-df-buttons div {\n",
              "      margin-bottom: 4px;\n",
              "    }\n",
              "\n",
              "    [theme=dark] .colab-df-convert {\n",
              "      background-color: #3B4455;\n",
              "      fill: #D2E3FC;\n",
              "    }\n",
              "\n",
              "    [theme=dark] .colab-df-convert:hover {\n",
              "      background-color: #434B5C;\n",
              "      box-shadow: 0px 1px 3px 1px rgba(0, 0, 0, 0.15);\n",
              "      filter: drop-shadow(0px 1px 2px rgba(0, 0, 0, 0.3));\n",
              "      fill: #FFFFFF;\n",
              "    }\n",
              "  </style>\n",
              "\n",
              "    <script>\n",
              "      const buttonEl =\n",
              "        document.querySelector('#df-bf0cf64c-7980-4067-9b4c-ad98fe998c87 button.colab-df-convert');\n",
              "      buttonEl.style.display =\n",
              "        google.colab.kernel.accessAllowed ? 'block' : 'none';\n",
              "\n",
              "      async function convertToInteractive(key) {\n",
              "        const element = document.querySelector('#df-bf0cf64c-7980-4067-9b4c-ad98fe998c87');\n",
              "        const dataTable =\n",
              "          await google.colab.kernel.invokeFunction('convertToInteractive',\n",
              "                                                    [key], {});\n",
              "        if (!dataTable) return;\n",
              "\n",
              "        const docLinkHtml = 'Like what you see? Visit the ' +\n",
              "          '<a target=\"_blank\" href=https://colab.research.google.com/notebooks/data_table.ipynb>data table notebook</a>'\n",
              "          + ' to learn more about interactive tables.';\n",
              "        element.innerHTML = '';\n",
              "        dataTable['output_type'] = 'display_data';\n",
              "        await google.colab.output.renderOutput(dataTable, element);\n",
              "        const docLink = document.createElement('div');\n",
              "        docLink.innerHTML = docLinkHtml;\n",
              "        element.appendChild(docLink);\n",
              "      }\n",
              "    </script>\n",
              "  </div>\n",
              "\n",
              "\n",
              "<div id=\"df-32901152-d457-409f-ac54-a61dd90a7085\">\n",
              "  <button class=\"colab-df-quickchart\" onclick=\"quickchart('df-32901152-d457-409f-ac54-a61dd90a7085')\"\n",
              "            title=\"Suggest charts\"\n",
              "            style=\"display:none;\">\n",
              "\n",
              "<svg xmlns=\"http://www.w3.org/2000/svg\" height=\"24px\"viewBox=\"0 0 24 24\"\n",
              "     width=\"24px\">\n",
              "    <g>\n",
              "        <path d=\"M19 3H5c-1.1 0-2 .9-2 2v14c0 1.1.9 2 2 2h14c1.1 0 2-.9 2-2V5c0-1.1-.9-2-2-2zM9 17H7v-7h2v7zm4 0h-2V7h2v10zm4 0h-2v-4h2v4z\"/>\n",
              "    </g>\n",
              "</svg>\n",
              "  </button>\n",
              "\n",
              "<style>\n",
              "  .colab-df-quickchart {\n",
              "      --bg-color: #E8F0FE;\n",
              "      --fill-color: #1967D2;\n",
              "      --hover-bg-color: #E2EBFA;\n",
              "      --hover-fill-color: #174EA6;\n",
              "      --disabled-fill-color: #AAA;\n",
              "      --disabled-bg-color: #DDD;\n",
              "  }\n",
              "\n",
              "  [theme=dark] .colab-df-quickchart {\n",
              "      --bg-color: #3B4455;\n",
              "      --fill-color: #D2E3FC;\n",
              "      --hover-bg-color: #434B5C;\n",
              "      --hover-fill-color: #FFFFFF;\n",
              "      --disabled-bg-color: #3B4455;\n",
              "      --disabled-fill-color: #666;\n",
              "  }\n",
              "\n",
              "  .colab-df-quickchart {\n",
              "    background-color: var(--bg-color);\n",
              "    border: none;\n",
              "    border-radius: 50%;\n",
              "    cursor: pointer;\n",
              "    display: none;\n",
              "    fill: var(--fill-color);\n",
              "    height: 32px;\n",
              "    padding: 0;\n",
              "    width: 32px;\n",
              "  }\n",
              "\n",
              "  .colab-df-quickchart:hover {\n",
              "    background-color: var(--hover-bg-color);\n",
              "    box-shadow: 0 1px 2px rgba(60, 64, 67, 0.3), 0 1px 3px 1px rgba(60, 64, 67, 0.15);\n",
              "    fill: var(--button-hover-fill-color);\n",
              "  }\n",
              "\n",
              "  .colab-df-quickchart-complete:disabled,\n",
              "  .colab-df-quickchart-complete:disabled:hover {\n",
              "    background-color: var(--disabled-bg-color);\n",
              "    fill: var(--disabled-fill-color);\n",
              "    box-shadow: none;\n",
              "  }\n",
              "\n",
              "  .colab-df-spinner {\n",
              "    border: 2px solid var(--fill-color);\n",
              "    border-color: transparent;\n",
              "    border-bottom-color: var(--fill-color);\n",
              "    animation:\n",
              "      spin 1s steps(1) infinite;\n",
              "  }\n",
              "\n",
              "  @keyframes spin {\n",
              "    0% {\n",
              "      border-color: transparent;\n",
              "      border-bottom-color: var(--fill-color);\n",
              "      border-left-color: var(--fill-color);\n",
              "    }\n",
              "    20% {\n",
              "      border-color: transparent;\n",
              "      border-left-color: var(--fill-color);\n",
              "      border-top-color: var(--fill-color);\n",
              "    }\n",
              "    30% {\n",
              "      border-color: transparent;\n",
              "      border-left-color: var(--fill-color);\n",
              "      border-top-color: var(--fill-color);\n",
              "      border-right-color: var(--fill-color);\n",
              "    }\n",
              "    40% {\n",
              "      border-color: transparent;\n",
              "      border-right-color: var(--fill-color);\n",
              "      border-top-color: var(--fill-color);\n",
              "    }\n",
              "    60% {\n",
              "      border-color: transparent;\n",
              "      border-right-color: var(--fill-color);\n",
              "    }\n",
              "    80% {\n",
              "      border-color: transparent;\n",
              "      border-right-color: var(--fill-color);\n",
              "      border-bottom-color: var(--fill-color);\n",
              "    }\n",
              "    90% {\n",
              "      border-color: transparent;\n",
              "      border-bottom-color: var(--fill-color);\n",
              "    }\n",
              "  }\n",
              "</style>\n",
              "\n",
              "  <script>\n",
              "    async function quickchart(key) {\n",
              "      const quickchartButtonEl =\n",
              "        document.querySelector('#' + key + ' button');\n",
              "      quickchartButtonEl.disabled = true;  // To prevent multiple clicks.\n",
              "      quickchartButtonEl.classList.add('colab-df-spinner');\n",
              "      try {\n",
              "        const charts = await google.colab.kernel.invokeFunction(\n",
              "            'suggestCharts', [key], {});\n",
              "      } catch (error) {\n",
              "        console.error('Error during call to suggestCharts:', error);\n",
              "      }\n",
              "      quickchartButtonEl.classList.remove('colab-df-spinner');\n",
              "      quickchartButtonEl.classList.add('colab-df-quickchart-complete');\n",
              "    }\n",
              "    (() => {\n",
              "      let quickchartButtonEl =\n",
              "        document.querySelector('#df-32901152-d457-409f-ac54-a61dd90a7085 button');\n",
              "      quickchartButtonEl.style.display =\n",
              "        google.colab.kernel.accessAllowed ? 'block' : 'none';\n",
              "    })();\n",
              "  </script>\n",
              "</div>\n",
              "    </div>\n",
              "  </div>\n"
            ],
            "application/vnd.google.colaboratory.intrinsic+json": {
              "type": "dataframe",
              "summary": "{\n  \"name\": \"df\",\n  \"rows\": 6,\n  \"fields\": [\n    {\n      \"column\": \"Normalisasi\",\n      \"properties\": {\n        \"dtype\": \"object\",\n        \"semantic_type\": \"\",\n        \"description\": \"\"\n      }\n    }\n  ]\n}"
            }
          },
          "metadata": {},
          "execution_count": 15
        }
      ]
    },
    {
      "cell_type": "markdown",
      "source": [
        "***STOPWORD REMOVAL***"
      ],
      "metadata": {
        "id": "JaOdb05cVzhq"
      }
    },
    {
      "cell_type": "code",
      "source": [
        "nltk.download('stopwords')\n",
        "from nltk.corpus import stopwords\n"
      ],
      "metadata": {
        "id": "vgpY1Hy6WBkE",
        "colab": {
          "base_uri": "https://localhost:8080/"
        },
        "outputId": "50597499-d919-4e64-f80b-08dc5d1be057"
      },
      "execution_count": null,
      "outputs": [
        {
          "output_type": "stream",
          "name": "stderr",
          "text": [
            "[nltk_data] Downloading package stopwords to /root/nltk_data...\n",
            "[nltk_data]   Unzipping corpora/stopwords.zip.\n"
          ]
        }
      ]
    },
    {
      "cell_type": "code",
      "source": [
        "stopw = set(stopwords.words('indonesian'))\n",
        "\n",
        "def sw_removal (words):\n",
        "  return [word for word in words if word not in stopw]\n",
        "# Menghapus stopwords dari setiap teks dalam DataFrame\n",
        "df['Stopword_Removal'] = df['Normalisasi'].apply(sw_removal)\n",
        "df['Stopword_Removal']"
      ],
      "metadata": {
        "id": "9oFAY6TcWkMZ",
        "colab": {
          "base_uri": "https://localhost:8080/"
        },
        "outputId": "34b71e87-572c-4e92-f11a-090214dbce1e"
      },
      "execution_count": null,
      "outputs": [
        {
          "output_type": "execute_result",
          "data": {
            "text/plain": [
              "0      [terang, benderang, gembar, gembor, polusi, ud...\n",
              "1      [kabut, seminggu, kerja dari rumah, semprot, a...\n",
              "2      [pemerintah, ktp, sih, udara, polusi, memerint...\n",
              "3      [gila, parah, jakarta, krisis, polusi, udara, ...\n",
              "4      [polusi, udara, jakarta, disalahkan, ukm, indu...\n",
              "                             ...                        \n",
              "487    [selasa, udara, kelapa, gading, tercemar, sese...\n",
              "488    [jokowi, mengumpulkan, menteri, membahas, polu...\n",
              "489    [polusi, udara, jabodetabek, kementrian pariwi...\n",
              "490    [semprot, parfum, biar, bau, badan, menambah, ...\n",
              "491    [upaya, pemerintah, mengatasi, polusi, udara, ...\n",
              "Name: Stopword_Removal, Length: 492, dtype: object"
            ]
          },
          "metadata": {},
          "execution_count": 17
        }
      ]
    },
    {
      "cell_type": "code",
      "source": [
        "df.loc[10:15, ['Stopword_Removal']]"
      ],
      "metadata": {
        "colab": {
          "base_uri": "https://localhost:8080/",
          "height": 238
        },
        "id": "bRnSJq9Kxmss",
        "outputId": "d7d51919-0fe3-44ff-f82d-0d70e3400073"
      },
      "execution_count": null,
      "outputs": [
        {
          "output_type": "execute_result",
          "data": {
            "text/plain": [
              "                                     Stopword_Removal\n",
              "10  [warga, jakarta, beralih, mobil, pribadi, moda...\n",
              "11  [polusi, udara, pagi, buruk, jam, anak, masuk,...\n",
              "12  [jakarta, rank, dunia, lokasi, polusi, udara, ...\n",
              "13  [gunungan, batu, bara, jakarta, utara, penyumb...\n",
              "14  [kisah, polusi, udara, buruknya, lihat, esok, ...\n",
              "15  [polusi, udara, jakarta, disengaja, maksud, an..."
            ],
            "text/html": [
              "\n",
              "  <div id=\"df-bbf85bde-6cab-4a1e-826e-3881995e779a\" class=\"colab-df-container\">\n",
              "    <div>\n",
              "<style scoped>\n",
              "    .dataframe tbody tr th:only-of-type {\n",
              "        vertical-align: middle;\n",
              "    }\n",
              "\n",
              "    .dataframe tbody tr th {\n",
              "        vertical-align: top;\n",
              "    }\n",
              "\n",
              "    .dataframe thead th {\n",
              "        text-align: right;\n",
              "    }\n",
              "</style>\n",
              "<table border=\"1\" class=\"dataframe\">\n",
              "  <thead>\n",
              "    <tr style=\"text-align: right;\">\n",
              "      <th></th>\n",
              "      <th>Stopword_Removal</th>\n",
              "    </tr>\n",
              "  </thead>\n",
              "  <tbody>\n",
              "    <tr>\n",
              "      <th>10</th>\n",
              "      <td>[warga, jakarta, beralih, mobil, pribadi, moda...</td>\n",
              "    </tr>\n",
              "    <tr>\n",
              "      <th>11</th>\n",
              "      <td>[polusi, udara, pagi, buruk, jam, anak, masuk,...</td>\n",
              "    </tr>\n",
              "    <tr>\n",
              "      <th>12</th>\n",
              "      <td>[jakarta, rank, dunia, lokasi, polusi, udara, ...</td>\n",
              "    </tr>\n",
              "    <tr>\n",
              "      <th>13</th>\n",
              "      <td>[gunungan, batu, bara, jakarta, utara, penyumb...</td>\n",
              "    </tr>\n",
              "    <tr>\n",
              "      <th>14</th>\n",
              "      <td>[kisah, polusi, udara, buruknya, lihat, esok, ...</td>\n",
              "    </tr>\n",
              "    <tr>\n",
              "      <th>15</th>\n",
              "      <td>[polusi, udara, jakarta, disengaja, maksud, an...</td>\n",
              "    </tr>\n",
              "  </tbody>\n",
              "</table>\n",
              "</div>\n",
              "    <div class=\"colab-df-buttons\">\n",
              "\n",
              "  <div class=\"colab-df-container\">\n",
              "    <button class=\"colab-df-convert\" onclick=\"convertToInteractive('df-bbf85bde-6cab-4a1e-826e-3881995e779a')\"\n",
              "            title=\"Convert this dataframe to an interactive table.\"\n",
              "            style=\"display:none;\">\n",
              "\n",
              "  <svg xmlns=\"http://www.w3.org/2000/svg\" height=\"24px\" viewBox=\"0 -960 960 960\">\n",
              "    <path d=\"M120-120v-720h720v720H120Zm60-500h600v-160H180v160Zm220 220h160v-160H400v160Zm0 220h160v-160H400v160ZM180-400h160v-160H180v160Zm440 0h160v-160H620v160ZM180-180h160v-160H180v160Zm440 0h160v-160H620v160Z\"/>\n",
              "  </svg>\n",
              "    </button>\n",
              "\n",
              "  <style>\n",
              "    .colab-df-container {\n",
              "      display:flex;\n",
              "      gap: 12px;\n",
              "    }\n",
              "\n",
              "    .colab-df-convert {\n",
              "      background-color: #E8F0FE;\n",
              "      border: none;\n",
              "      border-radius: 50%;\n",
              "      cursor: pointer;\n",
              "      display: none;\n",
              "      fill: #1967D2;\n",
              "      height: 32px;\n",
              "      padding: 0 0 0 0;\n",
              "      width: 32px;\n",
              "    }\n",
              "\n",
              "    .colab-df-convert:hover {\n",
              "      background-color: #E2EBFA;\n",
              "      box-shadow: 0px 1px 2px rgba(60, 64, 67, 0.3), 0px 1px 3px 1px rgba(60, 64, 67, 0.15);\n",
              "      fill: #174EA6;\n",
              "    }\n",
              "\n",
              "    .colab-df-buttons div {\n",
              "      margin-bottom: 4px;\n",
              "    }\n",
              "\n",
              "    [theme=dark] .colab-df-convert {\n",
              "      background-color: #3B4455;\n",
              "      fill: #D2E3FC;\n",
              "    }\n",
              "\n",
              "    [theme=dark] .colab-df-convert:hover {\n",
              "      background-color: #434B5C;\n",
              "      box-shadow: 0px 1px 3px 1px rgba(0, 0, 0, 0.15);\n",
              "      filter: drop-shadow(0px 1px 2px rgba(0, 0, 0, 0.3));\n",
              "      fill: #FFFFFF;\n",
              "    }\n",
              "  </style>\n",
              "\n",
              "    <script>\n",
              "      const buttonEl =\n",
              "        document.querySelector('#df-bbf85bde-6cab-4a1e-826e-3881995e779a button.colab-df-convert');\n",
              "      buttonEl.style.display =\n",
              "        google.colab.kernel.accessAllowed ? 'block' : 'none';\n",
              "\n",
              "      async function convertToInteractive(key) {\n",
              "        const element = document.querySelector('#df-bbf85bde-6cab-4a1e-826e-3881995e779a');\n",
              "        const dataTable =\n",
              "          await google.colab.kernel.invokeFunction('convertToInteractive',\n",
              "                                                    [key], {});\n",
              "        if (!dataTable) return;\n",
              "\n",
              "        const docLinkHtml = 'Like what you see? Visit the ' +\n",
              "          '<a target=\"_blank\" href=https://colab.research.google.com/notebooks/data_table.ipynb>data table notebook</a>'\n",
              "          + ' to learn more about interactive tables.';\n",
              "        element.innerHTML = '';\n",
              "        dataTable['output_type'] = 'display_data';\n",
              "        await google.colab.output.renderOutput(dataTable, element);\n",
              "        const docLink = document.createElement('div');\n",
              "        docLink.innerHTML = docLinkHtml;\n",
              "        element.appendChild(docLink);\n",
              "      }\n",
              "    </script>\n",
              "  </div>\n",
              "\n",
              "\n",
              "<div id=\"df-9421409e-8145-4c4d-bcae-33ed3630452c\">\n",
              "  <button class=\"colab-df-quickchart\" onclick=\"quickchart('df-9421409e-8145-4c4d-bcae-33ed3630452c')\"\n",
              "            title=\"Suggest charts\"\n",
              "            style=\"display:none;\">\n",
              "\n",
              "<svg xmlns=\"http://www.w3.org/2000/svg\" height=\"24px\"viewBox=\"0 0 24 24\"\n",
              "     width=\"24px\">\n",
              "    <g>\n",
              "        <path d=\"M19 3H5c-1.1 0-2 .9-2 2v14c0 1.1.9 2 2 2h14c1.1 0 2-.9 2-2V5c0-1.1-.9-2-2-2zM9 17H7v-7h2v7zm4 0h-2V7h2v10zm4 0h-2v-4h2v4z\"/>\n",
              "    </g>\n",
              "</svg>\n",
              "  </button>\n",
              "\n",
              "<style>\n",
              "  .colab-df-quickchart {\n",
              "      --bg-color: #E8F0FE;\n",
              "      --fill-color: #1967D2;\n",
              "      --hover-bg-color: #E2EBFA;\n",
              "      --hover-fill-color: #174EA6;\n",
              "      --disabled-fill-color: #AAA;\n",
              "      --disabled-bg-color: #DDD;\n",
              "  }\n",
              "\n",
              "  [theme=dark] .colab-df-quickchart {\n",
              "      --bg-color: #3B4455;\n",
              "      --fill-color: #D2E3FC;\n",
              "      --hover-bg-color: #434B5C;\n",
              "      --hover-fill-color: #FFFFFF;\n",
              "      --disabled-bg-color: #3B4455;\n",
              "      --disabled-fill-color: #666;\n",
              "  }\n",
              "\n",
              "  .colab-df-quickchart {\n",
              "    background-color: var(--bg-color);\n",
              "    border: none;\n",
              "    border-radius: 50%;\n",
              "    cursor: pointer;\n",
              "    display: none;\n",
              "    fill: var(--fill-color);\n",
              "    height: 32px;\n",
              "    padding: 0;\n",
              "    width: 32px;\n",
              "  }\n",
              "\n",
              "  .colab-df-quickchart:hover {\n",
              "    background-color: var(--hover-bg-color);\n",
              "    box-shadow: 0 1px 2px rgba(60, 64, 67, 0.3), 0 1px 3px 1px rgba(60, 64, 67, 0.15);\n",
              "    fill: var(--button-hover-fill-color);\n",
              "  }\n",
              "\n",
              "  .colab-df-quickchart-complete:disabled,\n",
              "  .colab-df-quickchart-complete:disabled:hover {\n",
              "    background-color: var(--disabled-bg-color);\n",
              "    fill: var(--disabled-fill-color);\n",
              "    box-shadow: none;\n",
              "  }\n",
              "\n",
              "  .colab-df-spinner {\n",
              "    border: 2px solid var(--fill-color);\n",
              "    border-color: transparent;\n",
              "    border-bottom-color: var(--fill-color);\n",
              "    animation:\n",
              "      spin 1s steps(1) infinite;\n",
              "  }\n",
              "\n",
              "  @keyframes spin {\n",
              "    0% {\n",
              "      border-color: transparent;\n",
              "      border-bottom-color: var(--fill-color);\n",
              "      border-left-color: var(--fill-color);\n",
              "    }\n",
              "    20% {\n",
              "      border-color: transparent;\n",
              "      border-left-color: var(--fill-color);\n",
              "      border-top-color: var(--fill-color);\n",
              "    }\n",
              "    30% {\n",
              "      border-color: transparent;\n",
              "      border-left-color: var(--fill-color);\n",
              "      border-top-color: var(--fill-color);\n",
              "      border-right-color: var(--fill-color);\n",
              "    }\n",
              "    40% {\n",
              "      border-color: transparent;\n",
              "      border-right-color: var(--fill-color);\n",
              "      border-top-color: var(--fill-color);\n",
              "    }\n",
              "    60% {\n",
              "      border-color: transparent;\n",
              "      border-right-color: var(--fill-color);\n",
              "    }\n",
              "    80% {\n",
              "      border-color: transparent;\n",
              "      border-right-color: var(--fill-color);\n",
              "      border-bottom-color: var(--fill-color);\n",
              "    }\n",
              "    90% {\n",
              "      border-color: transparent;\n",
              "      border-bottom-color: var(--fill-color);\n",
              "    }\n",
              "  }\n",
              "</style>\n",
              "\n",
              "  <script>\n",
              "    async function quickchart(key) {\n",
              "      const quickchartButtonEl =\n",
              "        document.querySelector('#' + key + ' button');\n",
              "      quickchartButtonEl.disabled = true;  // To prevent multiple clicks.\n",
              "      quickchartButtonEl.classList.add('colab-df-spinner');\n",
              "      try {\n",
              "        const charts = await google.colab.kernel.invokeFunction(\n",
              "            'suggestCharts', [key], {});\n",
              "      } catch (error) {\n",
              "        console.error('Error during call to suggestCharts:', error);\n",
              "      }\n",
              "      quickchartButtonEl.classList.remove('colab-df-spinner');\n",
              "      quickchartButtonEl.classList.add('colab-df-quickchart-complete');\n",
              "    }\n",
              "    (() => {\n",
              "      let quickchartButtonEl =\n",
              "        document.querySelector('#df-9421409e-8145-4c4d-bcae-33ed3630452c button');\n",
              "      quickchartButtonEl.style.display =\n",
              "        google.colab.kernel.accessAllowed ? 'block' : 'none';\n",
              "    })();\n",
              "  </script>\n",
              "</div>\n",
              "    </div>\n",
              "  </div>\n"
            ],
            "application/vnd.google.colaboratory.intrinsic+json": {
              "type": "dataframe",
              "summary": "{\n  \"name\": \"df\",\n  \"rows\": 6,\n  \"fields\": [\n    {\n      \"column\": \"Stopword_Removal\",\n      \"properties\": {\n        \"dtype\": \"object\",\n        \"semantic_type\": \"\",\n        \"description\": \"\"\n      }\n    }\n  ]\n}"
            }
          },
          "metadata": {},
          "execution_count": 18
        }
      ]
    },
    {
      "cell_type": "markdown",
      "source": [
        "***STEMMING***"
      ],
      "metadata": {
        "id": "_5NER1WTQf1x"
      }
    },
    {
      "cell_type": "code",
      "source": [
        "!pip install Sastrawi"
      ],
      "metadata": {
        "id": "M3rv_-CbQjS4",
        "colab": {
          "base_uri": "https://localhost:8080/"
        },
        "outputId": "92869dbe-df9b-478d-88bf-4be9f24a5917"
      },
      "execution_count": null,
      "outputs": [
        {
          "output_type": "stream",
          "name": "stdout",
          "text": [
            "Collecting Sastrawi\n",
            "  Downloading Sastrawi-1.0.1-py2.py3-none-any.whl (209 kB)\n",
            "\u001b[2K     \u001b[90m━━━━━━━━━━━━━━━━━━━━━━━━━━━━━━━━━━━━━━━━\u001b[0m \u001b[32m209.7/209.7 kB\u001b[0m \u001b[31m4.2 MB/s\u001b[0m eta \u001b[36m0:00:00\u001b[0m\n",
            "\u001b[?25hInstalling collected packages: Sastrawi\n",
            "Successfully installed Sastrawi-1.0.1\n"
          ]
        }
      ]
    },
    {
      "cell_type": "code",
      "source": [
        "from Sastrawi.Stemmer.StemmerFactory import StemmerFactory"
      ],
      "metadata": {
        "id": "D2lREKRnQtW9"
      },
      "execution_count": null,
      "outputs": []
    },
    {
      "cell_type": "code",
      "source": [
        "# Membuat stemmer\n",
        "factory = StemmerFactory()\n",
        "stemmer = factory.create_stemmer()"
      ],
      "metadata": {
        "id": "u5Jg3uF4RIXn"
      },
      "execution_count": null,
      "outputs": []
    },
    {
      "cell_type": "code",
      "source": [
        "def stemming(text):\n",
        "  return [stemmer.stem(token) for token in text]\n",
        "\n",
        "df['Stemming'] = df['Stopword_Removal'].apply(stemming)\n",
        "df['Stemming']"
      ],
      "metadata": {
        "id": "SxTvMKf_RjGW",
        "colab": {
          "base_uri": "https://localhost:8080/"
        },
        "outputId": "a40da8a8-94b8-4f59-99a4-4248dcc9c36d"
      },
      "execution_count": null,
      "outputs": [
        {
          "output_type": "execute_result",
          "data": {
            "text/plain": [
              "0      [terang, benderang, gembar, gembor, polusi, ud...\n",
              "1      [kabut, minggu, kerja dari rumah, semprot, air...\n",
              "2      [perintah, ktp, sih, udara, polusi, perintah, ...\n",
              "3      [gila, parah, jakarta, krisis, polusi, udara, ...\n",
              "4      [polusi, udara, jakarta, salah, ukm, industri,...\n",
              "                             ...                        \n",
              "487    [selasa, udara, kelapa, gading, cemar, segera ...\n",
              "488    [jokowi, kumpul, menteri, bahas, polusi, udara...\n",
              "489    [polusi, udara, jabodetabek, tri pariwisata da...\n",
              "490    [semprot, parfum, biar, bau, badan, tambah, po...\n",
              "491    [upaya, perintah, atas, polusi, udara, dki, ja...\n",
              "Name: Stemming, Length: 492, dtype: object"
            ]
          },
          "metadata": {},
          "execution_count": 22
        }
      ]
    },
    {
      "cell_type": "code",
      "source": [
        "df.loc[10:15, ['Stemming']]"
      ],
      "metadata": {
        "colab": {
          "base_uri": "https://localhost:8080/",
          "height": 238
        },
        "id": "VG1j4J1Lznve",
        "outputId": "72b7b25d-fac1-4160-a644-9be68b9e36a9"
      },
      "execution_count": null,
      "outputs": [
        {
          "output_type": "execute_result",
          "data": {
            "text/plain": [
              "                                             Stemming\n",
              "10  [warga, jakarta, alih, mobil, pribadi, moda, t...\n",
              "11  [polusi, udara, pagi, buruk, jam, anak, masuk,...\n",
              "12  [jakarta, rank, dunia, lokasi, polusi, udara, ...\n",
              "13  [gunung, batu, bara, jakarta, utara, sumbang, ...\n",
              "14  [kisah, polusi, udara, buruk, lihat, esok, kis...\n",
              "15  [polusi, udara, jakarta, sengaja, maksud, anak..."
            ],
            "text/html": [
              "\n",
              "  <div id=\"df-c98730be-8d02-41fd-9384-a8ef49126e4f\" class=\"colab-df-container\">\n",
              "    <div>\n",
              "<style scoped>\n",
              "    .dataframe tbody tr th:only-of-type {\n",
              "        vertical-align: middle;\n",
              "    }\n",
              "\n",
              "    .dataframe tbody tr th {\n",
              "        vertical-align: top;\n",
              "    }\n",
              "\n",
              "    .dataframe thead th {\n",
              "        text-align: right;\n",
              "    }\n",
              "</style>\n",
              "<table border=\"1\" class=\"dataframe\">\n",
              "  <thead>\n",
              "    <tr style=\"text-align: right;\">\n",
              "      <th></th>\n",
              "      <th>Stemming</th>\n",
              "    </tr>\n",
              "  </thead>\n",
              "  <tbody>\n",
              "    <tr>\n",
              "      <th>10</th>\n",
              "      <td>[warga, jakarta, alih, mobil, pribadi, moda, t...</td>\n",
              "    </tr>\n",
              "    <tr>\n",
              "      <th>11</th>\n",
              "      <td>[polusi, udara, pagi, buruk, jam, anak, masuk,...</td>\n",
              "    </tr>\n",
              "    <tr>\n",
              "      <th>12</th>\n",
              "      <td>[jakarta, rank, dunia, lokasi, polusi, udara, ...</td>\n",
              "    </tr>\n",
              "    <tr>\n",
              "      <th>13</th>\n",
              "      <td>[gunung, batu, bara, jakarta, utara, sumbang, ...</td>\n",
              "    </tr>\n",
              "    <tr>\n",
              "      <th>14</th>\n",
              "      <td>[kisah, polusi, udara, buruk, lihat, esok, kis...</td>\n",
              "    </tr>\n",
              "    <tr>\n",
              "      <th>15</th>\n",
              "      <td>[polusi, udara, jakarta, sengaja, maksud, anak...</td>\n",
              "    </tr>\n",
              "  </tbody>\n",
              "</table>\n",
              "</div>\n",
              "    <div class=\"colab-df-buttons\">\n",
              "\n",
              "  <div class=\"colab-df-container\">\n",
              "    <button class=\"colab-df-convert\" onclick=\"convertToInteractive('df-c98730be-8d02-41fd-9384-a8ef49126e4f')\"\n",
              "            title=\"Convert this dataframe to an interactive table.\"\n",
              "            style=\"display:none;\">\n",
              "\n",
              "  <svg xmlns=\"http://www.w3.org/2000/svg\" height=\"24px\" viewBox=\"0 -960 960 960\">\n",
              "    <path d=\"M120-120v-720h720v720H120Zm60-500h600v-160H180v160Zm220 220h160v-160H400v160Zm0 220h160v-160H400v160ZM180-400h160v-160H180v160Zm440 0h160v-160H620v160ZM180-180h160v-160H180v160Zm440 0h160v-160H620v160Z\"/>\n",
              "  </svg>\n",
              "    </button>\n",
              "\n",
              "  <style>\n",
              "    .colab-df-container {\n",
              "      display:flex;\n",
              "      gap: 12px;\n",
              "    }\n",
              "\n",
              "    .colab-df-convert {\n",
              "      background-color: #E8F0FE;\n",
              "      border: none;\n",
              "      border-radius: 50%;\n",
              "      cursor: pointer;\n",
              "      display: none;\n",
              "      fill: #1967D2;\n",
              "      height: 32px;\n",
              "      padding: 0 0 0 0;\n",
              "      width: 32px;\n",
              "    }\n",
              "\n",
              "    .colab-df-convert:hover {\n",
              "      background-color: #E2EBFA;\n",
              "      box-shadow: 0px 1px 2px rgba(60, 64, 67, 0.3), 0px 1px 3px 1px rgba(60, 64, 67, 0.15);\n",
              "      fill: #174EA6;\n",
              "    }\n",
              "\n",
              "    .colab-df-buttons div {\n",
              "      margin-bottom: 4px;\n",
              "    }\n",
              "\n",
              "    [theme=dark] .colab-df-convert {\n",
              "      background-color: #3B4455;\n",
              "      fill: #D2E3FC;\n",
              "    }\n",
              "\n",
              "    [theme=dark] .colab-df-convert:hover {\n",
              "      background-color: #434B5C;\n",
              "      box-shadow: 0px 1px 3px 1px rgba(0, 0, 0, 0.15);\n",
              "      filter: drop-shadow(0px 1px 2px rgba(0, 0, 0, 0.3));\n",
              "      fill: #FFFFFF;\n",
              "    }\n",
              "  </style>\n",
              "\n",
              "    <script>\n",
              "      const buttonEl =\n",
              "        document.querySelector('#df-c98730be-8d02-41fd-9384-a8ef49126e4f button.colab-df-convert');\n",
              "      buttonEl.style.display =\n",
              "        google.colab.kernel.accessAllowed ? 'block' : 'none';\n",
              "\n",
              "      async function convertToInteractive(key) {\n",
              "        const element = document.querySelector('#df-c98730be-8d02-41fd-9384-a8ef49126e4f');\n",
              "        const dataTable =\n",
              "          await google.colab.kernel.invokeFunction('convertToInteractive',\n",
              "                                                    [key], {});\n",
              "        if (!dataTable) return;\n",
              "\n",
              "        const docLinkHtml = 'Like what you see? Visit the ' +\n",
              "          '<a target=\"_blank\" href=https://colab.research.google.com/notebooks/data_table.ipynb>data table notebook</a>'\n",
              "          + ' to learn more about interactive tables.';\n",
              "        element.innerHTML = '';\n",
              "        dataTable['output_type'] = 'display_data';\n",
              "        await google.colab.output.renderOutput(dataTable, element);\n",
              "        const docLink = document.createElement('div');\n",
              "        docLink.innerHTML = docLinkHtml;\n",
              "        element.appendChild(docLink);\n",
              "      }\n",
              "    </script>\n",
              "  </div>\n",
              "\n",
              "\n",
              "<div id=\"df-35456233-604d-4b3e-90f2-15706f9b4398\">\n",
              "  <button class=\"colab-df-quickchart\" onclick=\"quickchart('df-35456233-604d-4b3e-90f2-15706f9b4398')\"\n",
              "            title=\"Suggest charts\"\n",
              "            style=\"display:none;\">\n",
              "\n",
              "<svg xmlns=\"http://www.w3.org/2000/svg\" height=\"24px\"viewBox=\"0 0 24 24\"\n",
              "     width=\"24px\">\n",
              "    <g>\n",
              "        <path d=\"M19 3H5c-1.1 0-2 .9-2 2v14c0 1.1.9 2 2 2h14c1.1 0 2-.9 2-2V5c0-1.1-.9-2-2-2zM9 17H7v-7h2v7zm4 0h-2V7h2v10zm4 0h-2v-4h2v4z\"/>\n",
              "    </g>\n",
              "</svg>\n",
              "  </button>\n",
              "\n",
              "<style>\n",
              "  .colab-df-quickchart {\n",
              "      --bg-color: #E8F0FE;\n",
              "      --fill-color: #1967D2;\n",
              "      --hover-bg-color: #E2EBFA;\n",
              "      --hover-fill-color: #174EA6;\n",
              "      --disabled-fill-color: #AAA;\n",
              "      --disabled-bg-color: #DDD;\n",
              "  }\n",
              "\n",
              "  [theme=dark] .colab-df-quickchart {\n",
              "      --bg-color: #3B4455;\n",
              "      --fill-color: #D2E3FC;\n",
              "      --hover-bg-color: #434B5C;\n",
              "      --hover-fill-color: #FFFFFF;\n",
              "      --disabled-bg-color: #3B4455;\n",
              "      --disabled-fill-color: #666;\n",
              "  }\n",
              "\n",
              "  .colab-df-quickchart {\n",
              "    background-color: var(--bg-color);\n",
              "    border: none;\n",
              "    border-radius: 50%;\n",
              "    cursor: pointer;\n",
              "    display: none;\n",
              "    fill: var(--fill-color);\n",
              "    height: 32px;\n",
              "    padding: 0;\n",
              "    width: 32px;\n",
              "  }\n",
              "\n",
              "  .colab-df-quickchart:hover {\n",
              "    background-color: var(--hover-bg-color);\n",
              "    box-shadow: 0 1px 2px rgba(60, 64, 67, 0.3), 0 1px 3px 1px rgba(60, 64, 67, 0.15);\n",
              "    fill: var(--button-hover-fill-color);\n",
              "  }\n",
              "\n",
              "  .colab-df-quickchart-complete:disabled,\n",
              "  .colab-df-quickchart-complete:disabled:hover {\n",
              "    background-color: var(--disabled-bg-color);\n",
              "    fill: var(--disabled-fill-color);\n",
              "    box-shadow: none;\n",
              "  }\n",
              "\n",
              "  .colab-df-spinner {\n",
              "    border: 2px solid var(--fill-color);\n",
              "    border-color: transparent;\n",
              "    border-bottom-color: var(--fill-color);\n",
              "    animation:\n",
              "      spin 1s steps(1) infinite;\n",
              "  }\n",
              "\n",
              "  @keyframes spin {\n",
              "    0% {\n",
              "      border-color: transparent;\n",
              "      border-bottom-color: var(--fill-color);\n",
              "      border-left-color: var(--fill-color);\n",
              "    }\n",
              "    20% {\n",
              "      border-color: transparent;\n",
              "      border-left-color: var(--fill-color);\n",
              "      border-top-color: var(--fill-color);\n",
              "    }\n",
              "    30% {\n",
              "      border-color: transparent;\n",
              "      border-left-color: var(--fill-color);\n",
              "      border-top-color: var(--fill-color);\n",
              "      border-right-color: var(--fill-color);\n",
              "    }\n",
              "    40% {\n",
              "      border-color: transparent;\n",
              "      border-right-color: var(--fill-color);\n",
              "      border-top-color: var(--fill-color);\n",
              "    }\n",
              "    60% {\n",
              "      border-color: transparent;\n",
              "      border-right-color: var(--fill-color);\n",
              "    }\n",
              "    80% {\n",
              "      border-color: transparent;\n",
              "      border-right-color: var(--fill-color);\n",
              "      border-bottom-color: var(--fill-color);\n",
              "    }\n",
              "    90% {\n",
              "      border-color: transparent;\n",
              "      border-bottom-color: var(--fill-color);\n",
              "    }\n",
              "  }\n",
              "</style>\n",
              "\n",
              "  <script>\n",
              "    async function quickchart(key) {\n",
              "      const quickchartButtonEl =\n",
              "        document.querySelector('#' + key + ' button');\n",
              "      quickchartButtonEl.disabled = true;  // To prevent multiple clicks.\n",
              "      quickchartButtonEl.classList.add('colab-df-spinner');\n",
              "      try {\n",
              "        const charts = await google.colab.kernel.invokeFunction(\n",
              "            'suggestCharts', [key], {});\n",
              "      } catch (error) {\n",
              "        console.error('Error during call to suggestCharts:', error);\n",
              "      }\n",
              "      quickchartButtonEl.classList.remove('colab-df-spinner');\n",
              "      quickchartButtonEl.classList.add('colab-df-quickchart-complete');\n",
              "    }\n",
              "    (() => {\n",
              "      let quickchartButtonEl =\n",
              "        document.querySelector('#df-35456233-604d-4b3e-90f2-15706f9b4398 button');\n",
              "      quickchartButtonEl.style.display =\n",
              "        google.colab.kernel.accessAllowed ? 'block' : 'none';\n",
              "    })();\n",
              "  </script>\n",
              "</div>\n",
              "    </div>\n",
              "  </div>\n"
            ],
            "application/vnd.google.colaboratory.intrinsic+json": {
              "type": "dataframe",
              "summary": "{\n  \"name\": \"df\",\n  \"rows\": 6,\n  \"fields\": [\n    {\n      \"column\": \"Stemming\",\n      \"properties\": {\n        \"dtype\": \"object\",\n        \"semantic_type\": \"\",\n        \"description\": \"\"\n      }\n    }\n  ]\n}"
            }
          },
          "metadata": {},
          "execution_count": 23
        }
      ]
    },
    {
      "cell_type": "code",
      "source": [
        "# Mengubah data dari bentuk token menjadi bentuk text list\n",
        "\n",
        "import ast\n",
        "def join_text_list(texts):\n",
        "  return ' '.join([text for text in texts])\n",
        "\n",
        "df['Tweet_bersih'] = df['Stemming'].apply(join_text_list)\n",
        "df['Tweet_bersih']"
      ],
      "metadata": {
        "colab": {
          "base_uri": "https://localhost:8080/"
        },
        "id": "PXvdnjzsfUSW",
        "outputId": "93a3da2b-6df2-411a-de24-606ff7aa74cc"
      },
      "execution_count": null,
      "outputs": [
        {
          "output_type": "execute_result",
          "data": {
            "text/plain": [
              "0      terang benderang gembar gembor polusi udara ja...\n",
              "1      kabut minggu kerja dari rumah semprot air huja...\n",
              "2      perintah ktp sih udara polusi perintah udara p...\n",
              "3      gila parah jakarta krisis polusi udara flyover...\n",
              "4      polusi udara jakarta salah ukm industri sebab ...\n",
              "                             ...                        \n",
              "487    selasa udara kelapa gading cemar segera mungki...\n",
              "488    jokowi kumpul menteri bahas polusi udara jakar...\n",
              "489    polusi udara jabodetabek tri pariwisata dan ek...\n",
              "490    semprot parfum biar bau badan tambah polusi ud...\n",
              "491    upaya perintah atas polusi udara dki jakarta g...\n",
              "Name: Tweet_bersih, Length: 492, dtype: object"
            ]
          },
          "metadata": {},
          "execution_count": 24
        }
      ]
    },
    {
      "cell_type": "code",
      "source": [
        "# Menghitung akurasi Stemming\n",
        "\n",
        "# Token asli\n",
        "token_asli = df['Stopword_Removal']\n",
        "# Token setelah stemming\n",
        "stemmed_tokens = df['Stemming']\n",
        "\n",
        "# Inisialisasi list untuk menyimpan token yang sama\n",
        "same_tokens_list = []\n",
        "# Menyimpan token yang sama\n",
        "for original, stemmed in zip(token_asli, stemmed_tokens):\n",
        "    same_tokens = [token for token in original if token in stemmed]\n",
        "    same_tokens_list.append(same_tokens)\n",
        "\n",
        "# Menghitung jumlah token yang sama antara token asli dan token setelah stemming\n",
        "total_token_sama = sum(sum(1 for original, stemmed in zip(original, stemmed)\n",
        "if original == stemmed) for original, stemmed in zip(token_asli, stemmed_tokens))\n",
        "# Menghitung total token\n",
        "total_tokens = sum(len(tokens) for tokens in token_asli)\n",
        "\n",
        "# Menghitung akurasi stemming\n",
        "accuracy = total_token_sama / total_tokens * 100\n",
        "\n",
        "print(\"Jumlah token yang sama:\", total_token_sama)\n",
        "print(\"Jumlah total token:\", total_tokens)\n",
        "print(\"Akurasi stemming:\", accuracy, \"%\")\n"
      ],
      "metadata": {
        "colab": {
          "base_uri": "https://localhost:8080/"
        },
        "id": "-dtgDlVnQSv5",
        "outputId": "0d33f9ec-70b0-42c3-9e70-dcb0953f0b09"
      },
      "execution_count": null,
      "outputs": [
        {
          "output_type": "stream",
          "name": "stdout",
          "text": [
            "Jumlah token yang sama: 5434\n",
            "Jumlah total token: 7205\n",
            "Akurasi stemming: 75.41984732824427 %\n"
          ]
        }
      ]
    },
    {
      "cell_type": "code",
      "source": [
        "df"
      ],
      "metadata": {
        "colab": {
          "base_uri": "https://localhost:8080/",
          "height": 1000
        },
        "id": "wFBp5OyVUQie",
        "outputId": "1e6ca9f1-4809-4b22-936d-ec4fcbf5874d"
      },
      "execution_count": null,
      "outputs": [
        {
          "output_type": "execute_result",
          "data": {
            "text/plain": [
              "            username                                          full_text  \\\n",
              "0      irfanwahidi60  Akhirnya terang benderang, gembar gembor polus...   \n",
              "1             piotrj  🚩ITU 🚩BUKAN 🚩KABUT  Selama seminggu ada WFH, s...   \n",
              "2       cgtrisanjaya  @geloraco Betul. Sebaiknya pemerintah segera m...   \n",
              "3       limitfungsii  gila parah, jakarta krisis polusi udara, gue d...   \n",
              "4         Nofendra19  Polusi udara di Jakarta, lalu yang disalahkan ...   \n",
              "..               ...                                                ...   \n",
              "487   Polusi_udara01  #Asean #Fifa #trending #southeastAsia #BakarSa...   \n",
              "488        5ulam_4ja  Nah jokowi mengumpulkan menteri untuk membahas...   \n",
              "489  radarbangsa_com  Polusi Udara di Jabodetabek Menparekraf Sebut ...   \n",
              "490    KAI_THE_BRAND  yang masih nyemprot parfum biar ga bau badan m...   \n",
              "491     detikfinance  Upaya pemerintah mengatasi polusi udara di DKI...   \n",
              "\n",
              "    Sentimen  Label                                        CaseFolding  \\\n",
              "0    Negatif     -1  akhirnya terang benderang, gembar gembor polus...   \n",
              "1    Negatif     -1  🚩itu 🚩bukan 🚩kabut  selama seminggu ada wfh, s...   \n",
              "2    Negatif     -1  @geloraco betul. sebaiknya pemerintah segera m...   \n",
              "3    Negatif     -1  gila parah, jakarta krisis polusi udara, gue d...   \n",
              "4    Negatif     -1  polusi udara di jakarta, lalu yang disalahkan ...   \n",
              "..       ...    ...                                                ...   \n",
              "487  Negatif     -1  #asean #fifa #trending #southeastasia #bakarsa...   \n",
              "488  Positif      1  nah jokowi mengumpulkan menteri untuk membahas...   \n",
              "489  Negatif     -1  polusi udara di jabodetabek menparekraf sebut ...   \n",
              "490  Negatif     -1  yang masih nyemprot parfum biar ga bau badan m...   \n",
              "491  Positif      1  upaya pemerintah mengatasi polusi udara di dki...   \n",
              "\n",
              "                                             Cleansing  \\\n",
              "0    akhirnya terang benderang gembar gembor polusi...   \n",
              "1    itu bukan kabut selama seminggu ada wfh sempro...   \n",
              "2    betul sebaiknya pemerintah segera memberikan k...   \n",
              "3    gila parah jakarta krisis polusi udara gue dri...   \n",
              "4    polusi udara di jakarta lalu yang disalahkan u...   \n",
              "..                                                 ...   \n",
              "487     selasa udara klp gading kembali tercemar ol...   \n",
              "488  nah jokowi mengumpulkan menteri untuk membahas...   \n",
              "489  polusi udara di jabodetabek menparekraf sebut ...   \n",
              "490  yang masih nyemprot parfum biar ga bau badan m...   \n",
              "491  upaya pemerintah mengatasi polusi udara di dki...   \n",
              "\n",
              "                                              Tokenize  \\\n",
              "0    [akhirnya, terang, benderang, gembar, gembor, ...   \n",
              "1    [itu, bukan, kabut, selama, seminggu, ada, wfh...   \n",
              "2    [betul, sebaiknya, pemerintah, segera, memberi...   \n",
              "3    [gila, parah, jakarta, krisis, polusi, udara, ...   \n",
              "4    [polusi, udara, di, jakarta, lalu, yang, disal...   \n",
              "..                                                 ...   \n",
              "487  [selasa, udara, klp, gading, kembali, tercemar...   \n",
              "488  [nah, jokowi, mengumpulkan, menteri, untuk, me...   \n",
              "489  [polusi, udara, di, jabodetabek, menparekraf, ...   \n",
              "490  [yang, masih, nyemprot, parfum, biar, ga, bau,...   \n",
              "491  [upaya, pemerintah, mengatasi, polusi, udara, ...   \n",
              "\n",
              "                                           Normalisasi  \\\n",
              "0    [akhirnya, terang, benderang, gembar, gembor, ...   \n",
              "1    [itu, bukan, kabut, selama, seminggu, ada, ker...   \n",
              "2    [betul, sebaiknya, pemerintah, segera, memberi...   \n",
              "3    [gila, parah, jakarta, krisis, polusi, udara, ...   \n",
              "4    [polusi, udara, di, jakarta, lalu, yang, disal...   \n",
              "..                                                 ...   \n",
              "487  [selasa, udara, kelapa, gading, kembali, terce...   \n",
              "488  [nah, jokowi, mengumpulkan, menteri, untuk, me...   \n",
              "489  [polusi, udara, di, jabodetabek, kementrian pa...   \n",
              "490  [yang, masih, semprot, parfum, biar, tidak, ba...   \n",
              "491  [upaya, pemerintah, mengatasi, polusi, udara, ...   \n",
              "\n",
              "                                      Stopword_Removal  \\\n",
              "0    [terang, benderang, gembar, gembor, polusi, ud...   \n",
              "1    [kabut, seminggu, kerja dari rumah, semprot, a...   \n",
              "2    [pemerintah, ktp, sih, udara, polusi, memerint...   \n",
              "3    [gila, parah, jakarta, krisis, polusi, udara, ...   \n",
              "4    [polusi, udara, jakarta, disalahkan, ukm, indu...   \n",
              "..                                                 ...   \n",
              "487  [selasa, udara, kelapa, gading, tercemar, sese...   \n",
              "488  [jokowi, mengumpulkan, menteri, membahas, polu...   \n",
              "489  [polusi, udara, jabodetabek, kementrian pariwi...   \n",
              "490  [semprot, parfum, biar, bau, badan, menambah, ...   \n",
              "491  [upaya, pemerintah, mengatasi, polusi, udara, ...   \n",
              "\n",
              "                                              Stemming  \\\n",
              "0    [terang, benderang, gembar, gembor, polusi, ud...   \n",
              "1    [kabut, minggu, kerja dari rumah, semprot, air...   \n",
              "2    [perintah, ktp, sih, udara, polusi, perintah, ...   \n",
              "3    [gila, parah, jakarta, krisis, polusi, udara, ...   \n",
              "4    [polusi, udara, jakarta, salah, ukm, industri,...   \n",
              "..                                                 ...   \n",
              "487  [selasa, udara, kelapa, gading, cemar, segera ...   \n",
              "488  [jokowi, kumpul, menteri, bahas, polusi, udara...   \n",
              "489  [polusi, udara, jabodetabek, tri pariwisata da...   \n",
              "490  [semprot, parfum, biar, bau, badan, tambah, po...   \n",
              "491  [upaya, perintah, atas, polusi, udara, dki, ja...   \n",
              "\n",
              "                                          Tweet_bersih  \n",
              "0    terang benderang gembar gembor polusi udara ja...  \n",
              "1    kabut minggu kerja dari rumah semprot air huja...  \n",
              "2    perintah ktp sih udara polusi perintah udara p...  \n",
              "3    gila parah jakarta krisis polusi udara flyover...  \n",
              "4    polusi udara jakarta salah ukm industri sebab ...  \n",
              "..                                                 ...  \n",
              "487  selasa udara kelapa gading cemar segera mungki...  \n",
              "488  jokowi kumpul menteri bahas polusi udara jakar...  \n",
              "489  polusi udara jabodetabek tri pariwisata dan ek...  \n",
              "490  semprot parfum biar bau badan tambah polusi ud...  \n",
              "491  upaya perintah atas polusi udara dki jakarta g...  \n",
              "\n",
              "[492 rows x 11 columns]"
            ],
            "text/html": [
              "\n",
              "  <div id=\"df-f30f6e56-e10b-47e3-8ef2-a3bb82416500\" class=\"colab-df-container\">\n",
              "    <div>\n",
              "<style scoped>\n",
              "    .dataframe tbody tr th:only-of-type {\n",
              "        vertical-align: middle;\n",
              "    }\n",
              "\n",
              "    .dataframe tbody tr th {\n",
              "        vertical-align: top;\n",
              "    }\n",
              "\n",
              "    .dataframe thead th {\n",
              "        text-align: right;\n",
              "    }\n",
              "</style>\n",
              "<table border=\"1\" class=\"dataframe\">\n",
              "  <thead>\n",
              "    <tr style=\"text-align: right;\">\n",
              "      <th></th>\n",
              "      <th>username</th>\n",
              "      <th>full_text</th>\n",
              "      <th>Sentimen</th>\n",
              "      <th>Label</th>\n",
              "      <th>CaseFolding</th>\n",
              "      <th>Cleansing</th>\n",
              "      <th>Tokenize</th>\n",
              "      <th>Normalisasi</th>\n",
              "      <th>Stopword_Removal</th>\n",
              "      <th>Stemming</th>\n",
              "      <th>Tweet_bersih</th>\n",
              "    </tr>\n",
              "  </thead>\n",
              "  <tbody>\n",
              "    <tr>\n",
              "      <th>0</th>\n",
              "      <td>irfanwahidi60</td>\n",
              "      <td>Akhirnya terang benderang, gembar gembor polus...</td>\n",
              "      <td>Negatif</td>\n",
              "      <td>-1</td>\n",
              "      <td>akhirnya terang benderang, gembar gembor polus...</td>\n",
              "      <td>akhirnya terang benderang gembar gembor polusi...</td>\n",
              "      <td>[akhirnya, terang, benderang, gembar, gembor, ...</td>\n",
              "      <td>[akhirnya, terang, benderang, gembar, gembor, ...</td>\n",
              "      <td>[terang, benderang, gembar, gembor, polusi, ud...</td>\n",
              "      <td>[terang, benderang, gembar, gembor, polusi, ud...</td>\n",
              "      <td>terang benderang gembar gembor polusi udara ja...</td>\n",
              "    </tr>\n",
              "    <tr>\n",
              "      <th>1</th>\n",
              "      <td>piotrj</td>\n",
              "      <td>🚩ITU 🚩BUKAN 🚩KABUT  Selama seminggu ada WFH, s...</td>\n",
              "      <td>Negatif</td>\n",
              "      <td>-1</td>\n",
              "      <td>🚩itu 🚩bukan 🚩kabut  selama seminggu ada wfh, s...</td>\n",
              "      <td>itu bukan kabut selama seminggu ada wfh sempro...</td>\n",
              "      <td>[itu, bukan, kabut, selama, seminggu, ada, wfh...</td>\n",
              "      <td>[itu, bukan, kabut, selama, seminggu, ada, ker...</td>\n",
              "      <td>[kabut, seminggu, kerja dari rumah, semprot, a...</td>\n",
              "      <td>[kabut, minggu, kerja dari rumah, semprot, air...</td>\n",
              "      <td>kabut minggu kerja dari rumah semprot air huja...</td>\n",
              "    </tr>\n",
              "    <tr>\n",
              "      <th>2</th>\n",
              "      <td>cgtrisanjaya</td>\n",
              "      <td>@geloraco Betul. Sebaiknya pemerintah segera m...</td>\n",
              "      <td>Negatif</td>\n",
              "      <td>-1</td>\n",
              "      <td>@geloraco betul. sebaiknya pemerintah segera m...</td>\n",
              "      <td>betul sebaiknya pemerintah segera memberikan k...</td>\n",
              "      <td>[betul, sebaiknya, pemerintah, segera, memberi...</td>\n",
              "      <td>[betul, sebaiknya, pemerintah, segera, memberi...</td>\n",
              "      <td>[pemerintah, ktp, sih, udara, polusi, memerint...</td>\n",
              "      <td>[perintah, ktp, sih, udara, polusi, perintah, ...</td>\n",
              "      <td>perintah ktp sih udara polusi perintah udara p...</td>\n",
              "    </tr>\n",
              "    <tr>\n",
              "      <th>3</th>\n",
              "      <td>limitfungsii</td>\n",
              "      <td>gila parah, jakarta krisis polusi udara, gue d...</td>\n",
              "      <td>Negatif</td>\n",
              "      <td>-1</td>\n",
              "      <td>gila parah, jakarta krisis polusi udara, gue d...</td>\n",
              "      <td>gila parah jakarta krisis polusi udara gue dri...</td>\n",
              "      <td>[gila, parah, jakarta, krisis, polusi, udara, ...</td>\n",
              "      <td>[gila, parah, jakarta, krisis, polusi, udara, ...</td>\n",
              "      <td>[gila, parah, jakarta, krisis, polusi, udara, ...</td>\n",
              "      <td>[gila, parah, jakarta, krisis, polusi, udara, ...</td>\n",
              "      <td>gila parah jakarta krisis polusi udara flyover...</td>\n",
              "    </tr>\n",
              "    <tr>\n",
              "      <th>4</th>\n",
              "      <td>Nofendra19</td>\n",
              "      <td>Polusi udara di Jakarta, lalu yang disalahkan ...</td>\n",
              "      <td>Negatif</td>\n",
              "      <td>-1</td>\n",
              "      <td>polusi udara di jakarta, lalu yang disalahkan ...</td>\n",
              "      <td>polusi udara di jakarta lalu yang disalahkan u...</td>\n",
              "      <td>[polusi, udara, di, jakarta, lalu, yang, disal...</td>\n",
              "      <td>[polusi, udara, di, jakarta, lalu, yang, disal...</td>\n",
              "      <td>[polusi, udara, jakarta, disalahkan, ukm, indu...</td>\n",
              "      <td>[polusi, udara, jakarta, salah, ukm, industri,...</td>\n",
              "      <td>polusi udara jakarta salah ukm industri sebab ...</td>\n",
              "    </tr>\n",
              "    <tr>\n",
              "      <th>...</th>\n",
              "      <td>...</td>\n",
              "      <td>...</td>\n",
              "      <td>...</td>\n",
              "      <td>...</td>\n",
              "      <td>...</td>\n",
              "      <td>...</td>\n",
              "      <td>...</td>\n",
              "      <td>...</td>\n",
              "      <td>...</td>\n",
              "      <td>...</td>\n",
              "      <td>...</td>\n",
              "    </tr>\n",
              "    <tr>\n",
              "      <th>487</th>\n",
              "      <td>Polusi_udara01</td>\n",
              "      <td>#Asean #Fifa #trending #southeastAsia #BakarSa...</td>\n",
              "      <td>Negatif</td>\n",
              "      <td>-1</td>\n",
              "      <td>#asean #fifa #trending #southeastasia #bakarsa...</td>\n",
              "      <td>selasa udara klp gading kembali tercemar ol...</td>\n",
              "      <td>[selasa, udara, klp, gading, kembali, tercemar...</td>\n",
              "      <td>[selasa, udara, kelapa, gading, kembali, terce...</td>\n",
              "      <td>[selasa, udara, kelapa, gading, tercemar, sese...</td>\n",
              "      <td>[selasa, udara, kelapa, gading, cemar, segera ...</td>\n",
              "      <td>selasa udara kelapa gading cemar segera mungki...</td>\n",
              "    </tr>\n",
              "    <tr>\n",
              "      <th>488</th>\n",
              "      <td>5ulam_4ja</td>\n",
              "      <td>Nah jokowi mengumpulkan menteri untuk membahas...</td>\n",
              "      <td>Positif</td>\n",
              "      <td>1</td>\n",
              "      <td>nah jokowi mengumpulkan menteri untuk membahas...</td>\n",
              "      <td>nah jokowi mengumpulkan menteri untuk membahas...</td>\n",
              "      <td>[nah, jokowi, mengumpulkan, menteri, untuk, me...</td>\n",
              "      <td>[nah, jokowi, mengumpulkan, menteri, untuk, me...</td>\n",
              "      <td>[jokowi, mengumpulkan, menteri, membahas, polu...</td>\n",
              "      <td>[jokowi, kumpul, menteri, bahas, polusi, udara...</td>\n",
              "      <td>jokowi kumpul menteri bahas polusi udara jakar...</td>\n",
              "    </tr>\n",
              "    <tr>\n",
              "      <th>489</th>\n",
              "      <td>radarbangsa_com</td>\n",
              "      <td>Polusi Udara di Jabodetabek Menparekraf Sebut ...</td>\n",
              "      <td>Negatif</td>\n",
              "      <td>-1</td>\n",
              "      <td>polusi udara di jabodetabek menparekraf sebut ...</td>\n",
              "      <td>polusi udara di jabodetabek menparekraf sebut ...</td>\n",
              "      <td>[polusi, udara, di, jabodetabek, menparekraf, ...</td>\n",
              "      <td>[polusi, udara, di, jabodetabek, kementrian pa...</td>\n",
              "      <td>[polusi, udara, jabodetabek, kementrian pariwi...</td>\n",
              "      <td>[polusi, udara, jabodetabek, tri pariwisata da...</td>\n",
              "      <td>polusi udara jabodetabek tri pariwisata dan ek...</td>\n",
              "    </tr>\n",
              "    <tr>\n",
              "      <th>490</th>\n",
              "      <td>KAI_THE_BRAND</td>\n",
              "      <td>yang masih nyemprot parfum biar ga bau badan m...</td>\n",
              "      <td>Negatif</td>\n",
              "      <td>-1</td>\n",
              "      <td>yang masih nyemprot parfum biar ga bau badan m...</td>\n",
              "      <td>yang masih nyemprot parfum biar ga bau badan m...</td>\n",
              "      <td>[yang, masih, nyemprot, parfum, biar, ga, bau,...</td>\n",
              "      <td>[yang, masih, semprot, parfum, biar, tidak, ba...</td>\n",
              "      <td>[semprot, parfum, biar, bau, badan, menambah, ...</td>\n",
              "      <td>[semprot, parfum, biar, bau, badan, tambah, po...</td>\n",
              "      <td>semprot parfum biar bau badan tambah polusi ud...</td>\n",
              "    </tr>\n",
              "    <tr>\n",
              "      <th>491</th>\n",
              "      <td>detikfinance</td>\n",
              "      <td>Upaya pemerintah mengatasi polusi udara di DKI...</td>\n",
              "      <td>Positif</td>\n",
              "      <td>1</td>\n",
              "      <td>upaya pemerintah mengatasi polusi udara di dki...</td>\n",
              "      <td>upaya pemerintah mengatasi polusi udara di dki...</td>\n",
              "      <td>[upaya, pemerintah, mengatasi, polusi, udara, ...</td>\n",
              "      <td>[upaya, pemerintah, mengatasi, polusi, udara, ...</td>\n",
              "      <td>[upaya, pemerintah, mengatasi, polusi, udara, ...</td>\n",
              "      <td>[upaya, perintah, atas, polusi, udara, dki, ja...</td>\n",
              "      <td>upaya perintah atas polusi udara dki jakarta g...</td>\n",
              "    </tr>\n",
              "  </tbody>\n",
              "</table>\n",
              "<p>492 rows × 11 columns</p>\n",
              "</div>\n",
              "    <div class=\"colab-df-buttons\">\n",
              "\n",
              "  <div class=\"colab-df-container\">\n",
              "    <button class=\"colab-df-convert\" onclick=\"convertToInteractive('df-f30f6e56-e10b-47e3-8ef2-a3bb82416500')\"\n",
              "            title=\"Convert this dataframe to an interactive table.\"\n",
              "            style=\"display:none;\">\n",
              "\n",
              "  <svg xmlns=\"http://www.w3.org/2000/svg\" height=\"24px\" viewBox=\"0 -960 960 960\">\n",
              "    <path d=\"M120-120v-720h720v720H120Zm60-500h600v-160H180v160Zm220 220h160v-160H400v160Zm0 220h160v-160H400v160ZM180-400h160v-160H180v160Zm440 0h160v-160H620v160ZM180-180h160v-160H180v160Zm440 0h160v-160H620v160Z\"/>\n",
              "  </svg>\n",
              "    </button>\n",
              "\n",
              "  <style>\n",
              "    .colab-df-container {\n",
              "      display:flex;\n",
              "      gap: 12px;\n",
              "    }\n",
              "\n",
              "    .colab-df-convert {\n",
              "      background-color: #E8F0FE;\n",
              "      border: none;\n",
              "      border-radius: 50%;\n",
              "      cursor: pointer;\n",
              "      display: none;\n",
              "      fill: #1967D2;\n",
              "      height: 32px;\n",
              "      padding: 0 0 0 0;\n",
              "      width: 32px;\n",
              "    }\n",
              "\n",
              "    .colab-df-convert:hover {\n",
              "      background-color: #E2EBFA;\n",
              "      box-shadow: 0px 1px 2px rgba(60, 64, 67, 0.3), 0px 1px 3px 1px rgba(60, 64, 67, 0.15);\n",
              "      fill: #174EA6;\n",
              "    }\n",
              "\n",
              "    .colab-df-buttons div {\n",
              "      margin-bottom: 4px;\n",
              "    }\n",
              "\n",
              "    [theme=dark] .colab-df-convert {\n",
              "      background-color: #3B4455;\n",
              "      fill: #D2E3FC;\n",
              "    }\n",
              "\n",
              "    [theme=dark] .colab-df-convert:hover {\n",
              "      background-color: #434B5C;\n",
              "      box-shadow: 0px 1px 3px 1px rgba(0, 0, 0, 0.15);\n",
              "      filter: drop-shadow(0px 1px 2px rgba(0, 0, 0, 0.3));\n",
              "      fill: #FFFFFF;\n",
              "    }\n",
              "  </style>\n",
              "\n",
              "    <script>\n",
              "      const buttonEl =\n",
              "        document.querySelector('#df-f30f6e56-e10b-47e3-8ef2-a3bb82416500 button.colab-df-convert');\n",
              "      buttonEl.style.display =\n",
              "        google.colab.kernel.accessAllowed ? 'block' : 'none';\n",
              "\n",
              "      async function convertToInteractive(key) {\n",
              "        const element = document.querySelector('#df-f30f6e56-e10b-47e3-8ef2-a3bb82416500');\n",
              "        const dataTable =\n",
              "          await google.colab.kernel.invokeFunction('convertToInteractive',\n",
              "                                                    [key], {});\n",
              "        if (!dataTable) return;\n",
              "\n",
              "        const docLinkHtml = 'Like what you see? Visit the ' +\n",
              "          '<a target=\"_blank\" href=https://colab.research.google.com/notebooks/data_table.ipynb>data table notebook</a>'\n",
              "          + ' to learn more about interactive tables.';\n",
              "        element.innerHTML = '';\n",
              "        dataTable['output_type'] = 'display_data';\n",
              "        await google.colab.output.renderOutput(dataTable, element);\n",
              "        const docLink = document.createElement('div');\n",
              "        docLink.innerHTML = docLinkHtml;\n",
              "        element.appendChild(docLink);\n",
              "      }\n",
              "    </script>\n",
              "  </div>\n",
              "\n",
              "\n",
              "<div id=\"df-c1c61dda-2d4e-482f-a1c3-b46a0bbab9f7\">\n",
              "  <button class=\"colab-df-quickchart\" onclick=\"quickchart('df-c1c61dda-2d4e-482f-a1c3-b46a0bbab9f7')\"\n",
              "            title=\"Suggest charts\"\n",
              "            style=\"display:none;\">\n",
              "\n",
              "<svg xmlns=\"http://www.w3.org/2000/svg\" height=\"24px\"viewBox=\"0 0 24 24\"\n",
              "     width=\"24px\">\n",
              "    <g>\n",
              "        <path d=\"M19 3H5c-1.1 0-2 .9-2 2v14c0 1.1.9 2 2 2h14c1.1 0 2-.9 2-2V5c0-1.1-.9-2-2-2zM9 17H7v-7h2v7zm4 0h-2V7h2v10zm4 0h-2v-4h2v4z\"/>\n",
              "    </g>\n",
              "</svg>\n",
              "  </button>\n",
              "\n",
              "<style>\n",
              "  .colab-df-quickchart {\n",
              "      --bg-color: #E8F0FE;\n",
              "      --fill-color: #1967D2;\n",
              "      --hover-bg-color: #E2EBFA;\n",
              "      --hover-fill-color: #174EA6;\n",
              "      --disabled-fill-color: #AAA;\n",
              "      --disabled-bg-color: #DDD;\n",
              "  }\n",
              "\n",
              "  [theme=dark] .colab-df-quickchart {\n",
              "      --bg-color: #3B4455;\n",
              "      --fill-color: #D2E3FC;\n",
              "      --hover-bg-color: #434B5C;\n",
              "      --hover-fill-color: #FFFFFF;\n",
              "      --disabled-bg-color: #3B4455;\n",
              "      --disabled-fill-color: #666;\n",
              "  }\n",
              "\n",
              "  .colab-df-quickchart {\n",
              "    background-color: var(--bg-color);\n",
              "    border: none;\n",
              "    border-radius: 50%;\n",
              "    cursor: pointer;\n",
              "    display: none;\n",
              "    fill: var(--fill-color);\n",
              "    height: 32px;\n",
              "    padding: 0;\n",
              "    width: 32px;\n",
              "  }\n",
              "\n",
              "  .colab-df-quickchart:hover {\n",
              "    background-color: var(--hover-bg-color);\n",
              "    box-shadow: 0 1px 2px rgba(60, 64, 67, 0.3), 0 1px 3px 1px rgba(60, 64, 67, 0.15);\n",
              "    fill: var(--button-hover-fill-color);\n",
              "  }\n",
              "\n",
              "  .colab-df-quickchart-complete:disabled,\n",
              "  .colab-df-quickchart-complete:disabled:hover {\n",
              "    background-color: var(--disabled-bg-color);\n",
              "    fill: var(--disabled-fill-color);\n",
              "    box-shadow: none;\n",
              "  }\n",
              "\n",
              "  .colab-df-spinner {\n",
              "    border: 2px solid var(--fill-color);\n",
              "    border-color: transparent;\n",
              "    border-bottom-color: var(--fill-color);\n",
              "    animation:\n",
              "      spin 1s steps(1) infinite;\n",
              "  }\n",
              "\n",
              "  @keyframes spin {\n",
              "    0% {\n",
              "      border-color: transparent;\n",
              "      border-bottom-color: var(--fill-color);\n",
              "      border-left-color: var(--fill-color);\n",
              "    }\n",
              "    20% {\n",
              "      border-color: transparent;\n",
              "      border-left-color: var(--fill-color);\n",
              "      border-top-color: var(--fill-color);\n",
              "    }\n",
              "    30% {\n",
              "      border-color: transparent;\n",
              "      border-left-color: var(--fill-color);\n",
              "      border-top-color: var(--fill-color);\n",
              "      border-right-color: var(--fill-color);\n",
              "    }\n",
              "    40% {\n",
              "      border-color: transparent;\n",
              "      border-right-color: var(--fill-color);\n",
              "      border-top-color: var(--fill-color);\n",
              "    }\n",
              "    60% {\n",
              "      border-color: transparent;\n",
              "      border-right-color: var(--fill-color);\n",
              "    }\n",
              "    80% {\n",
              "      border-color: transparent;\n",
              "      border-right-color: var(--fill-color);\n",
              "      border-bottom-color: var(--fill-color);\n",
              "    }\n",
              "    90% {\n",
              "      border-color: transparent;\n",
              "      border-bottom-color: var(--fill-color);\n",
              "    }\n",
              "  }\n",
              "</style>\n",
              "\n",
              "  <script>\n",
              "    async function quickchart(key) {\n",
              "      const quickchartButtonEl =\n",
              "        document.querySelector('#' + key + ' button');\n",
              "      quickchartButtonEl.disabled = true;  // To prevent multiple clicks.\n",
              "      quickchartButtonEl.classList.add('colab-df-spinner');\n",
              "      try {\n",
              "        const charts = await google.colab.kernel.invokeFunction(\n",
              "            'suggestCharts', [key], {});\n",
              "      } catch (error) {\n",
              "        console.error('Error during call to suggestCharts:', error);\n",
              "      }\n",
              "      quickchartButtonEl.classList.remove('colab-df-spinner');\n",
              "      quickchartButtonEl.classList.add('colab-df-quickchart-complete');\n",
              "    }\n",
              "    (() => {\n",
              "      let quickchartButtonEl =\n",
              "        document.querySelector('#df-c1c61dda-2d4e-482f-a1c3-b46a0bbab9f7 button');\n",
              "      quickchartButtonEl.style.display =\n",
              "        google.colab.kernel.accessAllowed ? 'block' : 'none';\n",
              "    })();\n",
              "  </script>\n",
              "</div>\n",
              "    </div>\n",
              "  </div>\n"
            ],
            "application/vnd.google.colaboratory.intrinsic+json": {
              "type": "dataframe",
              "variable_name": "df",
              "summary": "{\n  \"name\": \"df\",\n  \"rows\": 492,\n  \"fields\": [\n    {\n      \"column\": \"username\",\n      \"properties\": {\n        \"dtype\": \"string\",\n        \"num_unique_values\": 320,\n        \"samples\": [\n          \"AlexandGarcia1\",\n          \"mikcucu22\",\n          \"Jabar24Jam\"\n        ],\n        \"semantic_type\": \"\",\n        \"description\": \"\"\n      }\n    },\n    {\n      \"column\": \"full_text\",\n      \"properties\": {\n        \"dtype\": \"string\",\n        \"num_unique_values\": 492,\n        \"samples\": [\n          \"Menteri Lingkungan Hidup dan Kehutanan Siti Nurbaya Bakar yang menyebutkan setidaknya ada 11 industri yang terkena sanksi administrasi, karena jadi sumber polusi udara Jakarta.  https://t.co/sgI09ObNF5\",\n          \"JAKARTA KOTA POLUSI Halo, Biru Hitam! Belakangan ini, masyarakat Jakarta dibuat resah dengan pembahasan mengenai buruknya kualitas udara Jakarta. Hampir semua lapisan masyarakat mendapat dampak dari buruknya kualitas udara di Jakarta. https://t.co/jY4GJZHUDp\",\n          \"@KompasTV Solusinya satu, tambah blower penyaring debu ampas bakaran batubara, PLTU banten. Dijamin ngk bakalan lama udara jakarta, akan jernih tampak langit biru n awan putih di angkasa. Mo tunjuk malaikat pun, ngk bersih angkasa n udara jakarta. Dari polusi kalau PLTU tidak doubel blower\"\n        ],\n        \"semantic_type\": \"\",\n        \"description\": \"\"\n      }\n    },\n    {\n      \"column\": \"Sentimen\",\n      \"properties\": {\n        \"dtype\": \"category\",\n        \"num_unique_values\": 2,\n        \"samples\": [\n          \"Positif\",\n          \"Negatif\"\n        ],\n        \"semantic_type\": \"\",\n        \"description\": \"\"\n      }\n    },\n    {\n      \"column\": \"Label\",\n      \"properties\": {\n        \"dtype\": \"number\",\n        \"std\": 0,\n        \"min\": -1,\n        \"max\": 1,\n        \"num_unique_values\": 2,\n        \"samples\": [\n          1,\n          -1\n        ],\n        \"semantic_type\": \"\",\n        \"description\": \"\"\n      }\n    },\n    {\n      \"column\": \"CaseFolding\",\n      \"properties\": {\n        \"dtype\": \"string\",\n        \"num_unique_values\": 491,\n        \"samples\": [\n          \"#asean #fifa #trending #southeastasia #bakarsampah #iu17 #ios17 #iphone15 #jakarta\\u00f0\\u00ff\\u2021\\u00ae\\u00f0\\u00ff\\u2021\\u00a9 #airpollution #ndonesia #polusiudarabencana semoga pemerintah ri lbh tegas lagi dalam mengatasi masalah polusi udara. dr tabel polusi ini dinilai bahwa polusi udara jakarta msh blum baik \\u00f0\\u00ff\\u2122\\u008f https://t.co/gr42omrj6a\",\n          \"jokowi jelaskan penanganan polusi udara di jakarta, mulai modifikasi cuaca hingga mobil listrik #temponasional https://t.co/pourtn0edq\"\n        ],\n        \"semantic_type\": \"\",\n        \"description\": \"\"\n      }\n    },\n    {\n      \"column\": \"Cleansing\",\n      \"properties\": {\n        \"dtype\": \"string\",\n        \"num_unique_values\": 484,\n        \"samples\": [\n          \"tepat sekali nih gerakan ini dilakukan salah satu tindakan nyata yang tepat untuk ngatasi polusi udara jakarta ya ngelakuin gerakan gotong royong boyong pohon begini\",\n          \"pohon pohon di jakarta adalah penyerap alami polusi udara ayo dukung program penanaman pohon dan pelestarian ruang hijau di kota ini untuk generasi masa depan\"\n        ],\n        \"semantic_type\": \"\",\n        \"description\": \"\"\n      }\n    },\n    {\n      \"column\": \"Tokenize\",\n      \"properties\": {\n        \"dtype\": \"object\",\n        \"semantic_type\": \"\",\n        \"description\": \"\"\n      }\n    },\n    {\n      \"column\": \"Normalisasi\",\n      \"properties\": {\n        \"dtype\": \"object\",\n        \"semantic_type\": \"\",\n        \"description\": \"\"\n      }\n    },\n    {\n      \"column\": \"Stopword_Removal\",\n      \"properties\": {\n        \"dtype\": \"object\",\n        \"semantic_type\": \"\",\n        \"description\": \"\"\n      }\n    },\n    {\n      \"column\": \"Stemming\",\n      \"properties\": {\n        \"dtype\": \"object\",\n        \"semantic_type\": \"\",\n        \"description\": \"\"\n      }\n    },\n    {\n      \"column\": \"Tweet_bersih\",\n      \"properties\": {\n        \"dtype\": \"string\",\n        \"num_unique_values\": 481,\n        \"samples\": [\n          \"langsung siti nurbaya tangan polusi udara jakarta langsung pimpin lpb perintah presiden jokowi konflik penting\",\n          \"gera salah tindak nyata atas polusi udara jakarta iya gera gotong royong pindah pohon\"\n        ],\n        \"semantic_type\": \"\",\n        \"description\": \"\"\n      }\n    }\n  ]\n}"
            }
          },
          "metadata": {},
          "execution_count": 26
        }
      ]
    },
    {
      "cell_type": "code",
      "source": [
        "# Menyimpan data ke dalam csv baru setelah dilakukan text pre-processing\n",
        "\n",
        "dataset = pd.DataFrame(df)\n",
        "dataset.to_csv('tweet-polusiudara---prossesing.csv', index = False ,  header = True)"
      ],
      "metadata": {
        "id": "G1_2Skd5eH_F"
      },
      "execution_count": null,
      "outputs": []
    },
    {
      "cell_type": "markdown",
      "source": [
        "Hasil akhir setelah di preprocessing"
      ],
      "metadata": {
        "id": "aaluP_fYTMNs"
      }
    },
    {
      "cell_type": "code",
      "source": [
        "df['Sentimen'].unique()"
      ],
      "metadata": {
        "id": "mIINUl8PTTy3",
        "colab": {
          "base_uri": "https://localhost:8080/"
        },
        "outputId": "fd3e6314-ae79-43f5-89b9-5bdf9bee8cb0"
      },
      "execution_count": null,
      "outputs": [
        {
          "output_type": "execute_result",
          "data": {
            "text/plain": [
              "array(['Negatif', 'Positif'], dtype=object)"
            ]
          },
          "metadata": {},
          "execution_count": 28
        }
      ]
    },
    {
      "cell_type": "code",
      "source": [
        "df.Sentimen.value_counts()"
      ],
      "metadata": {
        "id": "Mh9ZkH-KTdms",
        "colab": {
          "base_uri": "https://localhost:8080/"
        },
        "outputId": "2a455e3a-a3e9-436b-f1e4-e6fc108971cd"
      },
      "execution_count": null,
      "outputs": [
        {
          "output_type": "execute_result",
          "data": {
            "text/plain": [
              "Sentimen\n",
              "Negatif    284\n",
              "Positif    208\n",
              "Name: count, dtype: int64"
            ]
          },
          "metadata": {},
          "execution_count": 29
        }
      ]
    },
    {
      "cell_type": "markdown",
      "source": [
        "# **TF - IDF**"
      ],
      "metadata": {
        "id": "bu2zvedwdlVg"
      }
    },
    {
      "cell_type": "code",
      "source": [
        "!pip3 install -U scikit-learn"
      ],
      "metadata": {
        "colab": {
          "base_uri": "https://localhost:8080/"
        },
        "id": "JMg8hrTEACiA",
        "outputId": "4cab8fdf-6c55-4533-d5d9-f7e183a628da"
      },
      "execution_count": null,
      "outputs": [
        {
          "output_type": "stream",
          "name": "stdout",
          "text": [
            "Requirement already satisfied: scikit-learn in /usr/local/lib/python3.10/dist-packages (1.4.2)\n",
            "Requirement already satisfied: numpy>=1.19.5 in /usr/local/lib/python3.10/dist-packages (from scikit-learn) (1.25.2)\n",
            "Requirement already satisfied: scipy>=1.6.0 in /usr/local/lib/python3.10/dist-packages (from scikit-learn) (1.11.4)\n",
            "Requirement already satisfied: joblib>=1.2.0 in /usr/local/lib/python3.10/dist-packages (from scikit-learn) (1.4.0)\n",
            "Requirement already satisfied: threadpoolctl>=2.0.0 in /usr/local/lib/python3.10/dist-packages (from scikit-learn) (3.4.0)\n"
          ]
        }
      ]
    },
    {
      "cell_type": "code",
      "source": [
        "import pandas as pd\n",
        "import numpy as np\n",
        "\n",
        "df = pd.read_csv(\"tweet-polusiudara---prossesing.csv\", usecols=[\"Sentimen\", \"Label\", \"Tweet_bersih\"])\n",
        "df.columns = [\"Sentimen\", \"Label\", \"Tweet_join\"]\n",
        "\n",
        "df"
      ],
      "metadata": {
        "colab": {
          "base_uri": "https://localhost:8080/",
          "height": 424
        },
        "id": "8wrnEeJzA0e7",
        "outputId": "7e266bfb-c990-4b57-f2e5-a6607647280a"
      },
      "execution_count": null,
      "outputs": [
        {
          "output_type": "execute_result",
          "data": {
            "text/plain": [
              "    Sentimen  Label                                         Tweet_join\n",
              "0    Negatif     -1  terang benderang gembar gembor polusi udara ja...\n",
              "1    Negatif     -1  kabut minggu kerja dari rumah semprot air huja...\n",
              "2    Negatif     -1  perintah ktp sih udara polusi perintah udara p...\n",
              "3    Negatif     -1  gila parah jakarta krisis polusi udara flyover...\n",
              "4    Negatif     -1  polusi udara jakarta salah ukm industri sebab ...\n",
              "..       ...    ...                                                ...\n",
              "487  Negatif     -1  selasa udara kelapa gading cemar segera mungki...\n",
              "488  Positif      1  jokowi kumpul menteri bahas polusi udara jakar...\n",
              "489  Negatif     -1  polusi udara jabodetabek tri pariwisata dan ek...\n",
              "490  Negatif     -1  semprot parfum biar bau badan tambah polusi ud...\n",
              "491  Positif      1  upaya perintah atas polusi udara dki jakarta g...\n",
              "\n",
              "[492 rows x 3 columns]"
            ],
            "text/html": [
              "\n",
              "  <div id=\"df-70f858cc-882f-4c35-91e2-d7a3aa55f984\" class=\"colab-df-container\">\n",
              "    <div>\n",
              "<style scoped>\n",
              "    .dataframe tbody tr th:only-of-type {\n",
              "        vertical-align: middle;\n",
              "    }\n",
              "\n",
              "    .dataframe tbody tr th {\n",
              "        vertical-align: top;\n",
              "    }\n",
              "\n",
              "    .dataframe thead th {\n",
              "        text-align: right;\n",
              "    }\n",
              "</style>\n",
              "<table border=\"1\" class=\"dataframe\">\n",
              "  <thead>\n",
              "    <tr style=\"text-align: right;\">\n",
              "      <th></th>\n",
              "      <th>Sentimen</th>\n",
              "      <th>Label</th>\n",
              "      <th>Tweet_join</th>\n",
              "    </tr>\n",
              "  </thead>\n",
              "  <tbody>\n",
              "    <tr>\n",
              "      <th>0</th>\n",
              "      <td>Negatif</td>\n",
              "      <td>-1</td>\n",
              "      <td>terang benderang gembar gembor polusi udara ja...</td>\n",
              "    </tr>\n",
              "    <tr>\n",
              "      <th>1</th>\n",
              "      <td>Negatif</td>\n",
              "      <td>-1</td>\n",
              "      <td>kabut minggu kerja dari rumah semprot air huja...</td>\n",
              "    </tr>\n",
              "    <tr>\n",
              "      <th>2</th>\n",
              "      <td>Negatif</td>\n",
              "      <td>-1</td>\n",
              "      <td>perintah ktp sih udara polusi perintah udara p...</td>\n",
              "    </tr>\n",
              "    <tr>\n",
              "      <th>3</th>\n",
              "      <td>Negatif</td>\n",
              "      <td>-1</td>\n",
              "      <td>gila parah jakarta krisis polusi udara flyover...</td>\n",
              "    </tr>\n",
              "    <tr>\n",
              "      <th>4</th>\n",
              "      <td>Negatif</td>\n",
              "      <td>-1</td>\n",
              "      <td>polusi udara jakarta salah ukm industri sebab ...</td>\n",
              "    </tr>\n",
              "    <tr>\n",
              "      <th>...</th>\n",
              "      <td>...</td>\n",
              "      <td>...</td>\n",
              "      <td>...</td>\n",
              "    </tr>\n",
              "    <tr>\n",
              "      <th>487</th>\n",
              "      <td>Negatif</td>\n",
              "      <td>-1</td>\n",
              "      <td>selasa udara kelapa gading cemar segera mungki...</td>\n",
              "    </tr>\n",
              "    <tr>\n",
              "      <th>488</th>\n",
              "      <td>Positif</td>\n",
              "      <td>1</td>\n",
              "      <td>jokowi kumpul menteri bahas polusi udara jakar...</td>\n",
              "    </tr>\n",
              "    <tr>\n",
              "      <th>489</th>\n",
              "      <td>Negatif</td>\n",
              "      <td>-1</td>\n",
              "      <td>polusi udara jabodetabek tri pariwisata dan ek...</td>\n",
              "    </tr>\n",
              "    <tr>\n",
              "      <th>490</th>\n",
              "      <td>Negatif</td>\n",
              "      <td>-1</td>\n",
              "      <td>semprot parfum biar bau badan tambah polusi ud...</td>\n",
              "    </tr>\n",
              "    <tr>\n",
              "      <th>491</th>\n",
              "      <td>Positif</td>\n",
              "      <td>1</td>\n",
              "      <td>upaya perintah atas polusi udara dki jakarta g...</td>\n",
              "    </tr>\n",
              "  </tbody>\n",
              "</table>\n",
              "<p>492 rows × 3 columns</p>\n",
              "</div>\n",
              "    <div class=\"colab-df-buttons\">\n",
              "\n",
              "  <div class=\"colab-df-container\">\n",
              "    <button class=\"colab-df-convert\" onclick=\"convertToInteractive('df-70f858cc-882f-4c35-91e2-d7a3aa55f984')\"\n",
              "            title=\"Convert this dataframe to an interactive table.\"\n",
              "            style=\"display:none;\">\n",
              "\n",
              "  <svg xmlns=\"http://www.w3.org/2000/svg\" height=\"24px\" viewBox=\"0 -960 960 960\">\n",
              "    <path d=\"M120-120v-720h720v720H120Zm60-500h600v-160H180v160Zm220 220h160v-160H400v160Zm0 220h160v-160H400v160ZM180-400h160v-160H180v160Zm440 0h160v-160H620v160ZM180-180h160v-160H180v160Zm440 0h160v-160H620v160Z\"/>\n",
              "  </svg>\n",
              "    </button>\n",
              "\n",
              "  <style>\n",
              "    .colab-df-container {\n",
              "      display:flex;\n",
              "      gap: 12px;\n",
              "    }\n",
              "\n",
              "    .colab-df-convert {\n",
              "      background-color: #E8F0FE;\n",
              "      border: none;\n",
              "      border-radius: 50%;\n",
              "      cursor: pointer;\n",
              "      display: none;\n",
              "      fill: #1967D2;\n",
              "      height: 32px;\n",
              "      padding: 0 0 0 0;\n",
              "      width: 32px;\n",
              "    }\n",
              "\n",
              "    .colab-df-convert:hover {\n",
              "      background-color: #E2EBFA;\n",
              "      box-shadow: 0px 1px 2px rgba(60, 64, 67, 0.3), 0px 1px 3px 1px rgba(60, 64, 67, 0.15);\n",
              "      fill: #174EA6;\n",
              "    }\n",
              "\n",
              "    .colab-df-buttons div {\n",
              "      margin-bottom: 4px;\n",
              "    }\n",
              "\n",
              "    [theme=dark] .colab-df-convert {\n",
              "      background-color: #3B4455;\n",
              "      fill: #D2E3FC;\n",
              "    }\n",
              "\n",
              "    [theme=dark] .colab-df-convert:hover {\n",
              "      background-color: #434B5C;\n",
              "      box-shadow: 0px 1px 3px 1px rgba(0, 0, 0, 0.15);\n",
              "      filter: drop-shadow(0px 1px 2px rgba(0, 0, 0, 0.3));\n",
              "      fill: #FFFFFF;\n",
              "    }\n",
              "  </style>\n",
              "\n",
              "    <script>\n",
              "      const buttonEl =\n",
              "        document.querySelector('#df-70f858cc-882f-4c35-91e2-d7a3aa55f984 button.colab-df-convert');\n",
              "      buttonEl.style.display =\n",
              "        google.colab.kernel.accessAllowed ? 'block' : 'none';\n",
              "\n",
              "      async function convertToInteractive(key) {\n",
              "        const element = document.querySelector('#df-70f858cc-882f-4c35-91e2-d7a3aa55f984');\n",
              "        const dataTable =\n",
              "          await google.colab.kernel.invokeFunction('convertToInteractive',\n",
              "                                                    [key], {});\n",
              "        if (!dataTable) return;\n",
              "\n",
              "        const docLinkHtml = 'Like what you see? Visit the ' +\n",
              "          '<a target=\"_blank\" href=https://colab.research.google.com/notebooks/data_table.ipynb>data table notebook</a>'\n",
              "          + ' to learn more about interactive tables.';\n",
              "        element.innerHTML = '';\n",
              "        dataTable['output_type'] = 'display_data';\n",
              "        await google.colab.output.renderOutput(dataTable, element);\n",
              "        const docLink = document.createElement('div');\n",
              "        docLink.innerHTML = docLinkHtml;\n",
              "        element.appendChild(docLink);\n",
              "      }\n",
              "    </script>\n",
              "  </div>\n",
              "\n",
              "\n",
              "<div id=\"df-ca0b2c46-4080-4da3-b110-ec1649335bb6\">\n",
              "  <button class=\"colab-df-quickchart\" onclick=\"quickchart('df-ca0b2c46-4080-4da3-b110-ec1649335bb6')\"\n",
              "            title=\"Suggest charts\"\n",
              "            style=\"display:none;\">\n",
              "\n",
              "<svg xmlns=\"http://www.w3.org/2000/svg\" height=\"24px\"viewBox=\"0 0 24 24\"\n",
              "     width=\"24px\">\n",
              "    <g>\n",
              "        <path d=\"M19 3H5c-1.1 0-2 .9-2 2v14c0 1.1.9 2 2 2h14c1.1 0 2-.9 2-2V5c0-1.1-.9-2-2-2zM9 17H7v-7h2v7zm4 0h-2V7h2v10zm4 0h-2v-4h2v4z\"/>\n",
              "    </g>\n",
              "</svg>\n",
              "  </button>\n",
              "\n",
              "<style>\n",
              "  .colab-df-quickchart {\n",
              "      --bg-color: #E8F0FE;\n",
              "      --fill-color: #1967D2;\n",
              "      --hover-bg-color: #E2EBFA;\n",
              "      --hover-fill-color: #174EA6;\n",
              "      --disabled-fill-color: #AAA;\n",
              "      --disabled-bg-color: #DDD;\n",
              "  }\n",
              "\n",
              "  [theme=dark] .colab-df-quickchart {\n",
              "      --bg-color: #3B4455;\n",
              "      --fill-color: #D2E3FC;\n",
              "      --hover-bg-color: #434B5C;\n",
              "      --hover-fill-color: #FFFFFF;\n",
              "      --disabled-bg-color: #3B4455;\n",
              "      --disabled-fill-color: #666;\n",
              "  }\n",
              "\n",
              "  .colab-df-quickchart {\n",
              "    background-color: var(--bg-color);\n",
              "    border: none;\n",
              "    border-radius: 50%;\n",
              "    cursor: pointer;\n",
              "    display: none;\n",
              "    fill: var(--fill-color);\n",
              "    height: 32px;\n",
              "    padding: 0;\n",
              "    width: 32px;\n",
              "  }\n",
              "\n",
              "  .colab-df-quickchart:hover {\n",
              "    background-color: var(--hover-bg-color);\n",
              "    box-shadow: 0 1px 2px rgba(60, 64, 67, 0.3), 0 1px 3px 1px rgba(60, 64, 67, 0.15);\n",
              "    fill: var(--button-hover-fill-color);\n",
              "  }\n",
              "\n",
              "  .colab-df-quickchart-complete:disabled,\n",
              "  .colab-df-quickchart-complete:disabled:hover {\n",
              "    background-color: var(--disabled-bg-color);\n",
              "    fill: var(--disabled-fill-color);\n",
              "    box-shadow: none;\n",
              "  }\n",
              "\n",
              "  .colab-df-spinner {\n",
              "    border: 2px solid var(--fill-color);\n",
              "    border-color: transparent;\n",
              "    border-bottom-color: var(--fill-color);\n",
              "    animation:\n",
              "      spin 1s steps(1) infinite;\n",
              "  }\n",
              "\n",
              "  @keyframes spin {\n",
              "    0% {\n",
              "      border-color: transparent;\n",
              "      border-bottom-color: var(--fill-color);\n",
              "      border-left-color: var(--fill-color);\n",
              "    }\n",
              "    20% {\n",
              "      border-color: transparent;\n",
              "      border-left-color: var(--fill-color);\n",
              "      border-top-color: var(--fill-color);\n",
              "    }\n",
              "    30% {\n",
              "      border-color: transparent;\n",
              "      border-left-color: var(--fill-color);\n",
              "      border-top-color: var(--fill-color);\n",
              "      border-right-color: var(--fill-color);\n",
              "    }\n",
              "    40% {\n",
              "      border-color: transparent;\n",
              "      border-right-color: var(--fill-color);\n",
              "      border-top-color: var(--fill-color);\n",
              "    }\n",
              "    60% {\n",
              "      border-color: transparent;\n",
              "      border-right-color: var(--fill-color);\n",
              "    }\n",
              "    80% {\n",
              "      border-color: transparent;\n",
              "      border-right-color: var(--fill-color);\n",
              "      border-bottom-color: var(--fill-color);\n",
              "    }\n",
              "    90% {\n",
              "      border-color: transparent;\n",
              "      border-bottom-color: var(--fill-color);\n",
              "    }\n",
              "  }\n",
              "</style>\n",
              "\n",
              "  <script>\n",
              "    async function quickchart(key) {\n",
              "      const quickchartButtonEl =\n",
              "        document.querySelector('#' + key + ' button');\n",
              "      quickchartButtonEl.disabled = true;  // To prevent multiple clicks.\n",
              "      quickchartButtonEl.classList.add('colab-df-spinner');\n",
              "      try {\n",
              "        const charts = await google.colab.kernel.invokeFunction(\n",
              "            'suggestCharts', [key], {});\n",
              "      } catch (error) {\n",
              "        console.error('Error during call to suggestCharts:', error);\n",
              "      }\n",
              "      quickchartButtonEl.classList.remove('colab-df-spinner');\n",
              "      quickchartButtonEl.classList.add('colab-df-quickchart-complete');\n",
              "    }\n",
              "    (() => {\n",
              "      let quickchartButtonEl =\n",
              "        document.querySelector('#df-ca0b2c46-4080-4da3-b110-ec1649335bb6 button');\n",
              "      quickchartButtonEl.style.display =\n",
              "        google.colab.kernel.accessAllowed ? 'block' : 'none';\n",
              "    })();\n",
              "  </script>\n",
              "</div>\n",
              "    </div>\n",
              "  </div>\n"
            ],
            "application/vnd.google.colaboratory.intrinsic+json": {
              "type": "dataframe",
              "variable_name": "df",
              "summary": "{\n  \"name\": \"df\",\n  \"rows\": 492,\n  \"fields\": [\n    {\n      \"column\": \"Sentimen\",\n      \"properties\": {\n        \"dtype\": \"category\",\n        \"num_unique_values\": 2,\n        \"samples\": [\n          \"Positif\",\n          \"Negatif\"\n        ],\n        \"semantic_type\": \"\",\n        \"description\": \"\"\n      }\n    },\n    {\n      \"column\": \"Label\",\n      \"properties\": {\n        \"dtype\": \"number\",\n        \"std\": 0,\n        \"min\": -1,\n        \"max\": 1,\n        \"num_unique_values\": 2,\n        \"samples\": [\n          1,\n          -1\n        ],\n        \"semantic_type\": \"\",\n        \"description\": \"\"\n      }\n    },\n    {\n      \"column\": \"Tweet_join\",\n      \"properties\": {\n        \"dtype\": \"string\",\n        \"num_unique_values\": 481,\n        \"samples\": [\n          \"langsung siti nurbaya tangan polusi udara jakarta langsung pimpin lpb perintah presiden jokowi konflik penting\",\n          \"gera salah tindak nyata atas polusi udara jakarta iya gera gotong royong pindah pohon\"\n        ],\n        \"semantic_type\": \"\",\n        \"description\": \"\"\n      }\n    }\n  ]\n}"
            }
          },
          "metadata": {},
          "execution_count": 2
        }
      ]
    },
    {
      "cell_type": "code",
      "source": [
        "from sklearn.feature_extraction.text import CountVectorizer\n",
        "\n",
        "# Membuat objek CountVectorizer\n",
        "cvect = CountVectorizer()\n",
        "\n",
        "# Menghitung vektor TF\n",
        "TF_vector = cvect.fit_transform(df[\"Tweet_join\"])\n",
        "\n",
        "# Mendapatkan daftar term\n",
        "terms = cvect.get_feature_names_out()\n",
        "\n",
        "# Mendapatkan jumlah term\n",
        "jumlah_term = len(terms)\n",
        "\n",
        "print(\"Jumlah term:\", jumlah_term)\n"
      ],
      "metadata": {
        "colab": {
          "base_uri": "https://localhost:8080/"
        },
        "id": "oHgctWhkolfC",
        "outputId": "fab4733e-1c6c-48ed-fa94-ad2ef30d911a"
      },
      "execution_count": null,
      "outputs": [
        {
          "output_type": "stream",
          "name": "stdout",
          "text": [
            "Jumlah term: 1549\n"
          ]
        }
      ]
    },
    {
      "cell_type": "code",
      "source": [
        "from sklearn.feature_extraction.text import TfidfVectorizer, CountVectorizer\n",
        "from sklearn.preprocessing import normalize\n",
        "\n",
        "max_features = 2000\n",
        "\n",
        "# calc TF VECTOR\n",
        "def generate_tfidf_mat(min_gram, max_gram):\n",
        "    cvect = CountVectorizer(max_features=max_features, ngram_range=(min_gram, max_gram))\n",
        "    TF_vector = cvect.fit_transform(df[\"Tweet_join\"])\n",
        "\n",
        "    normalized_TF_vector = normalize(TF_vector, norm='l1', axis=1)\n",
        "\n",
        "# calc IDF\n",
        "    tfidf = TfidfVectorizer(max_features=max_features, ngram_range=(min_gram, max_gram), smooth_idf=False)\n",
        "    tfs = tfidf.fit_transform(df[\"Tweet_join\"])\n",
        "    IDF_vector = tfidf.idf_\n",
        "\n",
        "# calc TF -IDF\n",
        "    tfidf_mat = normalized_TF_vector.multiply(tfidf.idf_).toarray()\n",
        "\n",
        "    TF = normalized_TF_vector.toarray()\n",
        "    IDF = tfidf.idf_\n",
        "    TF_IDF = tfidf_mat\n",
        "    return TF, IDF, TF_IDF, tfidf.get_feature_names_out()\n",
        "\n",
        "# ngram_range (1, 1) hanya menghitung unigram\n",
        "tf_mat_unigram, idf_mat_unigram, tfidf_mat_unigram, terms_unigram = generate_tfidf_mat(1,1)\n",
        "\n",
        "# ---------- check sparse data -------------------\n",
        "idx_sample = 0\n",
        "\n",
        "print(\"Show TFIDF sample ke-\" + str(idx_sample), \"\\n\")\n",
        "print(df[\"Tweet_join\"][idx_sample], \"\\n\")\n",
        "\n",
        "print(\"\\t\\t\\t\", \"TF\", \"\\t\\t\", \"IDF\", \"\\t\\t\", \"TF-IDF\", \"\\t\", \"Term\\n\")\n",
        "for i, item in enumerate(zip(tf_mat_unigram[idx_sample], idf_mat_unigram, tfidf_mat_unigram[idx_sample], terms_unigram)):\n",
        "    if(item[2] != 0.0):\n",
        "        print (\"array position \" + str(i) + \"\\t\",\n",
        "               \"%.6f\" % item[0], \"\\t\",\n",
        "               \"%.6f\" % item[1], \"\\t\",\n",
        "               \"%.6f\" % item[2], \"\\t\",\n",
        "               item[3])"
      ],
      "metadata": {
        "colab": {
          "base_uri": "https://localhost:8080/"
        },
        "id": "se4UGG6cwamF",
        "outputId": "cb0ab897-788c-4d0a-aeaf-ac6b498c244d"
      },
      "execution_count": null,
      "outputs": [
        {
          "output_type": "stream",
          "name": "stdout",
          "text": [
            "Show TFIDF sample ke-0 \n",
            "\n",
            "terang benderang gembar gembor polusi udara jakarta akselerasi jual mobil motor listrik naik harga pertalite menggati pertalite green harga harga pertalite \n",
            "\n",
            "\t\t\t TF \t\t IDF \t\t TF-IDF \t Term\n",
            "\n",
            "array position 37\t 0.047619 \t 7.198479 \t 0.342785 \t akselerasi\n",
            "array position 196\t 0.047619 \t 7.198479 \t 0.342785 \t benderang\n",
            "array position 429\t 0.047619 \t 6.505332 \t 0.309778 \t gembar\n",
            "array position 430\t 0.047619 \t 6.099866 \t 0.290470 \t gembor\n",
            "array position 454\t 0.047619 \t 7.198479 \t 0.342785 \t green\n",
            "array position 481\t 0.142857 \t 6.505332 \t 0.929333 \t harga\n",
            "array position 576\t 0.047619 \t 1.039383 \t 0.049494 \t jakarta\n",
            "array position 607\t 0.047619 \t 5.406719 \t 0.257463 \t jual\n",
            "array position 804\t 0.047619 \t 3.940382 \t 0.187637 \t listrik\n",
            "array position 881\t 0.047619 \t 7.198479 \t 0.342785 \t menggati\n",
            "array position 901\t 0.047619 \t 4.895894 \t 0.233138 \t mobil\n",
            "array position 912\t 0.047619 \t 4.153956 \t 0.197807 \t motor\n",
            "array position 929\t 0.047619 \t 6.099866 \t 0.290470 \t naik\n",
            "array position 1048\t 0.142857 \t 6.505332 \t 0.929333 \t pertalite\n",
            "array position 1083\t 0.047619 \t 1.050010 \t 0.050000 \t polusi\n",
            "array position 1420\t 0.047619 \t 6.505332 \t 0.309778 \t terang\n",
            "array position 1493\t 0.047619 \t 1.010215 \t 0.048105 \t udara\n"
          ]
        }
      ]
    },
    {
      "cell_type": "code",
      "source": [
        "tfidf_mat_unigram"
      ],
      "metadata": {
        "colab": {
          "base_uri": "https://localhost:8080/"
        },
        "id": "lUm8SD-8fvA9",
        "outputId": "1730482a-07dc-4b28-a227-cff928df5826"
      },
      "execution_count": null,
      "outputs": [
        {
          "output_type": "execute_result",
          "data": {
            "text/plain": [
              "array([[0., 0., 0., ..., 0., 0., 0.],\n",
              "       [0., 0., 0., ..., 0., 0., 0.],\n",
              "       [0., 0., 0., ..., 0., 0., 0.],\n",
              "       ...,\n",
              "       [0., 0., 0., ..., 0., 0., 0.],\n",
              "       [0., 0., 0., ..., 0., 0., 0.],\n",
              "       [0., 0., 0., ..., 0., 0., 0.]])"
            ]
          },
          "metadata": {},
          "execution_count": 5
        }
      ]
    },
    {
      "cell_type": "code",
      "source": [
        "def get_TF(row):\n",
        "    idx = row.name\n",
        "    return [tf for tf in tf_mat_unigram[idx] if tf != 0.0]\n",
        "\n",
        "df[\"TF\"] = df.apply(get_TF, axis=1)\n",
        "\n",
        "def get_IDF(row):\n",
        "    idx = row.name\n",
        "    return [item[1] for item in zip(tf_mat_unigram[idx], idf_mat_unigram) if item[0] != 0.0]\n",
        "\n",
        "df[\"IDF\"] = df.apply(get_IDF, axis=1)\n",
        "\n",
        "def get_TFIDF(row):\n",
        "    idx = row.name\n",
        "    return [tfidf for tfidf in tfidf_mat_unigram[idx] if tfidf != 0.0]\n",
        "\n",
        "df[\"TFIDF\"] = df.apply(get_TFIDF, axis=1)\n"
      ],
      "metadata": {
        "id": "0N9xo132xCD9"
      },
      "execution_count": null,
      "outputs": []
    },
    {
      "cell_type": "code",
      "source": [
        "df"
      ],
      "metadata": {
        "colab": {
          "base_uri": "https://localhost:8080/",
          "height": 1000
        },
        "id": "IJQuwqUPXq_X",
        "outputId": "aa053887-318a-48bc-8771-0786af26492c"
      },
      "execution_count": null,
      "outputs": [
        {
          "output_type": "execute_result",
          "data": {
            "text/plain": [
              "    Sentimen  Label                                         Tweet_join  \\\n",
              "0    Negatif     -1  terang benderang gembar gembor polusi udara ja...   \n",
              "1    Negatif     -1  kabut minggu kerja dari rumah semprot air huja...   \n",
              "2    Negatif     -1  perintah ktp sih udara polusi perintah udara p...   \n",
              "3    Negatif     -1  gila parah jakarta krisis polusi udara flyover...   \n",
              "4    Negatif     -1  polusi udara jakarta salah ukm industri sebab ...   \n",
              "..       ...    ...                                                ...   \n",
              "487  Negatif     -1  selasa udara kelapa gading cemar segera mungki...   \n",
              "488  Positif      1  jokowi kumpul menteri bahas polusi udara jakar...   \n",
              "489  Negatif     -1  polusi udara jabodetabek tri pariwisata dan ek...   \n",
              "490  Negatif     -1  semprot parfum biar bau badan tambah polusi ud...   \n",
              "491  Positif      1  upaya perintah atas polusi udara dki jakarta g...   \n",
              "\n",
              "                                                    TF  \\\n",
              "0    [0.047619047619047616, 0.047619047619047616, 0...   \n",
              "1    [0.043478260869565216, 0.043478260869565216, 0...   \n",
              "2    [0.09090909090909091, 0.09090909090909091, 0.0...   \n",
              "3    [0.09090909090909091, 0.09090909090909091, 0.0...   \n",
              "4    [0.09090909090909091, 0.09090909090909091, 0.0...   \n",
              "..                                                 ...   \n",
              "487  [0.09090909090909091, 0.09090909090909091, 0.0...   \n",
              "488  [0.04, 0.04, 0.04, 0.04, 0.04, 0.04, 0.04, 0.0...   \n",
              "489  [0.08333333333333333, 0.08333333333333333, 0.0...   \n",
              "490  [0.1111111111111111, 0.1111111111111111, 0.111...   \n",
              "491  [0.09090909090909091, 0.09090909090909091, 0.0...   \n",
              "\n",
              "                                                   IDF  \\\n",
              "0    [7.198478716492308, 7.198478716492308, 6.50533...   \n",
              "1    [3.5875608038480835, 4.490428515390098, 4.6335...   \n",
              "2    [6.099866427824199, 1.0393833280003753, 7.1984...   \n",
              "3    [7.198478716492308, 4.800583443693938, 7.19847...   \n",
              "4    [6.5053315359323625, 4.308106958596143, 1.0393...   \n",
              "..                                                 ...   \n",
              "487  [3.6431306550028943, 4.895893623498262, 7.1984...   \n",
              "488  [5.406719247264253, 5.119037174812473, 4.71357...   \n",
              "489  [5.812184355372417, 5.589040804058207, 4.63352...   \n",
              "490  [5.406719247264253, 4.633529359030772, 5.40671...   \n",
              "491  [3.286455711064162, 6.5053315359323625, 3.0876...   \n",
              "\n",
              "                                                 TFIDF  \n",
              "0    [0.34278470078534795, 0.34278470078534795, 0.3...  \n",
              "1    [0.15598090451513405, 0.19523602240826513, 0.2...  \n",
              "2    [0.5545333116203818, 0.09448939345457957, 0.65...  \n",
              "3    [0.6544071560447553, 0.43641667669944895, 0.65...  \n",
              "4    [0.5913937759938511, 0.39164608714510396, 0.09...  \n",
              "..                                                 ...  \n",
              "487  [0.33119369590935405, 0.445081238499842, 0.654...  \n",
              "488  [0.21626876989057014, 0.2047614869924989, 0.18...  \n",
              "489  [0.4843486962810347, 0.4657534003381839, 0.386...  \n",
              "490  [0.6007465830293615, 0.5148365954478635, 0.600...  \n",
              "491  [0.2987687010058329, 0.5913937759938511, 0.280...  \n",
              "\n",
              "[492 rows x 6 columns]"
            ],
            "text/html": [
              "\n",
              "  <div id=\"df-b2e9e73b-309b-480e-8ee8-847455e7cd69\" class=\"colab-df-container\">\n",
              "    <div>\n",
              "<style scoped>\n",
              "    .dataframe tbody tr th:only-of-type {\n",
              "        vertical-align: middle;\n",
              "    }\n",
              "\n",
              "    .dataframe tbody tr th {\n",
              "        vertical-align: top;\n",
              "    }\n",
              "\n",
              "    .dataframe thead th {\n",
              "        text-align: right;\n",
              "    }\n",
              "</style>\n",
              "<table border=\"1\" class=\"dataframe\">\n",
              "  <thead>\n",
              "    <tr style=\"text-align: right;\">\n",
              "      <th></th>\n",
              "      <th>Sentimen</th>\n",
              "      <th>Label</th>\n",
              "      <th>Tweet_join</th>\n",
              "      <th>TF</th>\n",
              "      <th>IDF</th>\n",
              "      <th>TFIDF</th>\n",
              "    </tr>\n",
              "  </thead>\n",
              "  <tbody>\n",
              "    <tr>\n",
              "      <th>0</th>\n",
              "      <td>Negatif</td>\n",
              "      <td>-1</td>\n",
              "      <td>terang benderang gembar gembor polusi udara ja...</td>\n",
              "      <td>[0.047619047619047616, 0.047619047619047616, 0...</td>\n",
              "      <td>[7.198478716492308, 7.198478716492308, 6.50533...</td>\n",
              "      <td>[0.34278470078534795, 0.34278470078534795, 0.3...</td>\n",
              "    </tr>\n",
              "    <tr>\n",
              "      <th>1</th>\n",
              "      <td>Negatif</td>\n",
              "      <td>-1</td>\n",
              "      <td>kabut minggu kerja dari rumah semprot air huja...</td>\n",
              "      <td>[0.043478260869565216, 0.043478260869565216, 0...</td>\n",
              "      <td>[3.5875608038480835, 4.490428515390098, 4.6335...</td>\n",
              "      <td>[0.15598090451513405, 0.19523602240826513, 0.2...</td>\n",
              "    </tr>\n",
              "    <tr>\n",
              "      <th>2</th>\n",
              "      <td>Negatif</td>\n",
              "      <td>-1</td>\n",
              "      <td>perintah ktp sih udara polusi perintah udara p...</td>\n",
              "      <td>[0.09090909090909091, 0.09090909090909091, 0.0...</td>\n",
              "      <td>[6.099866427824199, 1.0393833280003753, 7.1984...</td>\n",
              "      <td>[0.5545333116203818, 0.09448939345457957, 0.65...</td>\n",
              "    </tr>\n",
              "    <tr>\n",
              "      <th>3</th>\n",
              "      <td>Negatif</td>\n",
              "      <td>-1</td>\n",
              "      <td>gila parah jakarta krisis polusi udara flyover...</td>\n",
              "      <td>[0.09090909090909091, 0.09090909090909091, 0.0...</td>\n",
              "      <td>[7.198478716492308, 4.800583443693938, 7.19847...</td>\n",
              "      <td>[0.6544071560447553, 0.43641667669944895, 0.65...</td>\n",
              "    </tr>\n",
              "    <tr>\n",
              "      <th>4</th>\n",
              "      <td>Negatif</td>\n",
              "      <td>-1</td>\n",
              "      <td>polusi udara jakarta salah ukm industri sebab ...</td>\n",
              "      <td>[0.09090909090909091, 0.09090909090909091, 0.0...</td>\n",
              "      <td>[6.5053315359323625, 4.308106958596143, 1.0393...</td>\n",
              "      <td>[0.5913937759938511, 0.39164608714510396, 0.09...</td>\n",
              "    </tr>\n",
              "    <tr>\n",
              "      <th>...</th>\n",
              "      <td>...</td>\n",
              "      <td>...</td>\n",
              "      <td>...</td>\n",
              "      <td>...</td>\n",
              "      <td>...</td>\n",
              "      <td>...</td>\n",
              "    </tr>\n",
              "    <tr>\n",
              "      <th>487</th>\n",
              "      <td>Negatif</td>\n",
              "      <td>-1</td>\n",
              "      <td>selasa udara kelapa gading cemar segera mungki...</td>\n",
              "      <td>[0.09090909090909091, 0.09090909090909091, 0.0...</td>\n",
              "      <td>[3.6431306550028943, 4.895893623498262, 7.1984...</td>\n",
              "      <td>[0.33119369590935405, 0.445081238499842, 0.654...</td>\n",
              "    </tr>\n",
              "    <tr>\n",
              "      <th>488</th>\n",
              "      <td>Positif</td>\n",
              "      <td>1</td>\n",
              "      <td>jokowi kumpul menteri bahas polusi udara jakar...</td>\n",
              "      <td>[0.04, 0.04, 0.04, 0.04, 0.04, 0.04, 0.04, 0.0...</td>\n",
              "      <td>[5.406719247264253, 5.119037174812473, 4.71357...</td>\n",
              "      <td>[0.21626876989057014, 0.2047614869924989, 0.18...</td>\n",
              "    </tr>\n",
              "    <tr>\n",
              "      <th>489</th>\n",
              "      <td>Negatif</td>\n",
              "      <td>-1</td>\n",
              "      <td>polusi udara jabodetabek tri pariwisata dan ek...</td>\n",
              "      <td>[0.08333333333333333, 0.08333333333333333, 0.0...</td>\n",
              "      <td>[5.812184355372417, 5.589040804058207, 4.63352...</td>\n",
              "      <td>[0.4843486962810347, 0.4657534003381839, 0.386...</td>\n",
              "    </tr>\n",
              "    <tr>\n",
              "      <th>490</th>\n",
              "      <td>Negatif</td>\n",
              "      <td>-1</td>\n",
              "      <td>semprot parfum biar bau badan tambah polusi ud...</td>\n",
              "      <td>[0.1111111111111111, 0.1111111111111111, 0.111...</td>\n",
              "      <td>[5.406719247264253, 4.633529359030772, 5.40671...</td>\n",
              "      <td>[0.6007465830293615, 0.5148365954478635, 0.600...</td>\n",
              "    </tr>\n",
              "    <tr>\n",
              "      <th>491</th>\n",
              "      <td>Positif</td>\n",
              "      <td>1</td>\n",
              "      <td>upaya perintah atas polusi udara dki jakarta g...</td>\n",
              "      <td>[0.09090909090909091, 0.09090909090909091, 0.0...</td>\n",
              "      <td>[3.286455711064162, 6.5053315359323625, 3.0876...</td>\n",
              "      <td>[0.2987687010058329, 0.5913937759938511, 0.280...</td>\n",
              "    </tr>\n",
              "  </tbody>\n",
              "</table>\n",
              "<p>492 rows × 6 columns</p>\n",
              "</div>\n",
              "    <div class=\"colab-df-buttons\">\n",
              "\n",
              "  <div class=\"colab-df-container\">\n",
              "    <button class=\"colab-df-convert\" onclick=\"convertToInteractive('df-b2e9e73b-309b-480e-8ee8-847455e7cd69')\"\n",
              "            title=\"Convert this dataframe to an interactive table.\"\n",
              "            style=\"display:none;\">\n",
              "\n",
              "  <svg xmlns=\"http://www.w3.org/2000/svg\" height=\"24px\" viewBox=\"0 -960 960 960\">\n",
              "    <path d=\"M120-120v-720h720v720H120Zm60-500h600v-160H180v160Zm220 220h160v-160H400v160Zm0 220h160v-160H400v160ZM180-400h160v-160H180v160Zm440 0h160v-160H620v160ZM180-180h160v-160H180v160Zm440 0h160v-160H620v160Z\"/>\n",
              "  </svg>\n",
              "    </button>\n",
              "\n",
              "  <style>\n",
              "    .colab-df-container {\n",
              "      display:flex;\n",
              "      gap: 12px;\n",
              "    }\n",
              "\n",
              "    .colab-df-convert {\n",
              "      background-color: #E8F0FE;\n",
              "      border: none;\n",
              "      border-radius: 50%;\n",
              "      cursor: pointer;\n",
              "      display: none;\n",
              "      fill: #1967D2;\n",
              "      height: 32px;\n",
              "      padding: 0 0 0 0;\n",
              "      width: 32px;\n",
              "    }\n",
              "\n",
              "    .colab-df-convert:hover {\n",
              "      background-color: #E2EBFA;\n",
              "      box-shadow: 0px 1px 2px rgba(60, 64, 67, 0.3), 0px 1px 3px 1px rgba(60, 64, 67, 0.15);\n",
              "      fill: #174EA6;\n",
              "    }\n",
              "\n",
              "    .colab-df-buttons div {\n",
              "      margin-bottom: 4px;\n",
              "    }\n",
              "\n",
              "    [theme=dark] .colab-df-convert {\n",
              "      background-color: #3B4455;\n",
              "      fill: #D2E3FC;\n",
              "    }\n",
              "\n",
              "    [theme=dark] .colab-df-convert:hover {\n",
              "      background-color: #434B5C;\n",
              "      box-shadow: 0px 1px 3px 1px rgba(0, 0, 0, 0.15);\n",
              "      filter: drop-shadow(0px 1px 2px rgba(0, 0, 0, 0.3));\n",
              "      fill: #FFFFFF;\n",
              "    }\n",
              "  </style>\n",
              "\n",
              "    <script>\n",
              "      const buttonEl =\n",
              "        document.querySelector('#df-b2e9e73b-309b-480e-8ee8-847455e7cd69 button.colab-df-convert');\n",
              "      buttonEl.style.display =\n",
              "        google.colab.kernel.accessAllowed ? 'block' : 'none';\n",
              "\n",
              "      async function convertToInteractive(key) {\n",
              "        const element = document.querySelector('#df-b2e9e73b-309b-480e-8ee8-847455e7cd69');\n",
              "        const dataTable =\n",
              "          await google.colab.kernel.invokeFunction('convertToInteractive',\n",
              "                                                    [key], {});\n",
              "        if (!dataTable) return;\n",
              "\n",
              "        const docLinkHtml = 'Like what you see? Visit the ' +\n",
              "          '<a target=\"_blank\" href=https://colab.research.google.com/notebooks/data_table.ipynb>data table notebook</a>'\n",
              "          + ' to learn more about interactive tables.';\n",
              "        element.innerHTML = '';\n",
              "        dataTable['output_type'] = 'display_data';\n",
              "        await google.colab.output.renderOutput(dataTable, element);\n",
              "        const docLink = document.createElement('div');\n",
              "        docLink.innerHTML = docLinkHtml;\n",
              "        element.appendChild(docLink);\n",
              "      }\n",
              "    </script>\n",
              "  </div>\n",
              "\n",
              "\n",
              "<div id=\"df-b25238b9-219e-4d22-a690-8d9f55107269\">\n",
              "  <button class=\"colab-df-quickchart\" onclick=\"quickchart('df-b25238b9-219e-4d22-a690-8d9f55107269')\"\n",
              "            title=\"Suggest charts\"\n",
              "            style=\"display:none;\">\n",
              "\n",
              "<svg xmlns=\"http://www.w3.org/2000/svg\" height=\"24px\"viewBox=\"0 0 24 24\"\n",
              "     width=\"24px\">\n",
              "    <g>\n",
              "        <path d=\"M19 3H5c-1.1 0-2 .9-2 2v14c0 1.1.9 2 2 2h14c1.1 0 2-.9 2-2V5c0-1.1-.9-2-2-2zM9 17H7v-7h2v7zm4 0h-2V7h2v10zm4 0h-2v-4h2v4z\"/>\n",
              "    </g>\n",
              "</svg>\n",
              "  </button>\n",
              "\n",
              "<style>\n",
              "  .colab-df-quickchart {\n",
              "      --bg-color: #E8F0FE;\n",
              "      --fill-color: #1967D2;\n",
              "      --hover-bg-color: #E2EBFA;\n",
              "      --hover-fill-color: #174EA6;\n",
              "      --disabled-fill-color: #AAA;\n",
              "      --disabled-bg-color: #DDD;\n",
              "  }\n",
              "\n",
              "  [theme=dark] .colab-df-quickchart {\n",
              "      --bg-color: #3B4455;\n",
              "      --fill-color: #D2E3FC;\n",
              "      --hover-bg-color: #434B5C;\n",
              "      --hover-fill-color: #FFFFFF;\n",
              "      --disabled-bg-color: #3B4455;\n",
              "      --disabled-fill-color: #666;\n",
              "  }\n",
              "\n",
              "  .colab-df-quickchart {\n",
              "    background-color: var(--bg-color);\n",
              "    border: none;\n",
              "    border-radius: 50%;\n",
              "    cursor: pointer;\n",
              "    display: none;\n",
              "    fill: var(--fill-color);\n",
              "    height: 32px;\n",
              "    padding: 0;\n",
              "    width: 32px;\n",
              "  }\n",
              "\n",
              "  .colab-df-quickchart:hover {\n",
              "    background-color: var(--hover-bg-color);\n",
              "    box-shadow: 0 1px 2px rgba(60, 64, 67, 0.3), 0 1px 3px 1px rgba(60, 64, 67, 0.15);\n",
              "    fill: var(--button-hover-fill-color);\n",
              "  }\n",
              "\n",
              "  .colab-df-quickchart-complete:disabled,\n",
              "  .colab-df-quickchart-complete:disabled:hover {\n",
              "    background-color: var(--disabled-bg-color);\n",
              "    fill: var(--disabled-fill-color);\n",
              "    box-shadow: none;\n",
              "  }\n",
              "\n",
              "  .colab-df-spinner {\n",
              "    border: 2px solid var(--fill-color);\n",
              "    border-color: transparent;\n",
              "    border-bottom-color: var(--fill-color);\n",
              "    animation:\n",
              "      spin 1s steps(1) infinite;\n",
              "  }\n",
              "\n",
              "  @keyframes spin {\n",
              "    0% {\n",
              "      border-color: transparent;\n",
              "      border-bottom-color: var(--fill-color);\n",
              "      border-left-color: var(--fill-color);\n",
              "    }\n",
              "    20% {\n",
              "      border-color: transparent;\n",
              "      border-left-color: var(--fill-color);\n",
              "      border-top-color: var(--fill-color);\n",
              "    }\n",
              "    30% {\n",
              "      border-color: transparent;\n",
              "      border-left-color: var(--fill-color);\n",
              "      border-top-color: var(--fill-color);\n",
              "      border-right-color: var(--fill-color);\n",
              "    }\n",
              "    40% {\n",
              "      border-color: transparent;\n",
              "      border-right-color: var(--fill-color);\n",
              "      border-top-color: var(--fill-color);\n",
              "    }\n",
              "    60% {\n",
              "      border-color: transparent;\n",
              "      border-right-color: var(--fill-color);\n",
              "    }\n",
              "    80% {\n",
              "      border-color: transparent;\n",
              "      border-right-color: var(--fill-color);\n",
              "      border-bottom-color: var(--fill-color);\n",
              "    }\n",
              "    90% {\n",
              "      border-color: transparent;\n",
              "      border-bottom-color: var(--fill-color);\n",
              "    }\n",
              "  }\n",
              "</style>\n",
              "\n",
              "  <script>\n",
              "    async function quickchart(key) {\n",
              "      const quickchartButtonEl =\n",
              "        document.querySelector('#' + key + ' button');\n",
              "      quickchartButtonEl.disabled = true;  // To prevent multiple clicks.\n",
              "      quickchartButtonEl.classList.add('colab-df-spinner');\n",
              "      try {\n",
              "        const charts = await google.colab.kernel.invokeFunction(\n",
              "            'suggestCharts', [key], {});\n",
              "      } catch (error) {\n",
              "        console.error('Error during call to suggestCharts:', error);\n",
              "      }\n",
              "      quickchartButtonEl.classList.remove('colab-df-spinner');\n",
              "      quickchartButtonEl.classList.add('colab-df-quickchart-complete');\n",
              "    }\n",
              "    (() => {\n",
              "      let quickchartButtonEl =\n",
              "        document.querySelector('#df-b25238b9-219e-4d22-a690-8d9f55107269 button');\n",
              "      quickchartButtonEl.style.display =\n",
              "        google.colab.kernel.accessAllowed ? 'block' : 'none';\n",
              "    })();\n",
              "  </script>\n",
              "</div>\n",
              "    </div>\n",
              "  </div>\n"
            ],
            "application/vnd.google.colaboratory.intrinsic+json": {
              "type": "dataframe",
              "variable_name": "df",
              "summary": "{\n  \"name\": \"df\",\n  \"rows\": 492,\n  \"fields\": [\n    {\n      \"column\": \"Sentimen\",\n      \"properties\": {\n        \"dtype\": \"category\",\n        \"num_unique_values\": 2,\n        \"samples\": [\n          \"Positif\",\n          \"Negatif\"\n        ],\n        \"semantic_type\": \"\",\n        \"description\": \"\"\n      }\n    },\n    {\n      \"column\": \"Label\",\n      \"properties\": {\n        \"dtype\": \"number\",\n        \"std\": 0,\n        \"min\": -1,\n        \"max\": 1,\n        \"num_unique_values\": 2,\n        \"samples\": [\n          1,\n          -1\n        ],\n        \"semantic_type\": \"\",\n        \"description\": \"\"\n      }\n    },\n    {\n      \"column\": \"Tweet_join\",\n      \"properties\": {\n        \"dtype\": \"string\",\n        \"num_unique_values\": 481,\n        \"samples\": [\n          \"langsung siti nurbaya tangan polusi udara jakarta langsung pimpin lpb perintah presiden jokowi konflik penting\",\n          \"gera salah tindak nyata atas polusi udara jakarta iya gera gotong royong pindah pohon\"\n        ],\n        \"semantic_type\": \"\",\n        \"description\": \"\"\n      }\n    },\n    {\n      \"column\": \"TF\",\n      \"properties\": {\n        \"dtype\": \"object\",\n        \"semantic_type\": \"\",\n        \"description\": \"\"\n      }\n    },\n    {\n      \"column\": \"IDF\",\n      \"properties\": {\n        \"dtype\": \"object\",\n        \"semantic_type\": \"\",\n        \"description\": \"\"\n      }\n    },\n    {\n      \"column\": \"TFIDF\",\n      \"properties\": {\n        \"dtype\": \"object\",\n        \"semantic_type\": \"\",\n        \"description\": \"\"\n      }\n    }\n  ]\n}"
            }
          },
          "metadata": {},
          "execution_count": 7
        }
      ]
    },
    {
      "cell_type": "code",
      "source": [
        "# save TFIDF Unigram to csv\n",
        "\n",
        "df[[\"Tweet_join\", \"TF\", \"IDF\", \"TFIDF\"]].to_csv(\"DF_TFIDF_.csv\")"
      ],
      "metadata": {
        "id": "fvr5dYPqXltb"
      },
      "execution_count": null,
      "outputs": []
    },
    {
      "cell_type": "markdown",
      "source": [
        "EKSTRASI FITUR"
      ],
      "metadata": {
        "id": "dNUaUOD0SZTR"
      }
    },
    {
      "cell_type": "code",
      "source": [
        "X = tfidf_mat_unigram\n",
        "y = df['Label']"
      ],
      "metadata": {
        "id": "t_aqTK_ySYyy"
      },
      "execution_count": null,
      "outputs": []
    },
    {
      "cell_type": "markdown",
      "source": [
        "***SPLIT VALIDATION DATA***"
      ],
      "metadata": {
        "id": "A2ezyGh5pmO3"
      }
    },
    {
      "cell_type": "markdown",
      "source": [
        "90 : 10"
      ],
      "metadata": {
        "id": "Vm-2THcF8WKh"
      }
    },
    {
      "cell_type": "code",
      "source": [
        "from sklearn.model_selection import train_test_split\n",
        "\n",
        "X_train, X_test, y_train, y_test = train_test_split(tfidf_mat_unigram, df['Label'], test_size=0.1, random_state=42)\n"
      ],
      "metadata": {
        "id": "XCPnbX7Pb82E"
      },
      "execution_count": null,
      "outputs": []
    },
    {
      "cell_type": "markdown",
      "source": [
        "##**KLASIFIKASI NAIVE BAYES**"
      ],
      "metadata": {
        "id": "pS0yieKzlc7u"
      }
    },
    {
      "cell_type": "code",
      "source": [
        "from sklearn.naive_bayes import MultinomialNB\n",
        "from sklearn.metrics import accuracy_score, classification_report, confusion_matrix\n",
        "\n",
        "# Inisialisasi model klasifikasi Naive Bayes\n",
        "nb_classifier = MultinomialNB()\n",
        "\n",
        "# Latih model menggunakan data latih\n",
        "nb_classifier.fit(X_train, y_train)\n",
        "\n",
        "# Lakukan prediksi menggunakan data uji\n",
        "y_pred = nb_classifier.predict(X_test)\n",
        "\n",
        "# Hitung akurasi prediksi\n",
        "accuracy = accuracy_score(y_test, y_pred)\n",
        "print(\"Akurasi Naive Bayes:\", accuracy*100)\n",
        "\n",
        "# Tampilkan laporan klasifikasi\n",
        "print(\"Laporan Klasifikasi Naive Bayes - 90:10 :\")\n",
        "print(classification_report(y_test, y_pred))\n",
        "\n"
      ],
      "metadata": {
        "colab": {
          "base_uri": "https://localhost:8080/"
        },
        "outputId": "304727ac-39f2-4b44-8e98-ee3bc228eef0",
        "id": "_tpV_OaCb83P"
      },
      "execution_count": null,
      "outputs": [
        {
          "output_type": "stream",
          "name": "stdout",
          "text": [
            "Akurasi Naive Bayes: 80.0\n",
            "Laporan Klasifikasi Naive Bayes - 90:10 :\n",
            "              precision    recall  f1-score   support\n",
            "\n",
            "          -1       0.77      0.88      0.82        26\n",
            "           1       0.85      0.71      0.77        24\n",
            "\n",
            "    accuracy                           0.80        50\n",
            "   macro avg       0.81      0.80      0.80        50\n",
            "weighted avg       0.81      0.80      0.80        50\n",
            "\n"
          ]
        }
      ]
    },
    {
      "cell_type": "code",
      "source": [
        "import seaborn as sns\n",
        "import matplotlib.pyplot as plt"
      ],
      "metadata": {
        "id": "NwTdO07AsyAJ"
      },
      "execution_count": null,
      "outputs": []
    },
    {
      "cell_type": "code",
      "source": [
        "def plot_confusion_matrix(cm, labels):\n",
        "    plt.figure(figsize=(6, 4))\n",
        "    sns.heatmap(cm, annot=True, fmt='d', cmap='Blues', xticklabels=labels, yticklabels=labels, cbar=False)\n",
        "    plt.xlabel('Predicted labels')\n",
        "    plt.ylabel('True labels')\n",
        "    plt.title('Confusion Matrix - NBC - 90:10')\n",
        "    plt.show()"
      ],
      "metadata": {
        "id": "NoPy390bp42b"
      },
      "execution_count": null,
      "outputs": []
    },
    {
      "cell_type": "code",
      "source": [
        "labels = df['Label'].unique()"
      ],
      "metadata": {
        "id": "KQEB4TOsp42d"
      },
      "execution_count": null,
      "outputs": []
    },
    {
      "cell_type": "code",
      "source": [
        "nb_cm = confusion_matrix(y_test, y_pred)\n",
        "plot_confusion_matrix(nb_cm, labels)"
      ],
      "metadata": {
        "colab": {
          "base_uri": "https://localhost:8080/",
          "height": 410
        },
        "outputId": "5594ceb9-d22f-4680-808a-535059bd4cdc",
        "id": "IRth8xp8p42e"
      },
      "execution_count": null,
      "outputs": [
        {
          "output_type": "display_data",
          "data": {
            "text/plain": [
              "<Figure size 600x400 with 1 Axes>"
            ],
            "image/png": "[encoded data removed]"
          },
          "metadata": {}
        }
      ]
    },
    {
      "cell_type": "markdown",
      "source": [
        "## **KLASIFIKASI SVM**"
      ],
      "metadata": {
        "id": "9lsaU-DVlY0e"
      }
    },
    {
      "cell_type": "code",
      "source": [
        "from sklearn.svm import SVC\n",
        "from sklearn.metrics import accuracy_score, classification_report, confusion_matrix\n",
        "\n",
        "# Inisialisasi model SVM\n",
        "svm_model = SVC(kernel='linear')\n",
        "\n",
        "# Melatih model SVM\n",
        "svm_model.fit(X_train, y_train)\n",
        "\n",
        "# Membuat prediksi menggunakan model yang telah dilatih\n",
        "y_pred = svm_model.predict(X_test)\n",
        "\n",
        "# Menghitung akurasi prediksi\n",
        "accuracy = accuracy_score(y_test, y_pred)\n",
        "print(\"Akurasi:\", accuracy*100)\n",
        "\n",
        "\n",
        "# Tampilkan laporan klasifikasi\n",
        "print(\"Laporan Klasifikasi SVM - 90:10 :\")\n",
        "print(classification_report(y_test, y_pred))"
      ],
      "metadata": {
        "colab": {
          "base_uri": "https://localhost:8080/"
        },
        "id": "mFNq6Sb6e0TA",
        "outputId": "b10a692e-b93a-4973-9d36-4c969a31f71c"
      },
      "execution_count": null,
      "outputs": [
        {
          "output_type": "stream",
          "name": "stdout",
          "text": [
            "Akurasi: 72.0\n",
            "Laporan Klasifikasi SVM - 90:10 :\n",
            "              precision    recall  f1-score   support\n",
            "\n",
            "          -1       0.70      0.81      0.75        26\n",
            "           1       0.75      0.62      0.68        24\n",
            "\n",
            "    accuracy                           0.72        50\n",
            "   macro avg       0.72      0.72      0.72        50\n",
            "weighted avg       0.72      0.72      0.72        50\n",
            "\n"
          ]
        }
      ]
    },
    {
      "cell_type": "code",
      "source": [
        "def plot_confusion_matrix(cm, labels):\n",
        "    plt.figure(figsize=(6, 4))\n",
        "    sns.heatmap(cm, annot=True, fmt='d', cmap='Reds', xticklabels=labels, yticklabels=labels, cbar=False)\n",
        "    plt.xlabel('Predicted labels')\n",
        "    plt.ylabel('True labels')\n",
        "    plt.title('Confusion Matrix - SVM - 90:10')\n",
        "    plt.show()"
      ],
      "metadata": {
        "id": "JYyTVSCxrYz1"
      },
      "execution_count": null,
      "outputs": []
    },
    {
      "cell_type": "code",
      "source": [
        "labels = df['Label'].unique()"
      ],
      "metadata": {
        "id": "ObFivbScrY0X"
      },
      "execution_count": null,
      "outputs": []
    },
    {
      "cell_type": "code",
      "source": [
        "nb_cm = confusion_matrix(y_test, y_pred)\n",
        "plot_confusion_matrix(nb_cm, labels)"
      ],
      "metadata": {
        "colab": {
          "base_uri": "https://localhost:8080/",
          "height": 410
        },
        "outputId": "03f0ba36-2a64-4c75-e653-be088f78a58b",
        "id": "gkV7gbUwrY0Y"
      },
      "execution_count": null,
      "outputs": [
        {
          "output_type": "display_data",
          "data": {
            "text/plain": [
              "<Figure size 600x400 with 1 Axes>"
            ],
            "image/png": "[encoded data removed]"
          },
          "metadata": {}
        }
      ]
    },
    {
      "cell_type": "markdown",
      "source": [
        "***SPLIT VALIDATION DATA***"
      ],
      "metadata": {
        "id": "B1wm4rvoXXie"
      }
    },
    {
      "cell_type": "markdown",
      "source": [
        "80:20"
      ],
      "metadata": {
        "id": "CzetY1PuX7Qs"
      }
    },
    {
      "cell_type": "code",
      "source": [
        "from sklearn.model_selection import train_test_split\n",
        "\n",
        "X_train, X_test, y_train, y_test = train_test_split(tfidf_mat_unigram, df['Label'], test_size=0.2, random_state=42)\n"
      ],
      "metadata": {
        "id": "5xbuWX02XV79"
      },
      "execution_count": null,
      "outputs": []
    },
    {
      "cell_type": "markdown",
      "source": [
        "## **KLASIFIKASI NAIVE BAYES**"
      ],
      "metadata": {
        "id": "roz5yqOpjcVF"
      }
    },
    {
      "cell_type": "code",
      "source": [
        "from sklearn.naive_bayes import MultinomialNB\n",
        "from sklearn.metrics import accuracy_score, classification_report, confusion_matrix\n",
        "\n",
        "# Inisialisasi model klasifikasi Naive Bayes\n",
        "nb_classifier = MultinomialNB()\n",
        "\n",
        "# Latih model menggunakan data latih\n",
        "nb_classifier.fit(X_train, y_train)\n",
        "\n",
        "# Lakukan prediksi menggunakan data uji\n",
        "y_pred = nb_classifier.predict(X_test)\n",
        "\n",
        "# Hitung akurasi prediksi\n",
        "accuracy = accuracy_score(y_test, y_pred)\n",
        "print(\"Akurasi Naive Bayes:\", accuracy*100)\n",
        "\n",
        "# Tampilkan laporan klasifikasi\n",
        "print(\"Laporan Klasifikasi Naive Bayes - 80:20 :\")\n",
        "print(classification_report(y_test, y_pred))"
      ],
      "metadata": {
        "colab": {
          "base_uri": "https://localhost:8080/"
        },
        "id": "UY0iw1Ms4ttt",
        "outputId": "4901fac9-ceeb-4ca9-85c6-9843d94ab609"
      },
      "execution_count": null,
      "outputs": [
        {
          "output_type": "stream",
          "name": "stdout",
          "text": [
            "Akurasi Naive Bayes: 71.71717171717171\n",
            "Laporan Klasifikasi Naive Bayes - 80:20 :\n",
            "              precision    recall  f1-score   support\n",
            "\n",
            "          -1       0.66      0.85      0.74        47\n",
            "           1       0.82      0.60      0.69        52\n",
            "\n",
            "    accuracy                           0.72        99\n",
            "   macro avg       0.74      0.72      0.71        99\n",
            "weighted avg       0.74      0.72      0.71        99\n",
            "\n"
          ]
        }
      ]
    },
    {
      "cell_type": "code",
      "source": [
        "def plot_confusion_matrix(cm, labels):\n",
        "    plt.figure(figsize=(6, 4))\n",
        "    sns.heatmap(cm, annot=True, fmt='d', cmap='Blues', xticklabels=labels, yticklabels=labels, cbar=False)\n",
        "    plt.xlabel('Predicted labels')\n",
        "    plt.ylabel('True labels')\n",
        "    plt.title('Confusion Matrix - NBC - 80:20')\n",
        "    plt.show()"
      ],
      "metadata": {
        "id": "t1C4hVhV1FCA"
      },
      "execution_count": null,
      "outputs": []
    },
    {
      "cell_type": "code",
      "source": [
        "labels = df['Label'].unique()"
      ],
      "metadata": {
        "id": "IEUvBdPV1crJ"
      },
      "execution_count": null,
      "outputs": []
    },
    {
      "cell_type": "code",
      "source": [
        "nb_cm = confusion_matrix(y_test, y_pred)\n",
        "plot_confusion_matrix(nb_cm, labels)"
      ],
      "metadata": {
        "colab": {
          "base_uri": "https://localhost:8080/",
          "height": 410
        },
        "id": "zOkucZih1aWR",
        "outputId": "5d986129-2f51-42c9-b699-5163892ed39b"
      },
      "execution_count": null,
      "outputs": [
        {
          "output_type": "display_data",
          "data": {
            "text/plain": [
              "<Figure size 600x400 with 1 Axes>"
            ],
            "image/png": "[encoded data removed]"
          },
          "metadata": {}
        }
      ]
    },
    {
      "cell_type": "markdown",
      "source": [
        "## **KLASIFIKASI SVM**"
      ],
      "metadata": {
        "id": "3odmnHB2jnDt"
      }
    },
    {
      "cell_type": "code",
      "source": [
        "from sklearn.svm import SVC\n",
        "from sklearn.metrics import accuracy_score, classification_report, confusion_matrix\n",
        "\n",
        "# Inisialisasi model SVM\n",
        "svm_model = SVC(kernel='linear')\n",
        "\n",
        "# Melatih model SVM\n",
        "svm_model.fit(X_train, y_train)\n",
        "\n",
        "# Membuat prediksi menggunakan model yang telah dilatih\n",
        "y_pred = svm_model.predict(X_test)\n",
        "\n",
        "# Menghitung akurasi prediksi\n",
        "accuracy = accuracy_score(y_test, y_pred)\n",
        "print(\"Akurasi:\", accuracy*100)\n",
        "\n",
        "\n",
        "# Tampilkan laporan klasifikasi\n",
        "print(\"Laporan Klasifikasi SVM - 80:20 :\")\n",
        "print(classification_report(y_test, y_pred))"
      ],
      "metadata": {
        "id": "390yG4fUwNLO",
        "colab": {
          "base_uri": "https://localhost:8080/"
        },
        "outputId": "a2929537-fbb7-4d60-dc61-ee85f2dfd983"
      },
      "execution_count": null,
      "outputs": [
        {
          "output_type": "stream",
          "name": "stdout",
          "text": [
            "Akurasi: 71.71717171717171\n",
            "Laporan Klasifikasi SVM - 80:20 :\n",
            "              precision    recall  f1-score   support\n",
            "\n",
            "          -1       0.66      0.85      0.74        47\n",
            "           1       0.82      0.60      0.69        52\n",
            "\n",
            "    accuracy                           0.72        99\n",
            "   macro avg       0.74      0.72      0.71        99\n",
            "weighted avg       0.74      0.72      0.71        99\n",
            "\n"
          ]
        }
      ]
    },
    {
      "cell_type": "code",
      "source": [
        "def plot_confusion_matrix(cm, labels):\n",
        "    plt.figure(figsize=(6, 4))\n",
        "    sns.heatmap(cm, annot=True, fmt='d', cmap='Reds', xticklabels=labels, yticklabels=labels, cbar=False)\n",
        "    plt.xlabel('Predicted labels')\n",
        "    plt.ylabel('True labels')\n",
        "    plt.title('Confusion Matrix - SVM - 80:20')\n",
        "    plt.show()"
      ],
      "metadata": {
        "id": "NwLUKIQ6oOGM"
      },
      "execution_count": null,
      "outputs": []
    },
    {
      "cell_type": "code",
      "source": [
        "labels = df['Label'].unique()"
      ],
      "metadata": {
        "id": "f-a8B1aLoOGN"
      },
      "execution_count": null,
      "outputs": []
    },
    {
      "cell_type": "code",
      "source": [
        "nb_cm = confusion_matrix(y_test, y_pred)\n",
        "plot_confusion_matrix(nb_cm, labels)"
      ],
      "metadata": {
        "colab": {
          "base_uri": "https://localhost:8080/",
          "height": 410
        },
        "outputId": "5ad9bd40-05e0-4d73-e377-8385e08221b3",
        "id": "Nc1jdrA9oOGO"
      },
      "execution_count": null,
      "outputs": [
        {
          "output_type": "display_data",
          "data": {
            "text/plain": [
              "<Figure size 600x400 with 1 Axes>"
            ],
            "image/png": "[encoded data removed]"
          },
          "metadata": {}
        }
      ]
    },
    {
      "cell_type": "markdown",
      "source": [
        "***SPLIT VALIDATION DATA***"
      ],
      "metadata": {
        "id": "UxOWfn-GvO8X"
      }
    },
    {
      "cell_type": "markdown",
      "source": [
        "70 : 30"
      ],
      "metadata": {
        "id": "rjEvhzSO8RRg"
      }
    },
    {
      "cell_type": "code",
      "source": [
        "from sklearn.model_selection import train_test_split\n",
        "\n",
        "X_train, X_test, y_train, y_test = train_test_split(tfidf_mat_unigram, df['Label'], test_size=0.3, random_state=42)\n"
      ],
      "metadata": {
        "id": "MYtf82aMbVLR"
      },
      "execution_count": null,
      "outputs": []
    },
    {
      "cell_type": "markdown",
      "source": [
        "##**KLASIFIKASI NAIVE BAYES**"
      ],
      "metadata": {
        "id": "drYbU1J-licA"
      }
    },
    {
      "cell_type": "code",
      "source": [
        "from sklearn.naive_bayes import MultinomialNB\n",
        "from sklearn.metrics import accuracy_score, classification_report, confusion_matrix\n",
        "\n",
        "# Inisialisasi model klasifikasi Naive Bayes\n",
        "nb_classifier = MultinomialNB()\n",
        "\n",
        "# Latih model menggunakan data latih\n",
        "nb_classifier.fit(X_train, y_train)\n",
        "\n",
        "# Lakukan prediksi menggunakan data uji\n",
        "y_pred = nb_classifier.predict(X_test)\n",
        "\n",
        "# Hitung akurasi prediksi\n",
        "accuracy = accuracy_score(y_test, y_pred)\n",
        "print(\"Akurasi Naive Bayes:\", accuracy*100)\n",
        "\n",
        "# Tampilkan laporan klasifikasi\n",
        "print(\"Laporan Klasifikasi Naive Bayes - 70:30 :\")\n",
        "print(classification_report(y_test, y_pred))\n"
      ],
      "metadata": {
        "colab": {
          "base_uri": "https://localhost:8080/"
        },
        "outputId": "04868efc-61df-4772-aa1d-8d4328f4bbdf",
        "id": "HmFdencfbVL3"
      },
      "execution_count": null,
      "outputs": [
        {
          "output_type": "stream",
          "name": "stdout",
          "text": [
            "Akurasi Naive Bayes: 77.7027027027027\n",
            "Laporan Klasifikasi Naive Bayes - 70:30 :\n",
            "              precision    recall  f1-score   support\n",
            "\n",
            "          -1       0.75      0.87      0.80        78\n",
            "           1       0.82      0.67      0.74        70\n",
            "\n",
            "    accuracy                           0.78       148\n",
            "   macro avg       0.79      0.77      0.77       148\n",
            "weighted avg       0.78      0.78      0.77       148\n",
            "\n"
          ]
        }
      ]
    },
    {
      "cell_type": "code",
      "source": [
        "def plot_confusion_matrix(cm, labels):\n",
        "    plt.figure(figsize=(6, 4))\n",
        "    sns.heatmap(cm, annot=True, fmt='d', cmap='Blues', xticklabels=labels, yticklabels=labels, cbar=False)\n",
        "    plt.xlabel('Predicted labels')\n",
        "    plt.ylabel('True labels')\n",
        "    plt.title('Confusion Matrix - NBC - 70:30')\n",
        "    plt.show()"
      ],
      "metadata": {
        "id": "RHN9i_7Btskh"
      },
      "execution_count": null,
      "outputs": []
    },
    {
      "cell_type": "code",
      "source": [
        "labels = df['Label'].unique()"
      ],
      "metadata": {
        "id": "6eScxaAMtslB"
      },
      "execution_count": null,
      "outputs": []
    },
    {
      "cell_type": "code",
      "source": [
        "nb_cm = confusion_matrix(y_test, y_pred)\n",
        "plot_confusion_matrix(nb_cm, labels)"
      ],
      "metadata": {
        "colab": {
          "base_uri": "https://localhost:8080/",
          "height": 410
        },
        "outputId": "b23f9a76-8b11-4a3f-b81c-a755c08dca79",
        "id": "DoWIqNNNtslC"
      },
      "execution_count": null,
      "outputs": [
        {
          "output_type": "display_data",
          "data": {
            "text/plain": [
              "<Figure size 600x400 with 1 Axes>"
            ],
            "image/png": "[encoded data removed]"
          },
          "metadata": {}
        }
      ]
    },
    {
      "cell_type": "markdown",
      "source": [
        "## **KLASIFIKASI SVM**"
      ],
      "metadata": {
        "id": "D7GEqZsilU11"
      }
    },
    {
      "cell_type": "code",
      "source": [
        "from sklearn.svm import SVC\n",
        "from sklearn.metrics import accuracy_score, classification_report, confusion_matrix\n",
        "\n",
        "# Inisialisasi model SVM\n",
        "svm_model = SVC(kernel='linear')\n",
        "\n",
        "# Melatih model SVM\n",
        "svm_model.fit(X_train, y_train)\n",
        "\n",
        "# Membuat prediksi menggunakan model yang telah dilatih\n",
        "y_pred = svm_model.predict(X_test)\n",
        "\n",
        "# Menghitung akurasi prediksi\n",
        "accuracy = accuracy_score(y_test, y_pred)\n",
        "print(\"Akurasi:\", accuracy*100)\n",
        "\n",
        "\n",
        "# Tampilkan laporan klasifikasi\n",
        "print(\"Laporan Klasifikasi SVM - 70:30 :\")\n",
        "print(classification_report(y_test, y_pred))"
      ],
      "metadata": {
        "colab": {
          "base_uri": "https://localhost:8080/"
        },
        "id": "za--33hHes5R",
        "outputId": "8c3423da-f099-4386-cb06-e115f6f0d4de"
      },
      "execution_count": null,
      "outputs": [
        {
          "output_type": "stream",
          "name": "stdout",
          "text": [
            "Akurasi: 77.02702702702703\n",
            "Laporan Klasifikasi SVM - 70:30 :\n",
            "              precision    recall  f1-score   support\n",
            "\n",
            "          -1       0.75      0.85      0.80        78\n",
            "           1       0.80      0.69      0.74        70\n",
            "\n",
            "    accuracy                           0.77       148\n",
            "   macro avg       0.78      0.77      0.77       148\n",
            "weighted avg       0.77      0.77      0.77       148\n",
            "\n"
          ]
        }
      ]
    },
    {
      "cell_type": "code",
      "source": [
        "def plot_confusion_matrix(cm, labels):\n",
        "    plt.figure(figsize=(6, 4))\n",
        "    sns.heatmap(cm, annot=True, fmt='d', cmap='Reds', xticklabels=labels, yticklabels=labels, cbar=False)\n",
        "    plt.xlabel('Predicted labels')\n",
        "    plt.ylabel('True labels')\n",
        "    plt.title('Confusion Matrix - SVM - 70:30')\n",
        "    plt.show()"
      ],
      "metadata": {
        "id": "qb1jSy0At4_D"
      },
      "execution_count": null,
      "outputs": []
    },
    {
      "cell_type": "code",
      "source": [
        "labels = df['Label'].unique()"
      ],
      "metadata": {
        "id": "7vDhfv2Lt4_E"
      },
      "execution_count": null,
      "outputs": []
    },
    {
      "cell_type": "code",
      "source": [
        "nb_cm = confusion_matrix(y_test, y_pred)\n",
        "plot_confusion_matrix(nb_cm, labels)"
      ],
      "metadata": {
        "colab": {
          "base_uri": "https://localhost:8080/",
          "height": 410
        },
        "outputId": "1e77dcc2-91d3-409e-d195-eef0f64be5ca",
        "id": "xAjam2xft4_F"
      },
      "execution_count": null,
      "outputs": [
        {
          "output_type": "display_data",
          "data": {
            "text/plain": [
              "<Figure size 600x400 with 1 Axes>"
            ],
            "image/png": "[encoded data removed]"
          },
          "metadata": {}
        }
      ]
    },
    {
      "cell_type": "markdown",
      "source": [
        "**SPLIT VALIDATION DATA**"
      ],
      "metadata": {
        "id": "pxa8LV-Ts_f1"
      }
    },
    {
      "cell_type": "markdown",
      "source": [
        "60 : 40"
      ],
      "metadata": {
        "id": "5jd0x63D7wFo"
      }
    },
    {
      "cell_type": "code",
      "source": [
        "from sklearn.model_selection import train_test_split\n",
        "\n",
        "X_train, X_test, y_train, y_test = train_test_split(tfidf_mat_unigram, df['Label'], test_size=0.4, random_state=42)\n"
      ],
      "metadata": {
        "id": "naSskdzdawrX"
      },
      "execution_count": null,
      "outputs": []
    },
    {
      "cell_type": "markdown",
      "source": [
        "##**KLASIFIKASI NAIVE BAYES**"
      ],
      "metadata": {
        "id": "KcexgmVQlqsT"
      }
    },
    {
      "cell_type": "code",
      "source": [
        "from sklearn.naive_bayes import MultinomialNB\n",
        "from sklearn.metrics import accuracy_score, classification_report, confusion_matrix\n",
        "\n",
        "# Inisialisasi model klasifikasi Naive Bayes\n",
        "nb_classifier = MultinomialNB()\n",
        "\n",
        "# Latih model menggunakan data latih\n",
        "nb_classifier.fit(X_train, y_train)\n",
        "\n",
        "# Lakukan prediksi menggunakan data uji\n",
        "y_pred = nb_classifier.predict(X_test)\n",
        "\n",
        "# Hitung akurasi prediksi\n",
        "accuracy = accuracy_score(y_test, y_pred)\n",
        "print(\"Akurasi Naive Bayes:\", accuracy*100)\n",
        "\n",
        "# Tampilkan laporan klasifikasi\n",
        "print(\"Laporan Klasifikasi Naive Bayes - 60:40 :\")\n",
        "print(classification_report(y_test, y_pred))"
      ],
      "metadata": {
        "colab": {
          "base_uri": "https://localhost:8080/"
        },
        "outputId": "c408d51c-ebaa-4b80-c610-c1c646a5eecd",
        "id": "Pdnp6Rp5kAq7"
      },
      "execution_count": null,
      "outputs": [
        {
          "output_type": "stream",
          "name": "stdout",
          "text": [
            "Akurasi Naive Bayes: 76.6497461928934\n",
            "Laporan Klasifikasi Naive Bayes - 60:40 :\n",
            "              precision    recall  f1-score   support\n",
            "\n",
            "          -1       0.78      0.82      0.80       110\n",
            "           1       0.75      0.70      0.73        87\n",
            "\n",
            "    accuracy                           0.77       197\n",
            "   macro avg       0.76      0.76      0.76       197\n",
            "weighted avg       0.77      0.77      0.77       197\n",
            "\n"
          ]
        }
      ]
    },
    {
      "cell_type": "code",
      "source": [
        "def plot_confusion_matrix(cm, labels):\n",
        "    plt.figure(figsize=(6, 4))\n",
        "    sns.heatmap(cm, annot=True, fmt='d', cmap='Blues', xticklabels=labels, yticklabels=labels, cbar=False)\n",
        "    plt.xlabel('Predicted labels')\n",
        "    plt.ylabel('True labels')\n",
        "    plt.title('Confusion Matrix - NBC - 60:40')\n",
        "    plt.show()"
      ],
      "metadata": {
        "id": "BCCox-yapQMq"
      },
      "execution_count": null,
      "outputs": []
    },
    {
      "cell_type": "code",
      "source": [
        "labels = df['Label'].unique()"
      ],
      "metadata": {
        "id": "VCvUKGERpQMs"
      },
      "execution_count": null,
      "outputs": []
    },
    {
      "cell_type": "code",
      "source": [
        "nb_cm = confusion_matrix(y_test, y_pred)\n",
        "plot_confusion_matrix(nb_cm, labels)"
      ],
      "metadata": {
        "colab": {
          "base_uri": "https://localhost:8080/",
          "height": 410
        },
        "outputId": "b2307aa9-0970-40ec-9f97-6c86c05492da",
        "id": "5DjITb4GpQMt"
      },
      "execution_count": null,
      "outputs": [
        {
          "output_type": "display_data",
          "data": {
            "text/plain": [
              "<Figure size 600x400 with 1 Axes>"
            ],
            "image/png": "[encoded data removed]"
          },
          "metadata": {}
        }
      ]
    },
    {
      "cell_type": "markdown",
      "source": [
        "## **KLASIFIKASI SVM**"
      ],
      "metadata": {
        "id": "poHbhD6VlHBp"
      }
    },
    {
      "cell_type": "code",
      "source": [
        "from sklearn.svm import SVC\n",
        "from sklearn.metrics import accuracy_score, classification_report, confusion_matrix\n",
        "\n",
        "# Inisialisasi model SVM\n",
        "svm_model = SVC(kernel='linear')\n",
        "\n",
        "# Melatih model SVM\n",
        "svm_model.fit(X_train, y_train)\n",
        "\n",
        "# Membuat prediksi menggunakan model yang telah dilatih\n",
        "y_pred = svm_model.predict(X_test)\n",
        "\n",
        "# Menghitung akurasi prediksi\n",
        "accuracy = accuracy_score(y_test, y_pred)\n",
        "print(\"Akurasi:\", accuracy*100)\n",
        "\n",
        "\n",
        "# Tampilkan laporan klasifikasi\n",
        "print(\"Laporan Klasifikasi SVM - 60:40 :\")\n",
        "print(classification_report(y_test, y_pred))"
      ],
      "metadata": {
        "colab": {
          "base_uri": "https://localhost:8080/"
        },
        "outputId": "d95337b2-3274-41fa-9e51-b99dc91cd600",
        "id": "jkPyqMLLdPfr"
      },
      "execution_count": null,
      "outputs": [
        {
          "output_type": "stream",
          "name": "stdout",
          "text": [
            "Akurasi: 73.60406091370558\n",
            "Laporan Klasifikasi SVM - 60:40 :\n",
            "              precision    recall  f1-score   support\n",
            "\n",
            "          -1       0.76      0.77      0.77       110\n",
            "           1       0.71      0.69      0.70        87\n",
            "\n",
            "    accuracy                           0.74       197\n",
            "   macro avg       0.73      0.73      0.73       197\n",
            "weighted avg       0.74      0.74      0.74       197\n",
            "\n"
          ]
        }
      ]
    },
    {
      "cell_type": "code",
      "source": [
        "def plot_confusion_matrix(cm, labels):\n",
        "    plt.figure(figsize=(6, 4))\n",
        "    sns.heatmap(cm, annot=True, fmt='d', cmap='Reds', xticklabels=labels, yticklabels=labels, cbar=False)\n",
        "    plt.xlabel('Predicted labels')\n",
        "    plt.ylabel('True labels')\n",
        "    plt.title('Confusion Matrix - SVM - 60:40')\n",
        "    plt.show()"
      ],
      "metadata": {
        "id": "7isfY1lMtaG9"
      },
      "execution_count": null,
      "outputs": []
    },
    {
      "cell_type": "code",
      "source": [
        "labels = df['Label'].unique()"
      ],
      "metadata": {
        "id": "zqBf-YtAtaG_"
      },
      "execution_count": null,
      "outputs": []
    },
    {
      "cell_type": "code",
      "source": [
        "nb_cm = confusion_matrix(y_test, y_pred)\n",
        "plot_confusion_matrix(nb_cm, labels)"
      ],
      "metadata": {
        "colab": {
          "base_uri": "https://localhost:8080/",
          "height": 410
        },
        "outputId": "5a6cabd8-27b2-48aa-faf9-764e07ddfd7d",
        "id": "mRplrCV4taHA"
      },
      "execution_count": null,
      "outputs": [
        {
          "output_type": "display_data",
          "data": {
            "text/plain": [
              "<Figure size 600x400 with 1 Axes>"
            ],
            "image/png": "[encoded data removed]"
          },
          "metadata": {}
        }
      ]
    }
  ],
  "metadata": {
    "colab": {
      "provenance": []
    },
    "kernelspec": {
      "display_name": "Python 3",
      "name": "python3"
    },
    "language_info": {
      "name": "python"
    }
  },
  "nbformat": 4,
  "nbformat_minor": 0
}